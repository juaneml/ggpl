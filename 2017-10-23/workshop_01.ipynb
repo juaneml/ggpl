{
 "cells": [
  {
   "cell_type": "markdown",
   "metadata": {
    "collapsed": true
   },
   "source": [
    "#From PLaSM classic to Pyplasm"
   ]
  },
  {
   "cell_type": "code",
   "execution_count": 1,
   "metadata": {},
   "outputs": [
    {
     "name": "stdout",
     "output_type": "stream",
     "text": [
      "Evaluating fenvs.py..\n",
      "...fenvs.py imported in 0.006265 seconds\n"
     ]
    }
   ],
   "source": [
    "from pyplasm import *"
   ]
  },
  {
   "cell_type": "code",
   "execution_count": 2,
   "metadata": {
    "collapsed": true,
    "scrolled": true
   },
   "outputs": [],
   "source": [
    "from larlib import *"
   ]
  },
  {
   "cell_type": "markdown",
   "metadata": {},
   "source": [
    "##Polyhedral complex\n",
    "Model of a 2D L-shaped polygon are given as polyhedral complexes, by using the **MKPOL** primitive. At this point the sequence of polygon vertices is associated with the symbol **verts**, the tow convex cells are given as sequences of indices of vertices, and associated with the **cells** symbol. Finally, a set of polyhedral cells, each one defined as a sequence of cell indices, is associated with the **pols** symbol."
   ]
  },
  {
   "cell_type": "markdown",
   "metadata": {},
   "source": [
    "###PLaSM classic code\n",
    "***\n",
    "    DEF L_shape1 = MKPOL:<verts, cells, pols>  \n",
    "    WHERE\n",
    "           verts = <<0,0>,<2,0>,<2,1>,<1,1>,<1,2>,<0,2>>,      \n",
    "           cells = <<1,2,3,4>,<4,5,6,1>>,  \n",
    "           pols  = <<1>,<2>>  \n",
    "   \n",
    "    END;  \n",
    "***    "
   ]
  },
  {
   "cell_type": "markdown",
   "metadata": {},
   "source": [
    "###Python code"
   ]
  },
  {
   "cell_type": "code",
   "execution_count": 3,
   "metadata": {
    "collapsed": true
   },
   "outputs": [],
   "source": [
    "def L_shape1():\n",
    "    verts = [ [0,0],[2,0],[2,1],[1,1],[1,2],[0,2] ]\n",
    "    cells = [ [1,2,3,4],[4,5,6,1] ]\n",
    "    pols  = [ [1],[2] ]\n",
    "    return MKPOL([verts,cells,pols])\n"
   ]
  },
  {
   "cell_type": "code",
   "execution_count": 4,
   "metadata": {},
   "outputs": [
    {
     "data": {
      "text/plain": [
       "<pyplasm.xgepy.Hpc; proxy of <Swig Object of type 'std::shared_ptr< Hpc > *' at 0x1818a93420> >"
      ]
     },
     "execution_count": 4,
     "metadata": {},
     "output_type": "execute_result"
    }
   ],
   "source": [
    "VIEW(L_shape1())"
   ]
  },
  {
   "cell_type": "markdown",
   "metadata": {},
   "source": [
    "###Image Polyhedral complex"
   ]
  },
  {
   "cell_type": "markdown",
   "metadata": {},
   "source": [
    "![Con titulo](L_shape1.png)"
   ]
  },
  {
   "cell_type": "markdown",
   "metadata": {},
   "source": [
    "##Table assembly\n",
    "Definitions of the Table model. Use model displayed in the assembly components (four Leg instances and one Plane instance)."
   ]
  },
  {
   "cell_type": "markdown",
   "metadata": {},
   "source": [
    "###PLaSM classic code \n",
    "***\n",
    "    DEF Leg = CUBOID:<0.1,0.1,0.7>;\n",
    "    DEF Plane = CUBOID:<1,1,0.2>;\n",
    "    \n",
    "    DEF TABLE = STRUCT:<\n",
    "        Leg, T:1:0.9, Leg, T:2:0.9, Leg, T:1:-0.9, Leg,\n",
    "        T:<2,3>:<-0.9,0.7>, Plane >;\n",
    "***"
   ]
  },
  {
   "cell_type": "markdown",
   "metadata": {},
   "source": [
    "###Python code"
   ]
  },
  {
   "cell_type": "code",
   "execution_count": 5,
   "metadata": {
    "collapsed": true
   },
   "outputs": [],
   "source": [
    "def Leg():\n",
    "    return CUBOID([0.1,0.1,0.7])"
   ]
  },
  {
   "cell_type": "code",
   "execution_count": 6,
   "metadata": {
    "collapsed": true
   },
   "outputs": [],
   "source": [
    "def Plane():\n",
    "    return CUBOID([1,1,0.2])"
   ]
  },
  {
   "cell_type": "code",
   "execution_count": 7,
   "metadata": {
    "collapsed": true
   },
   "outputs": [],
   "source": [
    "def Table():\n",
    "    return STRUCT([Leg(),T(1)(0.9),Leg(),T(2)(0.9),Leg(),T(1)(-0.9),Leg(),T([2,3])([-0.9,0.7]),Plane()])"
   ]
  },
  {
   "cell_type": "code",
   "execution_count": 8,
   "metadata": {},
   "outputs": [
    {
     "data": {
      "text/plain": [
       "<pyplasm.xgepy.Hpc; proxy of <Swig Object of type 'std::shared_ptr< Hpc > *' at 0x1818a93a80> >"
      ]
     },
     "execution_count": 8,
     "metadata": {},
     "output_type": "execute_result"
    }
   ],
   "source": [
    "VIEW(Table())"
   ]
  },
  {
   "cell_type": "markdown",
   "metadata": {},
   "source": [
    "###Image Table model"
   ]
  },
  {
   "cell_type": "markdown",
   "metadata": {},
   "source": [
    "![Con titulo](Table_shape.png)"
   ]
  },
  {
   "cell_type": "code",
   "execution_count": null,
   "metadata": {
    "collapsed": true
   },
   "outputs": [],
   "source": []
  }
 ],
 "metadata": {
  "celltoolbar": "Raw Cell Format",
  "kernelspec": {
   "display_name": "Python 2",
   "language": "python",
   "name": "python2"
  },
  "language_info": {
   "codemirror_mode": {
    "name": "ipython",
    "version": 2
   },
   "file_extension": ".py",
   "mimetype": "text/x-python",
   "name": "python",
   "nbconvert_exporter": "python",
   "pygments_lexer": "ipython2",
   "version": "2.7.12"
  }
 },
 "nbformat": 4,
 "nbformat_minor": 2
}
