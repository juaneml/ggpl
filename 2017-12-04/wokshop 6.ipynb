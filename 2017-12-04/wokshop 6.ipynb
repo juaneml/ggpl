{
 "cells": [
  {
   "cell_type": "markdown",
   "metadata": {},
   "source": [
    "# Workshop 6"
   ]
  },
  {
   "cell_type": "markdown",
   "metadata": {},
   "source": [
    "# Modello geometrico di S. Stefano Rotondo al Celio "
   ]
  },
  {
   "cell_type": "markdown",
   "metadata": {},
   "source": [
    "# Modello dela Gerusalemme Celeste"
   ]
  },
  {
   "cell_type": "code",
   "execution_count": 1,
   "metadata": {},
   "outputs": [
    {
     "name": "stdout",
     "output_type": "stream",
     "text": [
      "Evaluating fenvs.py..\n",
      "...fenvs.py imported in 0.007116 seconds\n"
     ]
    }
   ],
   "source": [
    "from pyplasm import *"
   ]
  },
  {
   "cell_type": "code",
   "execution_count": 2,
   "metadata": {
    "collapsed": true
   },
   "outputs": [],
   "source": [
    "from larlib import *"
   ]
  },
  {
   "cell_type": "markdown",
   "metadata": {},
   "source": [
    "##  Misure de riferimento-- (cubito = 0.462 m)"
   ]
  },
  {
   "cell_type": "markdown",
   "metadata": {},
   "source": [
    "### 1 cubito = 444mm"
   ]
  },
  {
   "cell_type": "markdown",
   "metadata": {},
   "source": [
    "***\n",
    "    %-- 1 cubito = 444 mm ----------------------------------------%\n",
    "    DEF r0 = 24; %---cubiti; raggio interno del muro interno------%\n",
    "    DEF r2 = 48; %---cubiti; raggio esterno del muro medio--------%\n",
    "    DEF r3 = 72; %---cubiti; raggio esterno del muro esterno------%\n",
    "    DEF r4 = 88; %---cubiti; raggio esterno scale esterne---------%\n",
    "\n",
    "    DEF wsteps = 10;  %---cubiti; profondita' scale esterne-------%\n",
    "    DEF nsteps = 10;  %---numero alzate/pedate scale esterne------%\n",
    "    DEF wstep = wsteps/nsteps; %---cubiti; larghezza pedata-------%\n",
    "    DEF hstep = 1/3; %---cubiti; altezza alzata-------------------%\n",
    "    DEF hw4 = 29; %--cubiti; altezza all'imposta del muro esterno-%\n",
    "    DEF hbasament = hstep*nsteps;\n",
    "***"
   ]
  },
  {
   "cell_type": "code",
   "execution_count": 3,
   "metadata": {
    "collapsed": true
   },
   "outputs": [],
   "source": [
    "r0 = 24.0"
   ]
  },
  {
   "cell_type": "code",
   "execution_count": 4,
   "metadata": {
    "collapsed": true
   },
   "outputs": [],
   "source": [
    "r2 = 48.0"
   ]
  },
  {
   "cell_type": "code",
   "execution_count": 5,
   "metadata": {
    "collapsed": true
   },
   "outputs": [],
   "source": [
    "r3 = 72.0"
   ]
  },
  {
   "cell_type": "code",
   "execution_count": 6,
   "metadata": {
    "collapsed": true
   },
   "outputs": [],
   "source": [
    "r4 = 88.0"
   ]
  },
  {
   "cell_type": "code",
   "execution_count": 7,
   "metadata": {
    "collapsed": true
   },
   "outputs": [],
   "source": [
    "wsteps = 10.0"
   ]
  },
  {
   "cell_type": "code",
   "execution_count": 8,
   "metadata": {
    "collapsed": true
   },
   "outputs": [],
   "source": [
    "nsteps = 10.0"
   ]
  },
  {
   "cell_type": "code",
   "execution_count": 9,
   "metadata": {
    "collapsed": true
   },
   "outputs": [],
   "source": [
    "wstep = wsteps/nsteps"
   ]
  },
  {
   "cell_type": "code",
   "execution_count": 10,
   "metadata": {
    "collapsed": true
   },
   "outputs": [],
   "source": [
    "hstep = 1.0/3.0"
   ]
  },
  {
   "cell_type": "code",
   "execution_count": 11,
   "metadata": {
    "collapsed": true
   },
   "outputs": [],
   "source": [
    "hw4 = 29.0"
   ]
  },
  {
   "cell_type": "code",
   "execution_count": 12,
   "metadata": {
    "collapsed": true
   },
   "outputs": [],
   "source": [
    "hbasament = (hstep*nsteps)*1.0"
   ]
  },
  {
   "cell_type": "markdown",
   "metadata": {},
   "source": [
    "## Mappa cilindrica"
   ]
  },
  {
   "cell_type": "markdown",
   "metadata": {
    "collapsed": true
   },
   "source": [
    "***\n",
    "    DEF cylMap = MAP:[S2 * sin ~ S1, S2 * cos ~ S1, S3];\n",
    "***"
   ]
  },
  {
   "cell_type": "code",
   "execution_count": 13,
   "metadata": {
    "collapsed": true
   },
   "outputs": [],
   "source": [
    "def cylMap():\n",
    "   \n",
    "    return MAP([lambda s2: s2[1]*math.sin(s2[0]), \n",
    "                lambda s2: s2[1]*math.cos(s2[0]),\n",
    "                lambda s3: s3[2]])"
   ]
  },
  {
   "cell_type": "markdown",
   "metadata": {},
   "source": [
    "\n",
    "## Scala esterna"
   ]
  },
  {
   "cell_type": "markdown",
   "metadata": {},
   "source": [
    "***\n",
    "    DEF vdom (h::IsRealPos) = ((EMBED:1 ~ Intervals:(PI*3/24)):3) * QUOTE:<h>;\n",
    "    DEF hdom (w::IsRealPos) = (S:2:-1 ~ EMBED:1):(Intervals:(PI*3/24):3 * QUOTE:<w>);\n",
    "\n",
    "    DEF steps (w,h::IsRealPos) (n::IsIntPos) = (STRUCT ~ CAT ~ #:n):\n",
    "      < vdom:h, T:3:h, hdom:w, T:2:(-:w) >;\n",
    "\n",
    "    DEF hbasament = hstep*nsteps;\n",
    "    DEF stair = (MKPOL ~ UKPOL):(steps:<wstep,hstep>:nsteps  \n",
    "                  RIGHT (S:2:-1 ~ @2 ~ CUBOID):<PI/24,wsteps,hbasament>);\n",
    "    DEF ramp  = cylMap:(T:2:r4:stair);\n",
    "    DEF stairs = (STRUCT ~ ##:12):<ramp, R:<1,2>:(PI/6)>;\n",
    "***"
   ]
  },
  {
   "cell_type": "code",
   "execution_count": 14,
   "metadata": {
    "collapsed": true
   },
   "outputs": [],
   "source": [
    "def vdom(h):\n",
    "    return PROD([COMP([EMBED(1),INTERVALS(PI*3.0/24.0)])(3),QUOTE([h])])"
   ]
  },
  {
   "cell_type": "code",
   "execution_count": 15,
   "metadata": {
    "collapsed": true
   },
   "outputs": [],
   "source": [
    "def hdom(w):\n",
    "    return COMP([S(2)(-1),EMBED(1)])(PROD([INTERVALS(PI*3.0/24.0)(3),QUOTE([w])]))"
   ]
  },
  {
   "cell_type": "code",
   "execution_count": 16,
   "metadata": {
    "collapsed": true
   },
   "outputs": [],
   "source": [
    "def steps (w,h):\n",
    "    def steps1(n):\n",
    "        return COMP([STRUCT,CAT,N(n)])([vdom(h),T(3)(h),hdom(w),T(2)(-w)])\n",
    "    return steps1"
   ]
  },
  {
   "cell_type": "code",
   "execution_count": 17,
   "metadata": {
    "collapsed": true
   },
   "outputs": [],
   "source": [
    "hbasament = hstep*nsteps"
   ]
  },
  {
   "cell_type": "code",
   "execution_count": 18,
   "metadata": {
    "collapsed": true
   },
   "outputs": [],
   "source": [
    "stair = RIGHT ([ COMP([MKPOL,UKPOL])(steps(wstep,hstep)(nsteps)),\n",
    "                COMP([S(2)(-1),SKEL_2,CUBOID])([PI/24.0,wsteps,hbasament]) ])"
   ]
  },
  {
   "cell_type": "code",
   "execution_count": 19,
   "metadata": {
    "collapsed": true
   },
   "outputs": [],
   "source": [
    "ramp = cylMap()(T(2)(r4)(stair))"
   ]
  },
  {
   "cell_type": "code",
   "execution_count": 20,
   "metadata": {
    "collapsed": true
   },
   "outputs": [],
   "source": [
    "stairs = STRUCT(NN(12)([ramp,R([1,2])(PI/6.0)]))"
   ]
  },
  {
   "cell_type": "code",
   "execution_count": 21,
   "metadata": {},
   "outputs": [
    {
     "data": {
      "text/plain": [
       "<pyplasm.xgepy.Hpc; proxy of <Swig Object of type 'std::shared_ptr< Hpc > *' at 0x1818cdf3f0> >"
      ]
     },
     "execution_count": 21,
     "metadata": {},
     "output_type": "execute_result"
    }
   ],
   "source": [
    "VIEW(stairs)"
   ]
  },
  {
   "cell_type": "markdown",
   "metadata": {},
   "source": [
    "### Image Stairs"
   ]
  },
  {
   "cell_type": "markdown",
   "metadata": {},
   "source": [
    "![](img/stairs.png)"
   ]
  },
  {
   "cell_type": "markdown",
   "metadata": {},
   "source": [
    "## BASAMENTO\n"
   ]
  },
  {
   "cell_type": "markdown",
   "metadata": {},
   "source": [
    "***\n",
    "    DEF basisSector = (cylMap ~ EMBED:1):\n",
    "        (Intervals:(2*PI/12):4 * Intervals:(r4 - (wstep*(nsteps - 1))):1);\n",
    "    DEF basis = (STRUCT ~ ##:12):<basisSector, R:<1,2>:(2*PI/12)>;\n",
    "    DEF basement = (R:<1,2>:(PI/-48) ~ STRUCT):< stairs, T:3:(hstep*nsteps), basis >;\n",
    "***"
   ]
  },
  {
   "cell_type": "code",
   "execution_count": 22,
   "metadata": {
    "collapsed": true
   },
   "outputs": [],
   "source": [
    "def basisSector():\n",
    "    return COMP([cylMap(),EMBED(1)])(PROD([INTERVALS(2*PI/12)(4),\n",
    "                                           INTERVALS(r4-(wstep*(nsteps-1)))(1)]))"
   ]
  },
  {
   "cell_type": "code",
   "execution_count": 23,
   "metadata": {
    "collapsed": true
   },
   "outputs": [],
   "source": [
    "def basis():\n",
    "    return COMP([STRUCT,NN(12)])([basisSector(),\n",
    "                                  R([1,2])(2*PI/12)])"
   ]
  },
  {
   "cell_type": "code",
   "execution_count": 24,
   "metadata": {
    "collapsed": true
   },
   "outputs": [],
   "source": [
    "def basement():\n",
    "    return COMP([R([1,2])(PI/-48),\n",
    "                 STRUCT])([stairs,T(3)(hstep*nsteps),basis()])"
   ]
  },
  {
   "cell_type": "code",
   "execution_count": 25,
   "metadata": {},
   "outputs": [
    {
     "data": {
      "text/plain": [
       "<pyplasm.xgepy.Hpc; proxy of <Swig Object of type 'std::shared_ptr< Hpc > *' at 0x1818cdfd80> >"
      ]
     },
     "execution_count": 25,
     "metadata": {},
     "output_type": "execute_result"
    }
   ],
   "source": [
    "VIEW(basement())"
   ]
  },
  {
   "cell_type": "markdown",
   "metadata": {
    "collapsed": true
   },
   "source": [
    "### Image basamento"
   ]
  },
  {
   "cell_type": "markdown",
   "metadata": {},
   "source": [
    "![](img/basamento.png)"
   ]
  },
  {
   "cell_type": "markdown",
   "metadata": {},
   "source": [
    "## Muro externo"
   ]
  },
  {
   "cell_type": "markdown",
   "metadata": {},
   "source": [
    "***\n",
    "    DEF ExtWall2Da = MKPOL:<<<0,0>,<7,0>,<7,5>,<0,8>,<7,3>,<9,4>,\n",
    "    <10.5,1.5>,<10.5,0>,<11,1.5>,<11,3>>,<1..4,<2,8,7,6,5>,<6,7,9,10>>,\n",
    "    <<1>,<2>,<3>>> & ((Q ~ #:12):1 * Q:8);\n",
    "    DEF ExtWall2Db = MKPOL:<<<0.5,0>,<4,0>,<5,0>,<6,0>,<6,3>,<5.5,3.5>,\n",
    "      <5,3>,<4.5,3.5>,<4,3>,<2,4>,<0,3>,<0,1.5>,<0.5,1.5>>,\n",
    "      <<10,11,12,13>,<1,2,9,10,13>,<2,3,7,8,9>,<3,4,5,6,7>>,<1..4>> \n",
    "    &  ((Q ~ #:6):1 * Q:4);\n",
    "    DEF ExtWall2D = STRUCT:<ExtWall2Da, T:1:11, ExtWall2Db>;\n",
    "    DEF sizxExtWall = SIZE:1:ExtWall2D;\n",
    "\n",
    "    DEF ExtWall = R:<2,3>:(PI/2):(ExtWall2D * QUOTE:<1.5>);\n",
    "    DEF CurvedExtWall = (cylMap ~ T:2:r3 ~ S:<1,3>:<PI/(4*sizxExtWall),hw4/8>):   ExtWall;\n",
    "    DEF DoubleExtWall = STRUCT:<CurvedExtWall, S:1:-1, CurvedExtWall>;\n",
    "    DEF FullExtWall = (STRUCT ~ ##:4):<DoubleExtWall, R:<1,2>:(PI/2)>;\n",
    "***"
   ]
  },
  {
   "cell_type": "markdown",
   "metadata": {},
   "source": [
    "***\n",
    "    STRUCT:<basement, T:3:hbasament, FullExtWall>;\n",
    "***"
   ]
  },
  {
   "cell_type": "code",
   "execution_count": 26,
   "metadata": {
    "collapsed": true
   },
   "outputs": [],
   "source": [
    "def ExtWall2Da():\n",
    "    return INTERSECTION([\n",
    "    MKPOL([[[0,0],[7,0],[7,5],[0,8],[7,3],[9,4],\n",
    "        [10.5,1.5],[10.5,0],[11,1.5],[11,3]],\n",
    "        [range(1,5),[2,8,7,6,5],[6,7,9,10]],[[1],[2],[3]]]),\n",
    "    PROD([COMP([QUOTE,N(12)])(1),Q(8)])])"
   ]
  },
  {
   "cell_type": "code",
   "execution_count": 27,
   "metadata": {
    "collapsed": true
   },
   "outputs": [],
   "source": [
    "def ExtWall2Db():\n",
    "    return INTERSECTION([\n",
    "        MKPOL([[[0.5,0],[4,0],[5,0],[6,0],[6,3],[5.5,3.5],\n",
    "            [5,3],[4.5,3.5],[4,3],[2,4],[0,3],[0,1.5],[0.5,1.5]],\n",
    "            [[10,11,12,13],[1,2,9,10,13],[2,3,7,8,9],[3,4,5,6,7]],\n",
    "            range(1,5)]),\n",
    "        PROD([COMP([QUOTE,N(6)])(1),Q(4)])\n",
    "    ])"
   ]
  },
  {
   "cell_type": "code",
   "execution_count": 28,
   "metadata": {
    "collapsed": true
   },
   "outputs": [],
   "source": [
    "def ExtWall2D():\n",
    "    return STRUCT([ExtWall2Da(),\n",
    "                   T(1)(11),ExtWall2Db()])"
   ]
  },
  {
   "cell_type": "code",
   "execution_count": 29,
   "metadata": {
    "collapsed": true
   },
   "outputs": [],
   "source": [
    "def sizxExtWall():\n",
    "    return SIZE(1)(ExtWall2D())"
   ]
  },
  {
   "cell_type": "code",
   "execution_count": 30,
   "metadata": {
    "collapsed": true
   },
   "outputs": [],
   "source": [
    "def ExtWall():\n",
    "    return R([2,3])(PI/2)(PROD([ExtWall2D(),\n",
    "                                QUOTE([1,5])]))"
   ]
  },
  {
   "cell_type": "code",
   "execution_count": 31,
   "metadata": {
    "collapsed": true
   },
   "outputs": [],
   "source": [
    "def CurvedExtWall():\n",
    "    return COMP([cylMap(),T(2)(r3),\n",
    "                 S([1,3])([PI/(4*sizxExtWall()),hw4/8])])(ExtWall())"
   ]
  },
  {
   "cell_type": "code",
   "execution_count": 32,
   "metadata": {
    "collapsed": true
   },
   "outputs": [],
   "source": [
    "def DoubleExtWall():\n",
    "    return STRUCT([CurvedExtWall(),S(1)(-1),\n",
    "                   CurvedExtWall()])"
   ]
  },
  {
   "cell_type": "code",
   "execution_count": 33,
   "metadata": {
    "collapsed": true
   },
   "outputs": [],
   "source": [
    "def FullExtWall():\n",
    "    return COMP([STRUCT,NN(4)])([DoubleExtWall(),R([1,2])(PI/2)])"
   ]
  },
  {
   "cell_type": "code",
   "execution_count": 34,
   "metadata": {},
   "outputs": [
    {
     "data": {
      "text/plain": [
       "<pyplasm.xgepy.Hpc; proxy of <Swig Object of type 'std::shared_ptr< Hpc > *' at 0x1818ccfe70> >"
      ]
     },
     "execution_count": 34,
     "metadata": {},
     "output_type": "execute_result"
    }
   ],
   "source": [
    "VIEW(FullExtWall())"
   ]
  },
  {
   "cell_type": "markdown",
   "metadata": {},
   "source": [
    "### Image FullExtWall"
   ]
  },
  {
   "cell_type": "markdown",
   "metadata": {},
   "source": [
    "![](img/Full_Ext_wall.png)"
   ]
  },
  {
   "cell_type": "code",
   "execution_count": 35,
   "metadata": {},
   "outputs": [
    {
     "data": {
      "text/plain": [
       "<pyplasm.xgepy.Hpc; proxy of <Swig Object of type 'std::shared_ptr< Hpc > *' at 0x181f202c00> >"
      ]
     },
     "execution_count": 35,
     "metadata": {},
     "output_type": "execute_result"
    }
   ],
   "source": [
    "VIEW(STRUCT([basement(),T(3)(hbasament),FullExtWall()]))"
   ]
  },
  {
   "cell_type": "markdown",
   "metadata": {},
   "source": [
    "### Image aggr1"
   ]
  },
  {
   "cell_type": "markdown",
   "metadata": {},
   "source": [
    "![](img/aggr1.png)"
   ]
  },
  {
   "cell_type": "markdown",
   "metadata": {},
   "source": [
    "## Colonne intermedie"
   ]
  },
  {
   "cell_type": "markdown",
   "metadata": {},
   "source": [
    "***\n",
    "    DEF Column (w,h::IsRealPos) = basis TOP trunk TOP capitel\n",
    "    WHERE\n",
    "      basis = CUBOID:<w,w,2*w/3>,\n",
    "      trunk = CYLINDER:<w/2*0.85, h - w>:8,\n",
    "      capitel = CUBOID:<w,w,w/3>\n",
    "    END;\n",
    "    DEF arcAngle = 2*PI/50.4;\n",
    "    DEF wallAngle = -3.2*arcAngle/4;\n",
    "    DEF RotCross = 3.2*arcAngle/4 + 2.5*arcAngle;\n",
    "\n",
    "    DEF MyColumn = (MKPOL ~ UKPOL ~ T:2:((r2 - 0.75)) ~ Column):<1.5,hCol>;\n",
    "    DEF The4cols = (R:<1,2>:(arcAngle*0.4/3.2) ~ MKPOL ~ UKPOL ~ \n",
    "      STRUCT ~ ##:4):< R:<1,2>:(-:arcAngle), MyColumn >;\n",
    "    DEF The5cols = (R:<1,2>:(arcAngle*0.4/3.2) ~ MKPOL ~ UKPOL ~ \n",
    "      STRUCT ~ ##:5):< R:<1,2>:(-:arcAngle), MyColumn >;\n",
    "    DEF TheBotWal = (cylMap ~ MKPOL ~ UKPOL ~ T:2:(r2 - 0.75) ~ CUBOID):\n",
    "      < 3.2*arcAngle/4, 1.5, hCol >;\n",
    "    DEF TheSecCols = STRUCT:< R:<1,2>:RotCross,\n",
    "      TheBotWal, R:<1,2>:wallAngle, \n",
    "      The4cols, R:<1,2>:(-5*arcAngle), \n",
    "      TheBotWal, R:<1,2>:wallAngle, \n",
    "      The5cols >;\n",
    "    DEF TheMedColumns = (STRUCT ~ ##:4):<TheSecCols, R:<1,2>:(PI/-2)>;\n",
    "    DEF hCol = 12 ;\n",
    "***"
   ]
  },
  {
   "cell_type": "markdown",
   "metadata": {},
   "source": [
    "***\n",
    "    STRUCT:<basement, T:3:hbasament, FullExtWall, TheMedColumns >;\n",
    "***"
   ]
  },
  {
   "cell_type": "code",
   "execution_count": 36,
   "metadata": {
    "collapsed": true
   },
   "outputs": [],
   "source": [
    "def Column(argomento):\n",
    "    w,h = argomento\n",
    "    basis = CUBOID([w,w,2*w/3])\n",
    "    trunk = CYLINDER([w/2*0.85,h-w])(8)\n",
    "    capitel = CUBOID([w,w,w/3])\n",
    "    return TOP([TOP([basis,trunk]),capitel])"
   ]
  },
  {
   "cell_type": "code",
   "execution_count": 37,
   "metadata": {
    "collapsed": true
   },
   "outputs": [],
   "source": [
    "hCol = 12"
   ]
  },
  {
   "cell_type": "code",
   "execution_count": 38,
   "metadata": {
    "collapsed": true
   },
   "outputs": [],
   "source": [
    "arcAngle = 2*PI/50.4"
   ]
  },
  {
   "cell_type": "code",
   "execution_count": 39,
   "metadata": {
    "collapsed": true
   },
   "outputs": [],
   "source": [
    "wallAngle = -3.2*arcAngle/4"
   ]
  },
  {
   "cell_type": "code",
   "execution_count": 40,
   "metadata": {
    "collapsed": true
   },
   "outputs": [],
   "source": [
    "RotCross = 3.2*arcAngle/4"
   ]
  },
  {
   "cell_type": "code",
   "execution_count": 41,
   "metadata": {
    "collapsed": true
   },
   "outputs": [],
   "source": [
    "def MyColumn():\n",
    "    return COMP([MKPOL,UKPOL,T(2)(r2-0.75),Column])([1.5,hCol])"
   ]
  },
  {
   "cell_type": "code",
   "execution_count": 42,
   "metadata": {
    "collapsed": true
   },
   "outputs": [],
   "source": [
    "def The4cols():\n",
    "    return COMP([R([1,2])(arcAngle*0.4/3.2),MKPOL,UKPOL,STRUCT,NN(4)])([R([1,2])(-arcAngle),MyColumn()])"
   ]
  },
  {
   "cell_type": "code",
   "execution_count": 43,
   "metadata": {
    "collapsed": true
   },
   "outputs": [],
   "source": [
    "def The5Cols():\n",
    "    return COMP([R([1,2])(arcAngle*0.4/3.2),MKPOL,UKPOL,STRUCT,NN(5)])([R([1,2])(-arcAngle),MyColumn()])"
   ]
  },
  {
   "cell_type": "code",
   "execution_count": 44,
   "metadata": {
    "collapsed": true
   },
   "outputs": [],
   "source": [
    "def TheBotWal():\n",
    "    return COMP([cylMap(),MKPOL,UKPOL,T(2)(r2-0.75),CUBOID]) ([3.2*arcAngle/4,1.5,hCol])"
   ]
  },
  {
   "cell_type": "code",
   "execution_count": 45,
   "metadata": {
    "collapsed": true
   },
   "outputs": [],
   "source": [
    "def TheSecCols():\n",
    "    return STRUCT([R([1,2])(RotCross),\n",
    "                  TheBotWal(),R([1,2])(wallAngle),\n",
    "                  The4cols(),R([1,2])(-5*arcAngle),\n",
    "                  TheBotWal(),R([1,2])(wallAngle),\n",
    "                  The5Cols()] )"
   ]
  },
  {
   "cell_type": "code",
   "execution_count": 46,
   "metadata": {
    "collapsed": true
   },
   "outputs": [],
   "source": [
    "def TheMedColumns():\n",
    "    return COMP([STRUCT,NN(4)])([TheSecCols(),R([1,2])(PI/(-2))])"
   ]
  },
  {
   "cell_type": "code",
   "execution_count": 47,
   "metadata": {},
   "outputs": [
    {
     "data": {
      "text/plain": [
       "<pyplasm.xgepy.Hpc; proxy of <Swig Object of type 'std::shared_ptr< Hpc > *' at 0x1818d03e40> >"
      ]
     },
     "execution_count": 47,
     "metadata": {},
     "output_type": "execute_result"
    }
   ],
   "source": [
    "VIEW(TheMedColumns())"
   ]
  },
  {
   "cell_type": "markdown",
   "metadata": {},
   "source": [
    "### Image TheMedColumns"
   ]
  },
  {
   "cell_type": "markdown",
   "metadata": {},
   "source": [
    "![](img/TheMedColumns.png)"
   ]
  },
  {
   "cell_type": "code",
   "execution_count": 48,
   "metadata": {},
   "outputs": [
    {
     "data": {
      "text/plain": [
       "<pyplasm.xgepy.Hpc; proxy of <Swig Object of type 'std::shared_ptr< Hpc > *' at 0x1818d03f90> >"
      ]
     },
     "execution_count": 48,
     "metadata": {},
     "output_type": "execute_result"
    }
   ],
   "source": [
    "VIEW(STRUCT([basement(),T(3)(hbasament),FullExtWall(),TheMedColumns()]))"
   ]
  },
  {
   "cell_type": "markdown",
   "metadata": {},
   "source": [
    "### Image aggr2"
   ]
  },
  {
   "cell_type": "markdown",
   "metadata": {},
   "source": [
    "![](img/aggr2.png)"
   ]
  },
  {
   "cell_type": "markdown",
   "metadata": {},
   "source": [
    "## Archi sulle colonne"
   ]
  },
  {
   "cell_type": "markdown",
   "metadata": {},
   "source": [
    "***\n",
    "    DEF bottomArc (d::IsRealPos) = Bezier:S1:<<0,0>,<0,2*d/3>,<d,2*d/3>,<d,0>>;\n",
    "    DEF topArc (d::IsRealPos) = Bezier:S1:<<0,2*d/3>,<d,2*d/3>>;\n",
    "    DEF arc2D  (d::IsRealPos) = Bezier:S2:<bottomArc:d,topArc:d>;\n",
    "    DEF arc3D  (d::IsRealPos)(w::IsRealPos) = (T:2:w ~ R:<2,3>:(PI/2)):\n",
    "      ( MAP:(CONS:(arc2D:d)):(Intervals:1:8 * Intervals:1:1) * QUOTE:<w> );\n",
    "    DEF Interarc (d1,d2::IsReal)(w::IsRealPos)= CUBOID:<d1,w,2*d2/3>;\n",
    "    DEF Xarc (d1,d2::IsRealPos) (w::IsRealPos) = \n",
    "      Interarc:<d1,d2>:w RIGHT arc3D:d2:w RIGHT Interarc:<d1,d2>:w;\n",
    "\n",
    "    DEF SizeArc = SIZE:1:TheArc;\n",
    "    DEF TheArc = Xarc:<0.4,3.2>:1.5;\n",
    "    DEF HeigthArc = SIZE:3:CurvedArc;\n",
    "    DEF CurvedArc = (cylMap ~ MKPOL ~ UKPOL ~ T:2:(r2 - 0.75) ~ S:<1,3>:<sx,sz>):TheArc\n",
    "    WHERE\n",
    "      sx = (1/SizeArc)*arcAngle,\n",
    "      sz = sx * (r2 - 2)\n",
    "    END;\n",
    "    DEF The5arcs = (MKPOL ~ UKPOL ~ STRUCT ~ ##:5):< CurvedArc, R:<1,2>:(-:arcAngle) >;\n",
    "    DEF The6arcs = (MKPOL ~ UKPOL ~ STRUCT ~ ##:6):< CurvedArc, R:<1,2>:(-:arcAngle) >;\n",
    "    DEF TheMidWall = (cylMap ~ MKPOL ~ UKPOL ~ T:2:(r2 - 0.75) ~ CUBOID):\n",
    "      <3.2*arcAngle/4, 1.5, HeigthArc>;\n",
    "    DEF TheSector = STRUCT:< R:<1,2>:RotCross,\n",
    "      TheMidWall, R:<1,2>:wallAngle, \n",
    "      The5arcs, R:<1,2>:(-5*arcAngle), \n",
    "      TheMidWall, R:<1,2>:wallAngle, \n",
    "      The6arcs >;\n",
    "    DEF TheArcs = (STRUCT ~ ##:4):<TheSector, R:<1,2>:(PI/-2)>;\n",
    "    DEF TheArcsCols = STRUCT:< TheMedColumns, T:3:hCol, TheArcs >;\n",
    "***"
   ]
  },
  {
   "cell_type": "markdown",
   "metadata": {},
   "source": [
    "***\n",
    "    STRUCT:<basement, T:3:hbasament, FullExtWall, TheArcsCols >;\n",
    "***"
   ]
  },
  {
   "cell_type": "code",
   "execution_count": 49,
   "metadata": {
    "collapsed": true
   },
   "outputs": [],
   "source": [
    "def bottomArc(d):\n",
    "    return BEZIER(S1)([[0,0],[0,2*d/3],[d,2*d/3],[d,0]])"
   ]
  },
  {
   "cell_type": "code",
   "execution_count": 50,
   "metadata": {
    "collapsed": true
   },
   "outputs": [],
   "source": [
    "def topArc(d):\n",
    "    return BEZIER(S1)([[0,2*d/3],[d,2*d/3]])"
   ]
  },
  {
   "cell_type": "code",
   "execution_count": 51,
   "metadata": {
    "collapsed": true
   },
   "outputs": [],
   "source": [
    "def arc2D(d):\n",
    "    return BEZIER(S2)([bottomArc(d),topArc(d)])"
   ]
  },
  {
   "cell_type": "code",
   "execution_count": 52,
   "metadata": {
    "collapsed": true
   },
   "outputs": [],
   "source": [
    "def arc3D(d):\n",
    "    def arc3D1(w):\n",
    "        return COMP([T(2)(w),R([2,3])(PI/2)])(MAP(arc2D(d))(PROD([PROD([INTERVALS(1)(8),\n",
    "                                                                        INTERVALS(1)(1)]),QUOTE([w])])))\n",
    "    return arc3D1"
   ]
  },
  {
   "cell_type": "code",
   "execution_count": 53,
   "metadata": {
    "collapsed": true
   },
   "outputs": [],
   "source": [
    "def Interarc(d1,d2):\n",
    "    def Interarc1(w):\n",
    "        return CUBOID([d1,w,2*d2/3])\n",
    "    return Interarc1"
   ]
  },
  {
   "cell_type": "code",
   "execution_count": 54,
   "metadata": {
    "collapsed": true
   },
   "outputs": [],
   "source": [
    "def Xarc(d1,d2):\n",
    "    def Xarc1(w):\n",
    "        return RIGHT([RIGHT([Interarc(d1,d2)(w),arc3D(d2)(w)]),Interarc(d1,d2)(w)])\n",
    "    return Xarc1"
   ]
  },
  {
   "cell_type": "code",
   "execution_count": 55,
   "metadata": {
    "collapsed": true
   },
   "outputs": [],
   "source": [
    "TheArc = Xarc(0.4,3.2)(1.5)"
   ]
  },
  {
   "cell_type": "code",
   "execution_count": 56,
   "metadata": {
    "collapsed": true
   },
   "outputs": [],
   "source": [
    "SizeArc = SIZE(1)(TheArc)"
   ]
  },
  {
   "cell_type": "code",
   "execution_count": 57,
   "metadata": {
    "collapsed": true
   },
   "outputs": [],
   "source": [
    "def CurvedArc():\n",
    "    sx = (1/SizeArc)*arcAngle\n",
    "    sz = sx *(r2-2)\n",
    "    return COMP([cylMap(),MKPOL,UKPOL,T(2)(r2-0.75),S([1,3])([sx,sz])])(TheArc)"
   ]
  },
  {
   "cell_type": "code",
   "execution_count": 58,
   "metadata": {},
   "outputs": [],
   "source": [
    "HeightArc = SIZE(3)(CurvedArc())"
   ]
  },
  {
   "cell_type": "code",
   "execution_count": 59,
   "metadata": {
    "collapsed": true
   },
   "outputs": [],
   "source": [
    "def The5arcs():\n",
    "    return COMP([MKPOL,UKPOL,STRUCT,NN(5)])([CurvedArc(),R([1,2])(-arcAngle)])\n",
    "    "
   ]
  },
  {
   "cell_type": "code",
   "execution_count": 60,
   "metadata": {
    "collapsed": true
   },
   "outputs": [],
   "source": [
    "def The6arcs():\n",
    "    return COMP([MKPOL,UKPOL,STRUCT,NN(6)])([CurvedArc(),R([1,2])(-arcAngle)])"
   ]
  },
  {
   "cell_type": "code",
   "execution_count": 61,
   "metadata": {
    "collapsed": true
   },
   "outputs": [],
   "source": [
    "def TheMidWall():\n",
    "    return COMP([cylMap(),MKPOL,UKPOL,T(2)(r2-0.75),CUBOID])([3.2*arcAngle/4.0,1.5,HeightArc])"
   ]
  },
  {
   "cell_type": "code",
   "execution_count": 62,
   "metadata": {
    "collapsed": true
   },
   "outputs": [],
   "source": [
    "def TheSector():\n",
    "    return STRUCT([R([1,2])(RotCross),TheMidWall(),\n",
    "                   R([1,2])(wallAngle),The5arcs(),R([1,2])(-5*arcAngle),\n",
    "                   TheMidWall(),R([1,2])(wallAngle),The6arcs()])"
   ]
  },
  {
   "cell_type": "code",
   "execution_count": 63,
   "metadata": {
    "collapsed": true
   },
   "outputs": [],
   "source": [
    "def TheArcs():\n",
    "    return COMP([STRUCT,NN(4)])([TheSector(),R([1,2])(PI/-2)])"
   ]
  },
  {
   "cell_type": "code",
   "execution_count": 64,
   "metadata": {
    "collapsed": true
   },
   "outputs": [],
   "source": [
    "def TheArcsCols():\n",
    "    return STRUCT([TheMedColumns(),T(3)(hCol),TheArcs()])"
   ]
  },
  {
   "cell_type": "code",
   "execution_count": 65,
   "metadata": {},
   "outputs": [
    {
     "data": {
      "text/plain": [
       "<pyplasm.xgepy.Hpc; proxy of <Swig Object of type 'std::shared_ptr< Hpc > *' at 0x181f213750> >"
      ]
     },
     "execution_count": 65,
     "metadata": {},
     "output_type": "execute_result"
    }
   ],
   "source": [
    "VIEW(TheArcsCols())"
   ]
  },
  {
   "cell_type": "markdown",
   "metadata": {},
   "source": [
    "### Image aggr3"
   ]
  },
  {
   "cell_type": "markdown",
   "metadata": {},
   "source": [
    "![](img/aggr3.png)"
   ]
  },
  {
   "cell_type": "code",
   "execution_count": 66,
   "metadata": {},
   "outputs": [
    {
     "data": {
      "text/plain": [
       "<pyplasm.xgepy.Hpc; proxy of <Swig Object of type 'std::shared_ptr< Hpc > *' at 0x181f213780> >"
      ]
     },
     "execution_count": 66,
     "metadata": {},
     "output_type": "execute_result"
    }
   ],
   "source": [
    "VIEW(STRUCT([basement(),T(3)(hbasament),FullExtWall(),TheArcsCols()]))"
   ]
  },
  {
   "cell_type": "markdown",
   "metadata": {},
   "source": [
    "![](img/Struct_TheArcsCols.png)"
   ]
  },
  {
   "cell_type": "markdown",
   "metadata": {},
   "source": [
    "## Muro intermedio superiore"
   ]
  },
  {
   "cell_type": "markdown",
   "metadata": {},
   "source": [
    "***\n",
    "    DEF MedWall2D = MKPOL:<<<0,4>,<8,4>,<17,4>,<17,5>,<12.5,7.5>,<8,5>,<0,8>>,\n",
    "    <<1,2,6,7>,<2,3,4,5,6>>,\n",
    "    <<1>,<2>>> & (QUOTE:(#:17:1) * QUOTE:<8>);\n",
    "    DEF sizxMedWall = SIZE:1:MedWall2D;\n",
    "\n",
    "    DEF MedWall = R:<2,3>:(PI/2):(MedWall2D * QUOTE:<1.5>);\n",
    "    DEF CurvedMedWall = (cylMap ~ MKPOL ~ UKPOL ~ \n",
    "        T:2:(r2+0.75) ~ S:<1,3>:<PI/(4*sizxMedWall),hw4/8>):MedWall;\n",
    "\n",
    "    DEF DoubleMedWall = STRUCT:<CurvedMedWall, S:1:-1:CurvedMedWall>;\n",
    "    DEF FullMedWall = (STRUCT ~ ##:4):<DoubleMedWall, R:<1,2>:(PI/2)>;\n",
    "    DEF MedWallArcs = STRUCT:< FullMedWall, TheArcsCols >;\n",
    "***                   "
   ]
  },
  {
   "cell_type": "markdown",
   "metadata": {},
   "source": [
    "***\n",
    "    STRUCT:<basement, T:3:hbasament, FullExtWall, MedWallArcs >;\n",
    "***"
   ]
  },
  {
   "cell_type": "code",
   "execution_count": 67,
   "metadata": {
    "collapsed": true
   },
   "outputs": [],
   "source": [
    "def MedWall2D():\n",
    "    return INTERSECTION([MKPOL([[[0,4],[8,4],[17,4],[17,5],[12.5,7.5],[8,5],[0,8]],\n",
    "                               [[1,2,6,7],[2,3,4,5,6]],[[1],[2]]]),\n",
    "                       PROD([COMP([QUOTE,N(17)])(1),QUOTE([8])])])"
   ]
  },
  {
   "cell_type": "code",
   "execution_count": 68,
   "metadata": {
    "collapsed": true
   },
   "outputs": [],
   "source": [
    "sizxMedWall = SIZE(1)(MedWall2D())"
   ]
  },
  {
   "cell_type": "code",
   "execution_count": 69,
   "metadata": {
    "collapsed": true
   },
   "outputs": [],
   "source": [
    "MedWall = R([2,3])(PI/2)(PROD([MedWall2D(),QUOTE([1.5])]))"
   ]
  },
  {
   "cell_type": "code",
   "execution_count": 70,
   "metadata": {
    "collapsed": true
   },
   "outputs": [],
   "source": [
    "def CurvedMedWall():\n",
    "    return COMP([cylMap(),MKPOL,UKPOL,T(2)(r2+0.75),\n",
    "                 S([1,3])([PI/(4*sizxMedWall),hw4/8])])(MedWall)"
   ]
  },
  {
   "cell_type": "code",
   "execution_count": 71,
   "metadata": {
    "collapsed": true
   },
   "outputs": [],
   "source": [
    "def DoubleMedWall():\n",
    "    return STRUCT([CurvedMedWall(),S(1)(-1)(CurvedMedWall())])"
   ]
  },
  {
   "cell_type": "code",
   "execution_count": 72,
   "metadata": {
    "collapsed": true
   },
   "outputs": [],
   "source": [
    "def FullMedWall():\n",
    "    return COMP([STRUCT,NN(4)])([DoubleMedWall(),R([1,2])(PI/2)])"
   ]
  },
  {
   "cell_type": "code",
   "execution_count": 73,
   "metadata": {
    "collapsed": true
   },
   "outputs": [],
   "source": [
    "def MedWallArcs():\n",
    "    return STRUCT([FullMedWall(),TheArcsCols()])"
   ]
  },
  {
   "cell_type": "code",
   "execution_count": 74,
   "metadata": {},
   "outputs": [
    {
     "data": {
      "text/plain": [
       "<pyplasm.xgepy.Hpc; proxy of <Swig Object of type 'std::shared_ptr< Hpc > *' at 0x181f20f2d0> >"
      ]
     },
     "execution_count": 74,
     "metadata": {},
     "output_type": "execute_result"
    }
   ],
   "source": [
    "VIEW(MedWallArcs())"
   ]
  },
  {
   "cell_type": "markdown",
   "metadata": {
    "collapsed": true
   },
   "source": [
    "### Image MedWallArcs"
   ]
  },
  {
   "cell_type": "markdown",
   "metadata": {},
   "source": [
    "![](img/MedWallArcs.png)"
   ]
  },
  {
   "cell_type": "code",
   "execution_count": 75,
   "metadata": {},
   "outputs": [
    {
     "data": {
      "text/plain": [
       "<pyplasm.xgepy.Hpc; proxy of <Swig Object of type 'std::shared_ptr< Hpc > *' at 0x181f20f150> >"
      ]
     },
     "execution_count": 75,
     "metadata": {},
     "output_type": "execute_result"
    }
   ],
   "source": [
    "VIEW(STRUCT([basement(),T(3)(hbasament),FullExtWall(),MedWallArcs()]))"
   ]
  },
  {
   "cell_type": "markdown",
   "metadata": {},
   "source": [
    "![](img/struct_MedWallArcs.png)"
   ]
  },
  {
   "cell_type": "markdown",
   "metadata": {},
   "source": [
    "## Muri laterali della croce"
   ]
  },
  {
   "cell_type": "markdown",
   "metadata": {},
   "source": [
    "***\n",
    "    DEF CrossWall = (T:1:-1 ~ R:<1,2>:(0.2*arcAngle) ~ \n",
    "      S:3:(hw4/8) ~ CUBOID):<1.5,r3 - r2,5>;\n",
    "    DEF SingleWall =  (R:<1,2>:(2.5*arcAngle) ~ T:2:r2):CrossWall;\n",
    "    DEF DoubleWall =  STRUCT:< SingleWall, S:1:-1, SingleWall >;\n",
    "    DEF CrossWalls = (STRUCT ~ ##:4):<DoubleWall, R:<1,2>:(PI/2)>;\n",
    "***                      "
   ]
  },
  {
   "cell_type": "markdown",
   "metadata": {},
   "source": [
    "***\n",
    "    STRUCT:<basement, T:3:hbasament, FullExtWall, MedWallArcs,   CrossWalls >;\n",
    "***"
   ]
  },
  {
   "cell_type": "code",
   "execution_count": 76,
   "metadata": {
    "collapsed": true
   },
   "outputs": [],
   "source": [
    "def CrossWall():\n",
    "    return COMP([T(1)(-1),R([1,2])(0.2*arcAngle),S(3)(hw4/8),CUBOID])([1.5,r3-r2,5])"
   ]
  },
  {
   "cell_type": "code",
   "execution_count": 77,
   "metadata": {
    "collapsed": true
   },
   "outputs": [],
   "source": [
    "def SingleWall():\n",
    "    return COMP([R([1,2])(2.5*arcAngle),T(2)(r2)])(CrossWall())"
   ]
  },
  {
   "cell_type": "code",
   "execution_count": 78,
   "metadata": {
    "collapsed": true
   },
   "outputs": [],
   "source": [
    "def DoubleWall():\n",
    "    return STRUCT([SingleWall(),S(1)(-1),SingleWall()])"
   ]
  },
  {
   "cell_type": "code",
   "execution_count": 79,
   "metadata": {
    "collapsed": true
   },
   "outputs": [],
   "source": [
    "def CrossWalls():\n",
    "    return COMP([STRUCT,NN(4)])([DoubleWall(),R([1,2])(PI/2)])"
   ]
  },
  {
   "cell_type": "code",
   "execution_count": 80,
   "metadata": {},
   "outputs": [
    {
     "data": {
      "text/plain": [
       "<pyplasm.xgepy.Hpc; proxy of <Swig Object of type 'std::shared_ptr< Hpc > *' at 0x181f20f930> >"
      ]
     },
     "execution_count": 80,
     "metadata": {},
     "output_type": "execute_result"
    }
   ],
   "source": [
    "VIEW(STRUCT([basement(),T(3)(hbasament),FullExtWall(),MedWallArcs(),CrossWalls()]))"
   ]
  },
  {
   "cell_type": "markdown",
   "metadata": {
    "collapsed": true
   },
   "source": [
    "![](img/muri_laterali.png)"
   ]
  },
  {
   "cell_type": "markdown",
   "metadata": {},
   "source": [
    "## Tetto sulla cruce"
   ]
  },
  {
   "cell_type": "markdown",
   "metadata": {},
   "source": [
    "***\n",
    "    DEF HalfTetto = MKPOL:<<<0,r2,8>,<8,r2,5>,<8,r3,5>,<0,r3,8>>,<1..4>,<<1>>>;\n",
    "    DEF CurvedHalfTetto = (cylMap ~ S:<1,3>:<2.5*arcAngle/8,hw4/8>):HalfTetto;\n",
    "    DEF DoubleHalfTetto = STRUCT:<CurvedHalfTetto, S:1:-1:CurvedHalfTetto>;\n",
    "    DEF FullTetto = (STRUCT ~ ##:4):<DoubleHalfTetto, R:<1,2>:(PI/-2)>;\n",
    "***"
   ]
  },
  {
   "cell_type": "markdown",
   "metadata": {},
   "source": [
    "***\n",
    "    STRUCT:<basement, T:3:hbasament, FullExtWall, MedWallArcs, \n",
    "        CrossWalls, FullTetto >;\n",
    "***        "
   ]
  },
  {
   "cell_type": "code",
   "execution_count": 81,
   "metadata": {
    "collapsed": true
   },
   "outputs": [],
   "source": [
    "def HalfTetto():\n",
    "    return MKPOL([[[0,r2,8],[8,r2,5],[8,r3,5],[0,r3,8]],[[1,2,3,4]],[]])"
   ]
  },
  {
   "cell_type": "code",
   "execution_count": 82,
   "metadata": {
    "collapsed": true
   },
   "outputs": [],
   "source": [
    "def CurvedHalfTetto():\n",
    "    return COMP([cylMap(),S([1,3])([2.5*arcAngle/8,hw4/8])])(HalfTetto())"
   ]
  },
  {
   "cell_type": "code",
   "execution_count": 83,
   "metadata": {
    "collapsed": true
   },
   "outputs": [],
   "source": [
    "def DoubleHalfTetto():\n",
    "    return STRUCT([CurvedHalfTetto(),S(1)(-1)(CurvedHalfTetto())])"
   ]
  },
  {
   "cell_type": "code",
   "execution_count": 84,
   "metadata": {
    "collapsed": true
   },
   "outputs": [],
   "source": [
    "def FullTetto():\n",
    "    return COMP([STRUCT,NN(4)])([DoubleHalfTetto(),R([1,2])(PI/-2)])"
   ]
  },
  {
   "cell_type": "code",
   "execution_count": 85,
   "metadata": {},
   "outputs": [
    {
     "data": {
      "text/plain": [
       "<pyplasm.xgepy.Hpc; proxy of <Swig Object of type 'std::shared_ptr< Hpc > *' at 0x181f20ff00> >"
      ]
     },
     "execution_count": 85,
     "metadata": {},
     "output_type": "execute_result"
    }
   ],
   "source": [
    "VIEW(STRUCT([CrossWalls(),FullTetto()]))"
   ]
  },
  {
   "cell_type": "markdown",
   "metadata": {},
   "source": [
    "### Image crosswalls"
   ]
  },
  {
   "cell_type": "markdown",
   "metadata": {},
   "source": [
    "![](img/crosswalls.png)"
   ]
  },
  {
   "cell_type": "code",
   "execution_count": 86,
   "metadata": {},
   "outputs": [
    {
     "data": {
      "text/plain": [
       "<pyplasm.xgepy.Hpc; proxy of <Swig Object of type 'std::shared_ptr< Hpc > *' at 0x181f20fde0> >"
      ]
     },
     "execution_count": 86,
     "metadata": {},
     "output_type": "execute_result"
    }
   ],
   "source": [
    "VIEW(STRUCT([basement(),T(3)(hbasament),FullExtWall(),\n",
    "             MedWallArcs(),CrossWalls(),FullTetto()]))"
   ]
  },
  {
   "cell_type": "markdown",
   "metadata": {
    "collapsed": true
   },
   "source": [
    "### Image aggr4"
   ]
  },
  {
   "cell_type": "markdown",
   "metadata": {},
   "source": [
    "![](img/aggr4.png)"
   ]
  },
  {
   "cell_type": "markdown",
   "metadata": {},
   "source": [
    "## Muro con Triplice apertura"
   ]
  },
  {
   "cell_type": "markdown",
   "metadata": {},
   "source": [
    "***\n",
    "    DEF CourtWall (d1,d2::IsRealPos) (n1,n2::IsIntPos) = \n",
    "      LeftWall OP TripleHole OP RightWall\n",
    "    WHERE\n",
    "      op = ALIGN:<<1,MAX,MIN>,<2,MIN,MIN>>,\n",
    "      LeftWall = ((QUOTE ~ #:n1):(d1/n1)) * CUBOID:<1,h>,\n",
    "      RightWall = ((QUOTE ~ #:n2):(d2/n2)) * CUBOID:<1,h>,\n",
    "      h = SIZE:3:TripleHole,\n",
    "      TripleHole = STRUCT:<column:<w,2>, T:1:(2+w), column:<w,2>> \n",
    "        TOP Xarc:<2,2>:1,\n",
    "      w = 0.7\n",
    "    END;\n",
    "***"
   ]
  },
  {
   "cell_type": "markdown",
   "metadata": {},
   "source": [
    "***\n",
    "    CourtWall:<6,6>:<3,3>\n",
    "***"
   ]
  },
  {
   "cell_type": "code",
   "execution_count": 87,
   "metadata": {
    "collapsed": true
   },
   "outputs": [],
   "source": [
    "def CourtWall(d1,d2):\n",
    "   \n",
    "    def CourtWall_0(n1,n2):\n",
    "        op = ALIGN([[1,MAX,MIN],[2,MIN,MIN]])\n",
    "        w=0.7\n",
    "        TripleHole = TOP([STRUCT([Column([w,2]),\n",
    "                                  T(1)(2+w),Column([w,2])]),Xarc(2,2)(1)])\n",
    "        h=SIZE(3)(TripleHole)\n",
    "        \n",
    "        LeftWall = PROD([COMP([QUOTE,N(n1)])\n",
    "                               (d1/n1),CUBOID([1,h])])\n",
    "        RightWall =PROD([COMP([QUOTE,N(n2)])(d2/n2),CUBOID([1,h])])\n",
    "        \n",
    "        \n",
    "        \n",
    "        return op ([op([LeftWall,TripleHole]),RightWall])\n",
    "    return CourtWall_0"
   ]
  },
  {
   "cell_type": "code",
   "execution_count": 88,
   "metadata": {
    "collapsed": true
   },
   "outputs": [],
   "source": [
    "view_CourtWall = CourtWall(6,6)(3,3)"
   ]
  },
  {
   "cell_type": "code",
   "execution_count": 89,
   "metadata": {
    "scrolled": true
   },
   "outputs": [
    {
     "data": {
      "text/plain": [
       "<pyplasm.xgepy.Hpc; proxy of <Swig Object of type 'std::shared_ptr< Hpc > *' at 0x181f200840> >"
      ]
     },
     "execution_count": 89,
     "metadata": {},
     "output_type": "execute_result"
    }
   ],
   "source": [
    "VIEW(view_CourtWall)"
   ]
  },
  {
   "cell_type": "markdown",
   "metadata": {},
   "source": [
    "### Image CourtWall"
   ]
  },
  {
   "cell_type": "markdown",
   "metadata": {},
   "source": [
    "![](img/CourtWall.png)"
   ]
  },
  {
   "cell_type": "markdown",
   "metadata": {},
   "source": [
    "## Muro inferiore cortile interno"
   ]
  },
  {
   "cell_type": "markdown",
   "metadata": {},
   "source": [
    "***\n",
    "    DEF MyCourtWall = CourtWall:<12,12>:<9,9>;\n",
    "    DEF sizxCourtWall = SIZE:1:MyCourtWall;\n",
    "    DEF CurvedCourtWall = (optimize ~ \n",
    "        R:<1,2>:(-2.5*arcAngle) ~ mapping ~ T:2:((r3+r2)/2)): MyCourtWall;\n",
    "    DEF mapping = (cylMap ~ S:<1,3>:<(7.25*PI/24)*(1/sizxCourtWall),hw4/8>);\n",
    "    DEF CrossCourtWall = (STRUCT ~ ##:4):<CurvedCourtWall, R:<1,2>:(PI/2)>;\n",
    "    %\n",
    "    STRUCT:<FullTetto, CrossWalls, CrossCourtWall >;\n",
    "    STRUCT:<basement, T:3:hbasament, FullExtWall, FullTetto, CrossCourtWall,\n",
    "            CrossWalls, MedWallArcs, TheMedColumns>;\n",
    "***"
   ]
  },
  {
   "cell_type": "code",
   "execution_count": 90,
   "metadata": {
    "collapsed": true
   },
   "outputs": [],
   "source": [
    "MyCourtWall = CourtWall(12,12)(9,9)"
   ]
  },
  {
   "cell_type": "code",
   "execution_count": 91,
   "metadata": {
    "collapsed": true
   },
   "outputs": [],
   "source": [
    "sizxCourtWall = SIZE(1)(MyCourtWall)"
   ]
  },
  {
   "cell_type": "code",
   "execution_count": 92,
   "metadata": {
    "collapsed": true
   },
   "outputs": [],
   "source": [
    "def mapping():\n",
    "    return COMP([cylMap(),S([1,3])([(7.25*PI/24)*(1/sizxCourtWall),hw4/8])])"
   ]
  },
  {
   "cell_type": "code",
   "execution_count": 93,
   "metadata": {
    "collapsed": true
   },
   "outputs": [],
   "source": [
    "def CurvedCourtWall():\n",
    "    return COMP([OPTIMIZE,R([1,2])(-2.5*arcAngle),mapping(),T(2)((r3+r2)/2)])(MyCourtWall)"
   ]
  },
  {
   "cell_type": "code",
   "execution_count": 94,
   "metadata": {
    "collapsed": true
   },
   "outputs": [],
   "source": [
    "def CrossCourtWall():\n",
    "    return COMP([STRUCT,NN(4)])([CurvedCourtWall(),R([1,2])(PI/2)])"
   ]
  },
  {
   "cell_type": "code",
   "execution_count": 95,
   "metadata": {},
   "outputs": [
    {
     "data": {
      "text/plain": [
       "<pyplasm.xgepy.Hpc; proxy of <Swig Object of type 'std::shared_ptr< Hpc > *' at 0x181f200db0> >"
      ]
     },
     "execution_count": 95,
     "metadata": {},
     "output_type": "execute_result"
    }
   ],
   "source": [
    "VIEW(CrossCourtWall())"
   ]
  },
  {
   "cell_type": "markdown",
   "metadata": {
    "collapsed": true
   },
   "source": [
    "### Image CrossCourtWall"
   ]
  },
  {
   "cell_type": "markdown",
   "metadata": {},
   "source": [
    "![](img/CrossCourtWall.png)"
   ]
  },
  {
   "cell_type": "code",
   "execution_count": 96,
   "metadata": {},
   "outputs": [
    {
     "data": {
      "text/plain": [
       "<pyplasm.xgepy.Hpc; proxy of <Swig Object of type 'std::shared_ptr< Hpc > *' at 0x181f22e0c0> >"
      ]
     },
     "execution_count": 96,
     "metadata": {},
     "output_type": "execute_result"
    }
   ],
   "source": [
    "VIEW(STRUCT([basement(),T(3)(hbasament),FullExtWall(),\n",
    "             MedWallArcs(),CrossWalls(),FullTetto(),CrossCourtWall()]))"
   ]
  },
  {
   "cell_type": "markdown",
   "metadata": {},
   "source": [
    "![](img/struct_CrossCourtWall.png)"
   ]
  },
  {
   "cell_type": "markdown",
   "metadata": {},
   "source": [
    "## Coronamento muro Cortile interno"
   ]
  },
  {
   "cell_type": "markdown",
   "metadata": {},
   "source": [
    "***\n",
    "    DEF TopCourtWall2D = MKPOL:<<<0,3.333>,<10,3.333>,<10,4.333>,<5,6.333>,<0,4.333>>,\n",
    "        <1..5>,<<1>>> & (QUOTE:(#:10:1) * QUOTE:<8>);\n",
    "    DEF TopCourtWall = R:<2,3>:(PI/2):(TopCourtWall2D * QUOTE:<1>);\n",
    "    DEF MyTopCourtWall = TopCourtWall RIGHT TopCourtWall RIGHT TopCourtWall; \n",
    "    DEF CurvedTopCourtWall = (\n",
    "        R:<1,2>:(-2.5*arcAngle) ~ mapping ~ T:2:((r3+r2+2)/2)): MyTopCourtWall;\n",
    "    DEF FullTopCourtWall = (STRUCT ~ ##:4):<CurvedTopCourtWall, R:<1,2>:(PI/2)>;\n",
    "***"
   ]
  },
  {
   "cell_type": "markdown",
   "metadata": {},
   "source": [
    "***\n",
    "    STRUCT:<FullTetto, CrossWalls, CrossCourtWall, FullTopCourtWall >;\n",
    "***"
   ]
  },
  {
   "cell_type": "markdown",
   "metadata": {},
   "source": [
    "***\n",
    "    STRUCT:<basement, T:3:hbasament, FullExtWall, FullTetto, CrossCourtWall,\n",
    "        CrossWalls, MedWallArcs, TheMedColumns, FullTopCourtWall>;\n",
    "***        \n"
   ]
  },
  {
   "cell_type": "code",
   "execution_count": 97,
   "metadata": {
    "collapsed": true
   },
   "outputs": [],
   "source": [
    "def TopCourtWall2D():\n",
    "    return INTERSECTION([\n",
    "        MKPOL([[[0,3.333],\n",
    "        [10,3.333],[10,4.333],\n",
    "        [5,6.333],[0,4.333]],[range(1,6)],[[1]]]),\n",
    "        PROD([COMP([QUOTE,N(10)])(1),QUOTE([8])])])\n",
    "                                 \n",
    "    "
   ]
  },
  {
   "cell_type": "code",
   "execution_count": 98,
   "metadata": {
    "collapsed": true
   },
   "outputs": [],
   "source": [
    "def TopCourtWall():\n",
    "    return R([2,3])(PI/2)(PROD([TopCourtWall2D(),QUOTE([1])]))"
   ]
  },
  {
   "cell_type": "code",
   "execution_count": 99,
   "metadata": {
    "collapsed": true
   },
   "outputs": [],
   "source": [
    "MyTopCourtWall = RIGHT([RIGHT([TopCourtWall(),TopCourtWall()]),TopCourtWall()])"
   ]
  },
  {
   "cell_type": "code",
   "execution_count": 100,
   "metadata": {
    "collapsed": true
   },
   "outputs": [],
   "source": [
    "def CurvedTopCourtWall():\n",
    "    return COMP([R([1,2])(-2.5*arcAngle),\n",
    "            mapping(),T(2)((r3+r2+2)/2)])(MyTopCourtWall)"
   ]
  },
  {
   "cell_type": "code",
   "execution_count": 101,
   "metadata": {
    "collapsed": true
   },
   "outputs": [],
   "source": [
    "def FullTopCourtWall():\n",
    "    return COMP([STRUCT,NN(4)])([CurvedTopCourtWall(),\n",
    "                R([1,2])(PI/2)])"
   ]
  },
  {
   "cell_type": "code",
   "execution_count": 102,
   "metadata": {},
   "outputs": [
    {
     "data": {
      "text/plain": [
       "<pyplasm.xgepy.Hpc; proxy of <Swig Object of type 'std::shared_ptr< Hpc > *' at 0x181f22e6c0> >"
      ]
     },
     "execution_count": 102,
     "metadata": {},
     "output_type": "execute_result"
    }
   ],
   "source": [
    "VIEW(STRUCT([basement(),T(3)(hbasament),FullExtWall(),\n",
    "             MedWallArcs(),CrossWalls(),\n",
    "             FullTetto(),CrossCourtWall(),\n",
    "             FullTopCourtWall()]))"
   ]
  },
  {
   "cell_type": "markdown",
   "metadata": {},
   "source": [
    "![](img/FullTopCourtWall.png)"
   ]
  },
  {
   "cell_type": "markdown",
   "metadata": {},
   "source": [
    "## Tetto su Cortile interno"
   ]
  },
  {
   "cell_type": "markdown",
   "metadata": {},
   "source": [
    "    DEF RotWall = 2.5*arcAngle;\n",
    "    DEF CourTetto = MKPOL:<<<0,(r3+r2+2)/2,3.333>,<10,(r3+r2+2)/2,3.333>,\n",
    "        <10,r2,4.333>,<0,r2,4.333>,\n",
    "        <0,(r3+r2+2)/2,3.433>,<10,(r3+r2+2)/2,3.433>,\n",
    "        <10,r2,4.433>,<0,r2,4.433> >, <1..8>,<<1>>> \n",
    "    & \n",
    "       (QUOTE:(#:10:1) * QUOTE:<(r3+r2+2)/2> * QUOTE:<5>);\n",
    "\n",
    "    DEF MyCourTetto = CourTetto RIGHT CourTetto RIGHT CourTetto; \n",
    "    DEF CurvedCourTetto = (R:<1,2>:(-:RotWall) ~ mapping): MyCourTetto;\n",
    "    DEF FullCourTetto = (STRUCT ~ ##:4):<CurvedCourTetto, R:<1,2>:(PI/2)>;\n",
    "\n",
    "    %\n",
    "    STRUCT:<FullTetto, CrossWalls, CrossCourtWall, FullTopCourtWall,\n",
    "            FullCourTetto >;\n",
    "    STRUCT:<basement, T:3:hbasament, FullExtWall, FullTetto, CrossCourtWall,\n",
    "            CrossWalls, MedWallArcs, TheMedColumns, FullTopCourtWall, FullCourTetto>;"
   ]
  },
  {
   "cell_type": "code",
   "execution_count": 103,
   "metadata": {
    "collapsed": true
   },
   "outputs": [],
   "source": [
    "RotWall = 2.5*arcAngle"
   ]
  },
  {
   "cell_type": "code",
   "execution_count": 104,
   "metadata": {
    "collapsed": true
   },
   "outputs": [],
   "source": [
    "def CourTetto():\n",
    "    return INTERSECTION([\n",
    "        MKPOL([[[0,(r3+r2+2)/2,3.333],\n",
    "               [10,(r3+r2+2)/2,3.333],\n",
    "               [10,r2,4.333],[0,r2,4.333],\n",
    "               [0,(r3+r2+2)/2,3.433],\n",
    "               [10,(r3+r2+2)/2,3.433],\n",
    "               [10,r2,4.433],[0,r2,4.433]],\n",
    "               [range(1,9)],[[1]]]),PROD([COMP([\n",
    "            QUOTE,N(10)])(1),PROD([QUOTE([\n",
    "            (r3+r2+2)/2]),QUOTE([5])])])])\n",
    "        "
   ]
  },
  {
   "cell_type": "code",
   "execution_count": 105,
   "metadata": {
    "collapsed": true
   },
   "outputs": [],
   "source": [
    "MyCourTetto = RIGHT([RIGHT([CourTetto(),CourTetto()]),CourTetto()])"
   ]
  },
  {
   "cell_type": "code",
   "execution_count": 106,
   "metadata": {
    "collapsed": true
   },
   "outputs": [],
   "source": [
    "def CurvedCourTetto():\n",
    "    return COMP([R([1,2])(DIFF(RotWall)),mapping()])(MyCourTetto)"
   ]
  },
  {
   "cell_type": "code",
   "execution_count": 107,
   "metadata": {
    "collapsed": true
   },
   "outputs": [],
   "source": [
    "def FullCourTetto():\n",
    "    return COMP([STRUCT,NN(4)])([CurvedCourTetto(),R([1,2])(PI/2.0)])\n",
    "    "
   ]
  },
  {
   "cell_type": "code",
   "execution_count": 108,
   "metadata": {},
   "outputs": [
    {
     "data": {
      "text/plain": [
       "<pyplasm.xgepy.Hpc; proxy of <Swig Object of type 'std::shared_ptr< Hpc > *' at 0x181f230540> >"
      ]
     },
     "execution_count": 108,
     "metadata": {},
     "output_type": "execute_result"
    }
   ],
   "source": [
    "VIEW(FullCourTetto())"
   ]
  },
  {
   "cell_type": "markdown",
   "metadata": {},
   "source": [
    "### Image FullCourTetto"
   ]
  },
  {
   "cell_type": "markdown",
   "metadata": {},
   "source": [
    "![](img/CourTetto.png)"
   ]
  },
  {
   "cell_type": "code",
   "execution_count": 109,
   "metadata": {},
   "outputs": [
    {
     "data": {
      "text/plain": [
       "<pyplasm.xgepy.Hpc; proxy of <Swig Object of type 'std::shared_ptr< Hpc > *' at 0x181f230750> >"
      ]
     },
     "execution_count": 109,
     "metadata": {},
     "output_type": "execute_result"
    }
   ],
   "source": [
    "VIEW(STRUCT([MedWallArcs(),FullTopCourtWall(),\n",
    "             FullCourTetto(),CrossWalls(),\n",
    "             FullTetto(),CrossCourtWall()]))"
   ]
  },
  {
   "cell_type": "markdown",
   "metadata": {},
   "source": [
    "![](img/fullcourtetto.png)"
   ]
  },
  {
   "cell_type": "code",
   "execution_count": 110,
   "metadata": {},
   "outputs": [
    {
     "data": {
      "text/plain": [
       "<pyplasm.xgepy.Hpc; proxy of <Swig Object of type 'std::shared_ptr< Hpc > *' at 0x181f230870> >"
      ]
     },
     "execution_count": 110,
     "metadata": {},
     "output_type": "execute_result"
    }
   ],
   "source": [
    "VIEW(STRUCT([basement(),T(3)(hbasament),FullExtWall(),\n",
    "             MedWallArcs(),CrossWalls(),FullTetto(),\n",
    "             CrossCourtWall(),FullTopCourtWall(),\n",
    "             FullCourTetto()]))"
   ]
  },
  {
   "cell_type": "markdown",
   "metadata": {
    "collapsed": true
   },
   "source": [
    "### Image aggr5"
   ]
  },
  {
   "cell_type": "markdown",
   "metadata": {},
   "source": [
    "![](img/aggr5.png)"
   ]
  },
  {
   "cell_type": "markdown",
   "metadata": {},
   "source": [
    "## Colonne muro interno\n"
   ]
  },
  {
   "cell_type": "markdown",
   "metadata": {},
   "source": [
    "***    \n",
    "    DEF Radial22Obj (Obj::IsPol) = \n",
    "      STRUCT:< The20Obj, R:<1,2>:((20*PI)/11), The2Obj >\n",
    "    WHERE\n",
    "      The4Obj = (STRUCT ~ ##:4):< Obj, R:<1,2>:(PI/11) >,\n",
    "      The2Obj  = (STRUCT ~ ##:2):< Obj, R:<1,2>:(PI/11) >,\n",
    "      The20Obj = (STRUCT ~ ##:5):< The4Obj, R:<1,2>:((4*PI)/11) >\n",
    "    END;\n",
    "\n",
    "    DEF InternalCol = (MKPOL ~ UKPOL ~ T:2:((r0 - 2)) ~ Column):<1.5,hCol>;\n",
    "    DEF The22Columns = Radial22Obj:InternalCol;\n",
    "***"
   ]
  },
  {
   "cell_type": "code",
   "execution_count": 111,
   "metadata": {
    "collapsed": true
   },
   "outputs": [],
   "source": [
    "def Radial22Obj(Obj):\n",
    "    The4Obj = COMP([STRUCT,NN(4)])([Obj,R([1,2])(PI/11)])\n",
    "    The2Obj = COMP([STRUCT,NN(2)])([Obj,R([1,2])(PI/11)])\n",
    "    The20Obj = COMP([STRUCT,NN(5)])([The4Obj,R([1,2])((4*PI)/11)])\n",
    "    return STRUCT([The20Obj,R([1,2])(20*PI/11),The2Obj])"
   ]
  },
  {
   "cell_type": "code",
   "execution_count": 112,
   "metadata": {
    "collapsed": true
   },
   "outputs": [],
   "source": [
    "def InternalCol():\n",
    "    return COMP([MKPOL,UKPOL,T(2)((r0-2)),Column])([1.5,hCol])"
   ]
  },
  {
   "cell_type": "code",
   "execution_count": 113,
   "metadata": {
    "collapsed": true
   },
   "outputs": [],
   "source": [
    "The22Columns = Radial22Obj(InternalCol())"
   ]
  },
  {
   "cell_type": "markdown",
   "metadata": {},
   "source": [
    "## Travi muro interno"
   ]
  },
  {
   "cell_type": "markdown",
   "metadata": {},
   "source": [
    "***\n",
    "        DEF Beam = Q:<-0.5,1.5,2,1.5> * Q:<2.2> * Q:1.5;\n",
    "    DEF CurvedBeam = (cylMap ~ T:<2,3>:<(r0 - 2),hcol> ~ S:1:(PI/(11*5)) ):Beam;\n",
    "    DEF The22Beams = Radial22Obj:CurvedBeam;\n",
    "***"
   ]
  },
  {
   "cell_type": "code",
   "execution_count": 114,
   "metadata": {
    "collapsed": true
   },
   "outputs": [],
   "source": [
    "def Beam():\n",
    "    return PROD([QUOTE([-0.5,1.5,2,1.5]),PROD([QUOTE([2.2]),QUOTE([1.5])])])"
   ]
  },
  {
   "cell_type": "code",
   "execution_count": 115,
   "metadata": {
    "collapsed": true
   },
   "outputs": [],
   "source": [
    "def CurvedBeam():\n",
    "    return COMP([cylMap(),T([2,3])([(r0-2),hCol]),S(1)(PI/(11*5))])(Beam())"
   ]
  },
  {
   "cell_type": "code",
   "execution_count": 116,
   "metadata": {
    "collapsed": true
   },
   "outputs": [],
   "source": [
    "The22Beams = Radial22Obj(CurvedBeam())"
   ]
  },
  {
   "cell_type": "code",
   "execution_count": 117,
   "metadata": {},
   "outputs": [
    {
     "data": {
      "text/plain": [
       "<pyplasm.xgepy.Hpc; proxy of <Swig Object of type 'std::shared_ptr< Hpc > *' at 0x181f230ed0> >"
      ]
     },
     "execution_count": 117,
     "metadata": {},
     "output_type": "execute_result"
    }
   ],
   "source": [
    "VIEW(STRUCT([The22Columns,The22Beams]))"
   ]
  },
  {
   "cell_type": "markdown",
   "metadata": {},
   "source": [
    "### the22Bems"
   ]
  },
  {
   "cell_type": "markdown",
   "metadata": {},
   "source": [
    "![](img/the22Bems.png)"
   ]
  },
  {
   "cell_type": "code",
   "execution_count": 118,
   "metadata": {},
   "outputs": [
    {
     "data": {
      "text/plain": [
       "<pyplasm.xgepy.Hpc; proxy of <Swig Object of type 'std::shared_ptr< Hpc > *' at 0x181f23d240> >"
      ]
     },
     "execution_count": 118,
     "metadata": {},
     "output_type": "execute_result"
    }
   ],
   "source": [
    "VIEW(STRUCT([basement(),T(3)(hbasament),\n",
    "             FullExtWall(),MedWallArcs(),\n",
    "             CrossWalls(),FullTetto(),\n",
    "             CrossCourtWall(),FullTopCourtWall(),\n",
    "             FullCourTetto(),The22Columns,The22Beams]))"
   ]
  },
  {
   "cell_type": "markdown",
   "metadata": {
    "collapsed": true
   },
   "source": [
    "### Image aggr6"
   ]
  },
  {
   "cell_type": "markdown",
   "metadata": {},
   "source": [
    "![](img/aggr6.png)"
   ]
  },
  {
   "cell_type": "markdown",
   "metadata": {},
   "source": [
    "## Muro interno superiore"
   ]
  },
  {
   "cell_type": "markdown",
   "metadata": {},
   "source": [
    "***    \n",
    "        DEF Hwall = STRUCT:<\n",
    "    %  QUOTE:<-0.5,1.5,-2,1.5> * QUOTE:<-0.3,1.4> * QUOTE:<2.5*hCol>,\n",
    "      QUOTE:<-2.0,2> * QUOTE:<-0.3,1.4> * QUOTE:<1.5*hCol, -0.5*hcol, 0.5*hcol>\n",
    "    %  QUOTE:<-0.5,1.75,-1.5,1.75> * QUOTE:<-0.3,1.4> * QUOTE:<2.5*hCol>,\n",
    "      QUOTE:<-2.25,1.5> * QUOTE:<-0.3,1.4> * QUOTE:<1.5*hCol, -0.5*hcol, 0.5*hcol>\n",
    "    >;\n",
    "    DEF CurvedHwall = (cylMap ~ T:<2,3>:<(r0 - 2),hcol> ~ S:1:(PI/(11*5)) ):Hwall;\n",
    "    DEF The22Hwall = Radial22Obj:CurvedHwall;\n",
    "    %\n",
    "    STRUCT:< The22Columns, The22Beams, The22Hwall >;\n",
    "\n",
    "    STRUCT:<basement, T:3:hbasament, FullExtWall, FullTetto, \n",
    "    CrossCourtWall,\n",
    "            CrossWalls, MedWallArcs, TheMedColumns,                  FullTopCourtWall, \n",
    "            FullCourTetto, The22Columns, The22Beams, The22Hwall >;         \n",
    "***"
   ]
  },
  {
   "cell_type": "code",
   "execution_count": 119,
   "metadata": {
    "collapsed": true
   },
   "outputs": [],
   "source": [
    "def Hwall():\n",
    "    return STRUCT([INSR(PROD)([QUOTE([-0.5,1.5,-2,1.5]),QUOTE([-0.3,1.4]),QUOTE([2.5*hCol])]),\n",
    "               INSR(PROD)([QUOTE([-2.0,2]),QUOTE([-0.3,1.4]),QUOTE([1.5*hCol,-0.5*hCol,0.5*hCol])]),\n",
    "               INSR(PROD)([QUOTE([-0.5,1.75,-1.5,1.75]),QUOTE([-0.3,1.4]),QUOTE([2.5*hCol])]),\n",
    "               INSR(PROD)([QUOTE([-2.25,1.5]),QUOTE([-0.3,1.4]),QUOTE([1.5*hCol,-0.5*hCol,0.5*hCol])])])"
   ]
  },
  {
   "cell_type": "code",
   "execution_count": 120,
   "metadata": {
    "collapsed": true
   },
   "outputs": [],
   "source": [
    "def CurvedHwall():\n",
    "    return COMP([cylMap(),T([2,3])\n",
    "                 ([r0-2,hCol]),S(1)(PI/(11*5))])(Hwall())"
   ]
  },
  {
   "cell_type": "code",
   "execution_count": 121,
   "metadata": {
    "collapsed": true
   },
   "outputs": [],
   "source": [
    "The22Hwall = Radial22Obj(CurvedHwall())"
   ]
  },
  {
   "cell_type": "code",
   "execution_count": 122,
   "metadata": {},
   "outputs": [
    {
     "data": {
      "text/plain": [
       "<pyplasm.xgepy.Hpc; proxy of <Swig Object of type 'std::shared_ptr< Hpc > *' at 0x181f23dc30> >"
      ]
     },
     "execution_count": 122,
     "metadata": {},
     "output_type": "execute_result"
    }
   ],
   "source": [
    "VIEW(The22Hwall)"
   ]
  },
  {
   "cell_type": "markdown",
   "metadata": {},
   "source": [
    "### Image The22Hwall"
   ]
  },
  {
   "cell_type": "markdown",
   "metadata": {},
   "source": [
    "![](img/The22Hwall.png)"
   ]
  },
  {
   "cell_type": "code",
   "execution_count": 123,
   "metadata": {
    "collapsed": true
   },
   "outputs": [],
   "source": [
    "element = STRUCT([The22Columns,The22Beams,The22Hwall])\n"
   ]
  },
  {
   "cell_type": "code",
   "execution_count": 124,
   "metadata": {},
   "outputs": [
    {
     "data": {
      "text/plain": [
       "<pyplasm.xgepy.Hpc; proxy of <Swig Object of type 'std::shared_ptr< Hpc > *' at 0x181f23de10> >"
      ]
     },
     "execution_count": 124,
     "metadata": {},
     "output_type": "execute_result"
    }
   ],
   "source": [
    "VIEW(element)"
   ]
  },
  {
   "cell_type": "markdown",
   "metadata": {},
   "source": [
    "![](img/element.png)"
   ]
  },
  {
   "cell_type": "code",
   "execution_count": 125,
   "metadata": {},
   "outputs": [
    {
     "data": {
      "text/plain": [
       "<pyplasm.xgepy.Hpc; proxy of <Swig Object of type 'std::shared_ptr< Hpc > *' at 0x181f218030> >"
      ]
     },
     "execution_count": 125,
     "metadata": {},
     "output_type": "execute_result"
    }
   ],
   "source": [
    "VIEW(STRUCT([basement(),T(3)(hbasament),\n",
    "             FullExtWall(),MedWallArcs(),\n",
    "             CrossWalls(),FullTetto(),\n",
    "             CrossCourtWall(),FullTopCourtWall(),\n",
    "             FullCourTetto(),The22Columns,\n",
    "             The22Beams,The22Hwall]))"
   ]
  },
  {
   "cell_type": "markdown",
   "metadata": {},
   "source": [
    "![](img/struct_The22Hwall.png)"
   ]
  },
  {
   "cell_type": "markdown",
   "metadata": {},
   "source": [
    "## Coronamento superiore muro interno"
   ]
  },
  {
   "cell_type": "markdown",
   "metadata": {},
   "source": [
    "***\n",
    "    DEF myArc = MAP:[SIN ~ S1, COS ~ S1]:(QUOTE:(#:5:(PI/10)));\n",
    "    DEF Vertex = MKPOL:<<<0,0>>,<<1>>,<<1>>>;\n",
    "    DEF Sector = JOIN:<myArc, Vertex>;\n",
    "    DEF Triangle = S:1:-1:(SIMPLEX:2);\n",
    "    DEF SectorTriangle2D = STRUCT:<T:1:0.05, Sector, T:1:2, Triangle>;\n",
    "    DEF DoubleSect = STRUCT:< SectorTriangle2D, S:1:-1:SectorTriangle2D>;\n",
    "    DEF Sect2D = S:1:(2/2.05):DoubleSect;\n",
    "    DEF Sect3D = R:<2,3>:(PI/2):(Sect2D * QUOTE:<0.8>);\n",
    "    DEF CurvedSect = (cylMap ~ T:2:(r0 %- 2%) ~ S:<1,3>:<(2*PI)/(11*4),3> ):Sect3D;\n",
    "    DEF Frieze = T:3:(3.5*hcol):CurvedSect;\n",
    "    DEF Radial11Obj (Obj::IsPol) = \n",
    "      STRUCT:< The10Obj, R:<1,2>:((20*PI)/11), Obj >\n",
    "    WHERE\n",
    "      The2Obj = (STRUCT ~ ##:2):< Obj, R:<1,2>:((2*PI)/11) >,\n",
    "      The10Obj = (STRUCT ~ ##:5):< The2Obj, R:<1,2>:((4*PI)/11) >\n",
    "    END;\n",
    "    DEF The11Frieze = Radial11Obj:Frieze;\n",
    "***"
   ]
  },
  {
   "cell_type": "markdown",
   "metadata": {},
   "source": [
    "***\n",
    "    The11Frieze;\n",
    "    STRUCT:<basement, T:3:hbasament, FullExtWall, FullTetto, CrossCourtWall,\n",
    "            CrossWalls, MedWallArcs, TheMedColumns, FullTopCourtWall, \n",
    "            FullCourTetto, The22Columns, The22Beams, The22Hwall, The11Frieze >;\n",
    "***"
   ]
  },
  {
   "cell_type": "code",
   "execution_count": 126,
   "metadata": {
    "collapsed": true
   },
   "outputs": [],
   "source": [
    "def myArc():\n",
    "    return MAP([COMP([SIN,S1]),\n",
    "                COMP([COS,S1])])(COMP([QUOTE,N(5)])(PI/10))"
   ]
  },
  {
   "cell_type": "code",
   "execution_count": 127,
   "metadata": {
    "collapsed": true
   },
   "outputs": [],
   "source": [
    "def Vertex():\n",
    "    return MKPOL([[[0,0]],[[1]],[[1]]])"
   ]
  },
  {
   "cell_type": "code",
   "execution_count": 128,
   "metadata": {
    "collapsed": true
   },
   "outputs": [],
   "source": [
    "def Sector():\n",
    "    return JOIN([myArc(),Vertex()])"
   ]
  },
  {
   "cell_type": "code",
   "execution_count": 129,
   "metadata": {
    "collapsed": true
   },
   "outputs": [],
   "source": [
    "Triangle = S(1)(-1)(SIMPLEX(2))"
   ]
  },
  {
   "cell_type": "code",
   "execution_count": 130,
   "metadata": {
    "collapsed": true
   },
   "outputs": [],
   "source": [
    "def SectorTriangle2D():\n",
    "    return STRUCT([T(1)(0.05),Sector(),T(1)(2),Triangle])"
   ]
  },
  {
   "cell_type": "code",
   "execution_count": 131,
   "metadata": {
    "collapsed": true
   },
   "outputs": [],
   "source": [
    "def DoubleSect():\n",
    "    return STRUCT([SectorTriangle2D(),S(1)(-1)(SectorTriangle2D())])"
   ]
  },
  {
   "cell_type": "code",
   "execution_count": 132,
   "metadata": {
    "collapsed": true
   },
   "outputs": [],
   "source": [
    "Sect2D = S(1)(2/2.05)(DoubleSect())"
   ]
  },
  {
   "cell_type": "code",
   "execution_count": 133,
   "metadata": {
    "collapsed": true
   },
   "outputs": [],
   "source": [
    "Sect3D = R([2,3])(PI/2)(PROD([Sect2D,QUOTE([0.8])]))"
   ]
  },
  {
   "cell_type": "code",
   "execution_count": 134,
   "metadata": {
    "collapsed": true
   },
   "outputs": [],
   "source": [
    "def CurvedSect():\n",
    "    return COMP([cylMap(),T(2)(r0),\n",
    "                 S([1,3])([(2*PI)/(11*4),3])])(Sect3D)"
   ]
  },
  {
   "cell_type": "code",
   "execution_count": 135,
   "metadata": {
    "collapsed": true
   },
   "outputs": [],
   "source": [
    "Frieze = T(3)(3.5*hCol)(CurvedSect())"
   ]
  },
  {
   "cell_type": "code",
   "execution_count": 136,
   "metadata": {
    "collapsed": true
   },
   "outputs": [],
   "source": [
    "def Radial11Obj(Obj):\n",
    "    The2Obj = COMP([STRUCT,NN(2)])([Obj,R([1,2])((2*PI)/11)])\n",
    "    The10Obj = COMP([STRUCT,NN(5)])([The2Obj,R([1,2])((4*PI)/11)])\n",
    "    return STRUCT([The10Obj,R([1,2])((20*PI)/11),Obj])"
   ]
  },
  {
   "cell_type": "code",
   "execution_count": 137,
   "metadata": {
    "collapsed": true
   },
   "outputs": [],
   "source": [
    "The11Frieze = Radial11Obj(Frieze)"
   ]
  },
  {
   "cell_type": "code",
   "execution_count": 138,
   "metadata": {},
   "outputs": [
    {
     "data": {
      "text/plain": [
       "<pyplasm.xgepy.Hpc; proxy of <Swig Object of type 'std::shared_ptr< Hpc > *' at 0x181f218870> >"
      ]
     },
     "execution_count": 138,
     "metadata": {},
     "output_type": "execute_result"
    }
   ],
   "source": [
    "VIEW(The11Frieze)"
   ]
  },
  {
   "cell_type": "markdown",
   "metadata": {
    "collapsed": true
   },
   "source": [
    "### Image The11Frieze"
   ]
  },
  {
   "cell_type": "markdown",
   "metadata": {},
   "source": [
    "![](img/The_11_Frieze.png)"
   ]
  },
  {
   "cell_type": "code",
   "execution_count": 139,
   "metadata": {},
   "outputs": [
    {
     "data": {
      "text/plain": [
       "<pyplasm.xgepy.Hpc; proxy of <Swig Object of type 'std::shared_ptr< Hpc > *' at 0x181f218ea0> >"
      ]
     },
     "execution_count": 139,
     "metadata": {},
     "output_type": "execute_result"
    }
   ],
   "source": [
    "VIEW(STRUCT([basement(),T(3)(hbasament),FullExtWall(),\n",
    "             MedWallArcs(),CrossWalls(),FullTetto(),\n",
    "             CrossCourtWall(),FullTopCourtWall(),\n",
    "             FullCourTetto(),The22Columns,\n",
    "             The22Beams,The22Hwall,The11Frieze]))"
   ]
  },
  {
   "cell_type": "markdown",
   "metadata": {},
   "source": [
    "![](img/struct_the_11_Frieze.png)"
   ]
  },
  {
   "cell_type": "markdown",
   "metadata": {},
   "source": [
    "## Traliccio Tetto Interno"
   ]
  },
  {
   "cell_type": "markdown",
   "metadata": {},
   "source": [
    "***\n",
    "    \n",
    "    DEF Trellis (H,L::IsRealPos) = (R:<2,3>:(PI/2) ~ EMBED:1 ~ MKPOL):\n",
    "      <<<0,0>,<L/3,0>,<2*L/3,0>,<L,0>,<2*L/3,H/3>,<L/3,2*H/3>,<0,H>>,\n",
    "       <<1,2>,<2,3>,<3,4>,<4,5>,<5,6>,<6,7>,<7,1>,<1,6>,<6,2>,<2,5>,<5,3>>,\n",
    "       <1..11> > ;\n",
    "    DEF Radial (n::IsIntPos)(obj::IsPol) = (STRUCT ~ ##:3):\n",
    "       <(STRUCT ~ ##:(n/3)):< obj, R:<1,2>:(2*PI/n) >, R:<1,2>:(2*PI/3)>;\n",
    "\n",
    "    DEF TrellisTop3D = (T:2:-0.25 ~ S:2:0.5 ~ OffSet:<1,1,1> ~ Trellis):<hcol,r0 - 1>;\n",
    "    DEF TheTopTrellis = T:3:(3.5*hcol):TrellisTop3D;\n",
    "    DEF TopTrellis = Radial:12:TheTopTrellis;\n",
    "***"
   ]
  },
  {
   "cell_type": "markdown",
   "metadata": {},
   "source": [
    "***\n",
    "    STRUCT:< The11Frieze, TopTrellis >;\n",
    "\n",
    "    STRUCT:<basement, T:3:hbasament, FullExtWall, FullTetto, CrossCourtWall,\n",
    "            CrossWalls, MedWallArcs, TheMedColumns, FullTopCourtWall, \n",
    "            FullCourTetto, The22Columns, The22Beams, The22Hwall, \n",
    "            The11Frieze, TopTrellis >;\n",
    "***        "
   ]
  },
  {
   "cell_type": "code",
   "execution_count": 140,
   "metadata": {
    "collapsed": true
   },
   "outputs": [],
   "source": [
    "def Trellis(args):\n",
    "    H,L=args\n",
    "    return COMP([R([2,3])(PI/2),\n",
    "                EMBED(1),\n",
    "                 MKPOL])([[[0,0],[L/3,0],\n",
    "                           [2*L/3,0],\n",
    "                           [L,0],[2*L/3,H/3],[L/3,2*H/3],[0,H]],\n",
    "                          [[1,2],[2,3],[3,4],[4,5],[5,6],[6,7],[7,1],[1,6],\n",
    "                          [6,2],[2,5],[5,3]],\n",
    "                          [1,2,3,4,5,6,7,8,9,10,11]])"
   ]
  },
  {
   "cell_type": "code",
   "execution_count": 141,
   "metadata": {
    "collapsed": true
   },
   "outputs": [],
   "source": [
    "def Radial(n):\n",
    "    def Radial_0(obj):\n",
    "        return COMP([STRUCT,NN(n/3)])([COMP([STRUCT,NN(n/3)])\n",
    "                                       ([obj,R([1,2])(2*PI/n)]), R([1,2])(2*PI/3)])\n",
    "    return Radial_0"
   ]
  },
  {
   "cell_type": "code",
   "execution_count": 142,
   "metadata": {
    "collapsed": true
   },
   "outputs": [],
   "source": [
    "def TrellisTop3D():\n",
    "    return COMP([T(2)(-0.25),\n",
    "                S(2)(0.5),\n",
    "                OFFSET([1,1,1]),\n",
    "                Trellis])([hCol,r0-1])"
   ]
  },
  {
   "cell_type": "code",
   "execution_count": 143,
   "metadata": {
    "collapsed": true
   },
   "outputs": [],
   "source": [
    "TheTopTrellis = T(3)(3.5*hCol)(TrellisTop3D())"
   ]
  },
  {
   "cell_type": "code",
   "execution_count": 144,
   "metadata": {},
   "outputs": [
    {
     "data": {
      "text/plain": [
       "<pyplasm.xgepy.Hpc; proxy of <Swig Object of type 'std::shared_ptr< Hpc > *' at 0x181f2015d0> >"
      ]
     },
     "execution_count": 144,
     "metadata": {},
     "output_type": "execute_result"
    }
   ],
   "source": [
    "VIEW(TheTopTrellis)"
   ]
  },
  {
   "cell_type": "markdown",
   "metadata": {},
   "source": [
    "### Image TheTopTrellis"
   ]
  },
  {
   "cell_type": "markdown",
   "metadata": {},
   "source": [
    "![](img/TheTopTrellis.png)"
   ]
  },
  {
   "cell_type": "code",
   "execution_count": 145,
   "metadata": {},
   "outputs": [],
   "source": [
    "TopTrellis = Radial(12)(TheTopTrellis)"
   ]
  },
  {
   "cell_type": "code",
   "execution_count": 146,
   "metadata": {},
   "outputs": [
    {
     "data": {
      "text/plain": [
       "<pyplasm.xgepy.Hpc; proxy of <Swig Object of type 'std::shared_ptr< Hpc > *' at 0x181f201780> >"
      ]
     },
     "execution_count": 146,
     "metadata": {},
     "output_type": "execute_result"
    }
   ],
   "source": [
    "VIEW(TopTrellis)"
   ]
  },
  {
   "cell_type": "markdown",
   "metadata": {},
   "source": [
    "### Image TopTrellis"
   ]
  },
  {
   "cell_type": "markdown",
   "metadata": {},
   "source": [
    "![](img/radial_Trellis.png)"
   ]
  },
  {
   "cell_type": "code",
   "execution_count": 147,
   "metadata": {},
   "outputs": [
    {
     "data": {
      "text/plain": [
       "<pyplasm.xgepy.Hpc; proxy of <Swig Object of type 'std::shared_ptr< Hpc > *' at 0x181f201960> >"
      ]
     },
     "execution_count": 147,
     "metadata": {},
     "output_type": "execute_result"
    }
   ],
   "source": [
    "top_trellis = STRUCT([The11Frieze,TopTrellis])\n",
    "VIEW(top_trellis)"
   ]
  },
  {
   "cell_type": "markdown",
   "metadata": {},
   "source": [
    "### Image Toptrellis"
   ]
  },
  {
   "cell_type": "markdown",
   "metadata": {},
   "source": [
    "![](img/top_trellis.png)"
   ]
  },
  {
   "cell_type": "code",
   "execution_count": 148,
   "metadata": {},
   "outputs": [
    {
     "data": {
      "text/plain": [
       "<pyplasm.xgepy.Hpc; proxy of <Swig Object of type 'std::shared_ptr< Hpc > *' at 0x181f201db0> >"
      ]
     },
     "execution_count": 148,
     "metadata": {},
     "output_type": "execute_result"
    }
   ],
   "source": [
    "VIEW(STRUCT([basement(),T(3)(hbasament),FullExtWall(),MedWallArcs(),CrossWalls(),FullTetto(),CrossCourtWall(),FullTopCourtWall(),FullCourTetto(),\n",
    "             The22Columns,The22Beams,The22Hwall,\n",
    "             The11Frieze,TopTrellis]))"
   ]
  },
  {
   "cell_type": "markdown",
   "metadata": {},
   "source": [
    "![](img/struct_TopTrellis.png)"
   ]
  },
  {
   "cell_type": "markdown",
   "metadata": {},
   "source": [
    "## Tralaccio Tetto intermedio"
   ]
  },
  {
   "cell_type": "markdown",
   "metadata": {},
   "source": [
    "***\n",
    "    DEF TrellisMed3D = (T:2:-0.25 ~ S:2:0.5 ~ OffSet:<1,1,1> ~ Trellis):<hcol,r2 - r0>;\n",
    "    DEF TheMedTrellis = T:3:(hcol+3):TrellisMed3D;\n",
    "    DEF MedTrellis = Radial:24:(T:1:r0:TheMedTrellis);\n",
    "    DEF DoubleMedTrellis = STRUCT:<MedTrellis, R:<1,2>:(PI/24), MedTrellis>;\n",
    "***"
   ]
  },
  {
   "cell_type": "markdown",
   "metadata": {},
   "source": [
    "***\n",
    "    DEF out = (CenteredCameras ~ STRUCT):\n",
    "      <basement, T:3:hbasament, FullExtWall, FullTetto, CrossCourtWall,\n",
    "            CrossWalls, MedWallArcs, TheMedColumns, FullTopCourtWall, \n",
    "            FullCourTetto, The22Columns, The22Beams, The22Hwall, \n",
    "            The11Frieze, TopTrellis , DoubleMedTrellis >;\n",
    "***"
   ]
  },
  {
   "cell_type": "markdown",
   "metadata": {},
   "source": [
    "***\n",
    "    DEF out = STRUCT:\n",
    "      <basement, T:3:hbasament, FullExtWall, FullTetto, CrossCourtWall,\n",
    "            CrossWalls, MedWallArcs, TheMedColumns, FullTopCourtWall, \n",
    "            FullCourTetto, The22Columns, The22Beams, The22Hwall, \n",
    "            The11Frieze, TopTrellis , DoubleMedTrellis >;\n",
    "***"
   ]
  },
  {
   "cell_type": "code",
   "execution_count": 149,
   "metadata": {
    "collapsed": true
   },
   "outputs": [],
   "source": [
    "def TrellisMed3D():\n",
    "    return COMP([T(2)(-0.25),S(2)(0.5),OFFSET([1,1,1]),\n",
    "                 Trellis])([hCol,r2-r0])"
   ]
  },
  {
   "cell_type": "code",
   "execution_count": 150,
   "metadata": {
    "collapsed": true
   },
   "outputs": [],
   "source": [
    "TheMedTrellis = T(3)(hCol+3)(TrellisMed3D())"
   ]
  },
  {
   "cell_type": "code",
   "execution_count": 151,
   "metadata": {
    "collapsed": true
   },
   "outputs": [],
   "source": [
    "MedTrellis = Radial(24)(T(1)(r0)(TheMedTrellis))"
   ]
  },
  {
   "cell_type": "code",
   "execution_count": 152,
   "metadata": {
    "collapsed": true
   },
   "outputs": [],
   "source": [
    "def DoubleMedTrellis():\n",
    "    return STRUCT([MedTrellis,R([1,2])(PI/24),MedTrellis])"
   ]
  },
  {
   "cell_type": "code",
   "execution_count": 153,
   "metadata": {},
   "outputs": [
    {
     "data": {
      "text/plain": [
       "<pyplasm.xgepy.Hpc; proxy of <Swig Object of type 'std::shared_ptr< Hpc > *' at 0x181f217180> >"
      ]
     },
     "execution_count": 153,
     "metadata": {},
     "output_type": "execute_result"
    }
   ],
   "source": [
    "VIEW(DoubleMedTrellis())"
   ]
  },
  {
   "cell_type": "markdown",
   "metadata": {},
   "source": [
    "### Image DoubleMedTrellis"
   ]
  },
  {
   "cell_type": "markdown",
   "metadata": {},
   "source": [
    "![](img/doublemedtrellis.png)"
   ]
  },
  {
   "cell_type": "code",
   "execution_count": 154,
   "metadata": {
    "collapsed": true
   },
   "outputs": [],
   "source": [
    "def out():\n",
    "    return STRUCT([basement(),T(3)(hbasament),FullExtWall(),FullTetto(),\n",
    "                   CrossCourtWall(),CrossWalls(),MedWallArcs(),TheMedColumns(),\n",
    "                   FullTopCourtWall(),FullCourTetto(),The22Columns,The22Beams,\n",
    "                   The22Hwall,The11Frieze,TopTrellis,DoubleMedTrellis()])"
   ]
  },
  {
   "cell_type": "code",
   "execution_count": 155,
   "metadata": {},
   "outputs": [
    {
     "data": {
      "text/plain": [
       "<pyplasm.xgepy.Hpc; proxy of <Swig Object of type 'std::shared_ptr< Hpc > *' at 0x181f217720> >"
      ]
     },
     "execution_count": 155,
     "metadata": {},
     "output_type": "execute_result"
    }
   ],
   "source": [
    "VIEW(out())"
   ]
  },
  {
   "cell_type": "markdown",
   "metadata": {},
   "source": [
    "![](img/ssr1.png)"
   ]
  },
  {
   "cell_type": "code",
   "execution_count": null,
   "metadata": {
    "collapsed": true
   },
   "outputs": [],
   "source": []
  }
 ],
 "metadata": {
  "kernelspec": {
   "display_name": "Python 2",
   "language": "python",
   "name": "python2"
  },
  "language_info": {
   "codemirror_mode": {
    "name": "ipython",
    "version": 2
   },
   "file_extension": ".py",
   "mimetype": "text/x-python",
   "name": "python",
   "nbconvert_exporter": "python",
   "pygments_lexer": "ipython2",
   "version": "2.7.12"
  }
 },
 "nbformat": 4,
 "nbformat_minor": 2
}
