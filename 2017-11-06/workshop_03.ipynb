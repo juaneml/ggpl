{
 "cells": [
  {
   "cell_type": "markdown",
   "metadata": {},
   "source": [
    "# Leonardo scheme"
   ]
  },
  {
   "cell_type": "markdown",
   "metadata": {},
   "source": [
    "[leonardo_church_1]( https://github.com/juaneml/ggpl/blob/master/2017-11-06/leo_church_2.png)"
   ]
  },
  {
   "cell_type": "markdown",
   "metadata": {},
   "source": [
    "[leonardo church 2]( https://github.com/juaneml/ggpl/blob/master/2017-11-06/leo_church_2.png)"
   ]
  },
  {
   "cell_type": "code",
   "execution_count": 1,
   "metadata": {},
   "outputs": [
    {
     "name": "stdout",
     "output_type": "stream",
     "text": [
      "Evaluating fenvs.py..\n",
      "...fenvs.py imported in 0.007693 seconds\n"
     ]
    }
   ],
   "source": [
    "from pyplasm import *"
   ]
  },
  {
   "cell_type": "code",
   "execution_count": 2,
   "metadata": {
    "collapsed": true
   },
   "outputs": [],
   "source": [
    "def Hemisphere(radius):\n",
    "    '''\n",
    "    Method to create hemisphere with radius like argument.\n",
    "    '''\n",
    "    def GSPHERE0(subds):\n",
    "        N, M = subds\n",
    "        domain = Hpc(Grid([N * [PI / N], M * [PI / M]]))\n",
    "        domain = MAT([[1, 0, 0, 0], [-PI * 2, 1, 0, 0], [-PI, 0, 1, 0], [0, 0, 0, 1]])(domain)\n",
    "        fx = lambda p: radius * math.cos(p[0]) * math.sin(p[1])\n",
    "        fy = lambda p: radius * math.cos(p[0]) * math.cos(p[1])\n",
    "        fz = lambda p: radius * math.sin(p[0])\n",
    "        ret = GMAP([fx,fy,fz])(domain)\n",
    "        return ret \n",
    "    return GSPHERE0"
   ]
  },
  {
   "cell_type": "code",
   "execution_count": 3,
   "metadata": {
    "collapsed": true
   },
   "outputs": [],
   "source": [
    "def Grass(sx,sy,sz):\n",
    "    '''\n",
    "    Method to create shape floor grass.\n",
    "    *Arguments:\n",
    "    - sx: span high in axis x.\n",
    "    - sy: span width in axis y.\n",
    "    - sz: span depth in axis z.\n",
    "    \n",
    "    Create floor grass.\n",
    "    Return(CUBOID(sx,sy,sz)).\n",
    "    '''\n",
    "    return HEX('#00ff55')(T([3,2,1])([-0.1,-sx/2.0,-sy/2.0])(CUBOID([sx,sy,sz])))"
   ]
  },
  {
   "cell_type": "code",
   "execution_count": 4,
   "metadata": {
    "collapsed": true
   },
   "outputs": [],
   "source": [
    "def frame(tx,sx,sy,th,tw,face):\n",
    "    \n",
    "    '''\n",
    "    Method to create frame to windows.\n",
    "    *Arguments:\n",
    "    - tx: elevation to frame in axis x.\n",
    "    - sx: high span to frame in axis x.\n",
    "    - sy: width span to frame in axis y.\n",
    "    - th: high frame about floor.\n",
    "    - tw: width frame aboot frame.\n",
    "\n",
    "    - make a loop to create two tube shapes.\n",
    "    - f: is a vector to add the frame.\n",
    "\n",
    "    return STRUCT(f)\n",
    "        \n",
    "    '''\n",
    "    \n",
    "    f = []\n",
    "    \n",
    "    for k in range(0,2):\n",
    "        if k==0:\n",
    "            f.append(HEX('#737373')(T(3)(tx)(S([1,2])([sx,sy])(TUBE([th,1,tw])(face))))  )\n",
    "        else:\n",
    "            f.append(HEX('#737373')(T(3)(tx+0.53)(S([1,2])([sx,sy])(TUBE([th,1,tw])(face)))) )\n",
    "    return STRUCT(f)"
   ]
  },
  {
   "cell_type": "code",
   "execution_count": 5,
   "metadata": {
    "collapsed": true
   },
   "outputs": [],
   "source": [
    "def Stairs(tx,sy,sz,cw,face):\n",
    "    \n",
    "    '''\n",
    "    Method to create stairs to church.\n",
    "    *Arguments:\n",
    "    - tx: elevation to cylinder shape in axis x.\n",
    "    - sy: width span to cylinder shape in axis y.\n",
    "    - sz: depth span to cylinder shape in axis z.\n",
    "    - cw: width cylinder cylinder shape.\n",
    "    - face: number of faces cylinder shape.\n",
    "\n",
    "    - st: vector to add cylinder shapes.\n",
    "    - make a loop to create six cylinder shapes.\n",
    "\n",
    "    return STRUCT(st)\n",
    "    \n",
    "    '''\n",
    "    st = []\n",
    "    \n",
    "    for k in range(0,6):\n",
    "        if k==0:\n",
    "            st.append(HEX('#af9d83')(T(3)(tx)(S([1, 2])([sy,sz])\n",
    "                                              (CYLINDER([1,cw])(face))) ))\n",
    "        elif k==1:\n",
    "            st.append(HEX('#a6a6a6')(T(3)(tx+0.010)(S([1, 2])([sy-0.20,sz-0.20])\n",
    "                                              (CYLINDER([1,cw+0.010])(face))) ))\n",
    "        elif k==2:\n",
    "            st.append(HEX('#a6a6a6')(T(3)(tx+0.020)(S([1, 2])([sy-0.22,sz-0.22])\n",
    "                                              (CYLINDER([1,cw+0.010])(face))) ))\n",
    "        elif k==3:\n",
    "            st.append(HEX('#a6a6a6')(T(3)(tx+0.022)(S([1, 2])([sy-0.25,sz-0.25])\n",
    "                                              (CYLINDER([1,cw+0.010])(face))) ))\n",
    "        elif k==4:\n",
    "            st.append(HEX('#a6a6a6')(T(3)(tx+0.025)(S([1, 2])([sy-0.28,sz-0.28])\n",
    "                                              (CYLINDER([1,cw+0.010])(face))) ))\n",
    "        elif k==5:\n",
    "            st.append(HEX('#a6a6a6')(T(3)(tx+0.027)(S([1, 2])([sy-0.30,sz-0.30])\n",
    "                                              (CYLINDER([1,cw+0.015])(face))) ))\n",
    "    return STRUCT(st)"
   ]
  },
  {
   "cell_type": "code",
   "execution_count": 6,
   "metadata": {},
   "outputs": [
    {
     "data": {
      "text/plain": [
       "<pyplasm.xgepy.Hpc; proxy of <Swig Object of type 'std::shared_ptr< Hpc > *' at 0x106b07270> >"
      ]
     },
     "execution_count": 6,
     "metadata": {},
     "output_type": "execute_result"
    }
   ],
   "source": [
    "VIEW(Stairs(0.000,1.20,1.20,0.015,34))"
   ]
  },
  {
   "cell_type": "markdown",
   "metadata": {},
   "source": [
    "### Stairs"
   ]
  },
  {
   "cell_type": "markdown",
   "metadata": {},
   "source": [
    "![sin titulo](stairs.png)"
   ]
  },
  {
   "cell_type": "code",
   "execution_count": 7,
   "metadata": {
    "collapsed": true
   },
   "outputs": [],
   "source": [
    "def Cantilever_1(tx,cw,ch,face):\n",
    "    \n",
    "    '''\n",
    "    Method to create cantilever to column.\n",
    "    *Arguments:\n",
    "    - sx: high span to cylinder shape in axis x.\n",
    "    - sy: axis span to cylinder shape in axis y.\n",
    "    - sz: axis span to cylinder shape in axis z.\n",
    "    - cw: cylinder width.\n",
    "    - ch: cylinder high.\n",
    "    - face: cylinder number face .\n",
    "    - cylinder: vector.\n",
    "    \n",
    "    return STRUCT(cylinder)\n",
    "    '''\n",
    "    cylinder = []\n",
    "    \n",
    "    for k in range(0,3):\n",
    "        if k==0:\n",
    "            cylinder.append(HEX('#737373')(T(3)(tx)(CYLINDER([cw,ch])(face))) )\n",
    "        elif k==1:\n",
    "            cylinder.append(HEX('#737373')(T(3)((tx+0.08))(CYLINDER([(cw+0.07),ch])(face))) )\n",
    "\n",
    "        elif k==2:\n",
    "            cylinder.append(HEX('#737373')(T(3)((tx+0.16))(CYLINDER([(cw+0.1),ch])(face))) )\n",
    "\n",
    "\n",
    "    return STRUCT(cylinder)"
   ]
  },
  {
   "cell_type": "code",
   "execution_count": 8,
   "metadata": {},
   "outputs": [
    {
     "data": {
      "text/plain": [
       "<pyplasm.xgepy.Hpc; proxy of <Swig Object of type 'std::shared_ptr< Hpc > *' at 0x10776cd80> >"
      ]
     },
     "execution_count": 8,
     "metadata": {},
     "output_type": "execute_result"
    }
   ],
   "source": [
    "VIEW(Cantilever_1(0.90,0.90,0.075,24))"
   ]
  },
  {
   "cell_type": "markdown",
   "metadata": {},
   "source": [
    "### CANTILEVER"
   ]
  },
  {
   "cell_type": "markdown",
   "metadata": {},
   "source": [
    "![Sin titulo](cantilever.png)"
   ]
  },
  {
   "cell_type": "code",
   "execution_count": 9,
   "metadata": {
    "collapsed": true
   },
   "outputs": [],
   "source": [
    "def FirstFloor(tx,sz,sy,th,tw,face):\n",
    "    \n",
    "    '''\n",
    "    Method to create the first floor to the church.\n",
    "    *arguments:\n",
    "    - tx: high to axis x.\n",
    "    - sz: depth span to axis z.\n",
    "    - sy: width span to axis y.\n",
    "    - th: high to shape.\n",
    "    - tw: width to shape.\n",
    "    - face: number face to shape.\n",
    "    - floor: vector to shape.\n",
    "    *create stairs.\n",
    "    *frame windows.\n",
    "    *windows and cantilever.\n",
    "    \n",
    "    return(floor)\n",
    "    '''\n",
    "    \n",
    "    floor = []\n",
    "    #STAIRS\n",
    "    floor.append(Stairs(0.000,1.20,1.20,0.015,34))\n",
    "\n",
    "    #FLOOR\n",
    "    floor.append(HEX('#ffffff')(T(3)(tx)(S([1,2])([sz,sy])(TUBE([th,1,tw])(face))) ) )\n",
    "\n",
    "    #FRAME WINDOWS \n",
    "    floor.append(frame(0.17,-0.85,-0.85,0.62,0.025,22))\n",
    "\n",
    "    #WINDOWS\n",
    "    floor.append(HEX('#cce6ff')(T(3)((tx+0.17))(S([1,2])([sz,sy])\n",
    "                                   (TUBE([(th+0.02),1,(tw-0.4)])(face))) ))\n",
    "\n",
    "\n",
    "    #CANTILEVER\n",
    "    floor.append(Cantilever_1(0.90,0.90,0.075,24))\n",
    "\n",
    "    return STRUCT (floor)\n",
    " "
   ]
  },
  {
   "cell_type": "code",
   "execution_count": 10,
   "metadata": {
    "collapsed": true
   },
   "outputs": [],
   "source": [
    "def SecondFloor(tx,sz,sy,th,tw,face):\n",
    "        '''\n",
    "        Method to create second floor to the church.\n",
    "        *arguments:\n",
    "        - tx: high to axis x.\n",
    "        - sz: depth span to axis z.\n",
    "        - sy: width span to axis y.\n",
    "        - th: high to shape.\n",
    "        - tw: width to shape.\n",
    "        - face: number face to shape.\n",
    "        - floor: vector to shape.\n",
    "        *windows \n",
    "        \n",
    "        return STRUCT(floor)\n",
    "        '''\n",
    "        floor = []\n",
    "        \n",
    "        #FLOOR      \n",
    "        floor.append(HEX('#ffffff')(T(3)(tx)(S([1, 2])([sz,sy])\n",
    "                                              (TUBE([th,1,tw])(face))) ))\n",
    "        \n",
    "        #WINDOWS     \n",
    "        floor.append(HEX('#cce6ff')(T(3)(tx+0.4)(S([1, 2])([ (sz+0.02),(sy+0.02)])\n",
    "                                 (R([1,2])(PI/face)(TUBE([th,1,(tw-0.45)])(face))) )))\n",
    "        \n",
    "        return STRUCT(floor)"
   ]
  },
  {
   "cell_type": "code",
   "execution_count": 11,
   "metadata": {
    "collapsed": true
   },
   "outputs": [],
   "source": [
    "def Cantilever_2(sx,sy,sz,cw,ch,face):\n",
    "    \n",
    "    '''\n",
    "        Method to create cantilever to column.\n",
    "        *Arguments:\n",
    "        - sx high span to cylinder shape in axis x.\n",
    "        - sy width span to cylinder shape in axis y.\n",
    "        - sz depth span to cylinder shape in axis z.\n",
    "        - cw cylinder width.\n",
    "        - ch cylinder high.\n",
    "        - face cylinder number face. \n",
    "        - cylinder vector.\n",
    "        - plus constant to increment.\n",
    "        \n",
    "        return STRUCT(cylinder)\n",
    "        \n",
    "    '''\n",
    "    \n",
    "    cylinder = []\n",
    "    plus = 0.02\n",
    "    \n",
    "    for k in range(0,3):\n",
    "        \n",
    "        if k == 0:\n",
    "            cylinder.append(HEX('#737373')(T([3,2,1])([sx,sy,sz])(CYLINDER([cw,ch])(face))))\n",
    "            \n",
    "        elif k==1:\n",
    "            cylinder.append(HEX('#737373')(T([3,2,1])([(sx+plus),sy,sz])(CYLINDER([(cw+plus),ch])(face))))\n",
    "            \n",
    "        elif k==2:\n",
    "            cylinder.append(HEX('#737373')(T([3,2,1])([(sx+(2*plus)),sy,sz])\n",
    "                                           (CYLINDER([(cw+(2*plus)),ch])(face))))\n",
    "            \n",
    "    return STRUCT(cylinder)\n",
    "    "
   ]
  },
  {
   "cell_type": "code",
   "execution_count": 12,
   "metadata": {
    "collapsed": true
   },
   "outputs": [],
   "source": [
    "def Column(sx,sy,sz,ht,face):\n",
    "    '''\n",
    "        Method to create column\n",
    "        - sx: high span axis x\n",
    "        - sy: width span axis y\n",
    "        - sz: depth span axis z\n",
    "        - ht: high tube\n",
    "        - face: number to face shape\n",
    "        \n",
    "        -thick: thickness constant\n",
    "        -shape: vector shapes\n",
    "        \n",
    "    '''\n",
    "    thick = 0.25\n",
    "    shape = []\n",
    "    \n",
    "    shape.append( HEX('#ffffff')(T([3,2,1])([sx,sy,sz])(S([1, 2])\n",
    "                                        ([thick,thick])(TUBE([ht,1, thick])(face))) ) )\n",
    "    #CANTILEVER\n",
    "    shape.append(Cantilever_2( (sx+thick),sy,sz,thick,thick/10,face))\n",
    "        \n",
    "    #DOME\n",
    "    shape.append(HEX('#b3b3b3')(T([3,2,1])([(sx+0.3),sy,sz])\n",
    "                                (JOIN(Hemisphere(thick)([12,4])) )))\n",
    "         \n",
    "    #TIP\n",
    "    shape.append(HEX('#fff402')(T([3,2,1])([(sx+0.53),sy,sz])\n",
    "                                (JOIN(Hemisphere((0.25/5))([2,4])))))\n",
    "        \n",
    "    #WINDOWS \n",
    "        \n",
    "    shape.append(HEX('#cce6ff')(T([3,2,1])([(sx+0.07),sy,sz])(S([1,2])([thick,thick])\n",
    "                                    (R([1,2])(PI/face)(TUBE([(ht-0.18),1,\n",
    "                                                             (thick-0.10)])(face))))) )\n",
    "    return STRUCT(shape)"
   ]
  },
  {
   "cell_type": "code",
   "execution_count": 13,
   "metadata": {},
   "outputs": [
    {
     "name": "stdout",
     "output_type": "stream",
     "text": [
      "Child 3\n"
     ]
    },
    {
     "data": {
      "text/plain": [
       "<pyplasm.xgepy.Hpc; proxy of <Swig Object of type 'std::shared_ptr< Hpc > *' at 0x10761ea20> >"
      ]
     },
     "execution_count": 13,
     "metadata": {},
     "output_type": "execute_result"
    }
   ],
   "source": [
    "VIEW(HEX('#fff402')(T([3,2,1])([0,0,0])\n",
    "                                (JOIN(Hemisphere((0.25/5))([2,4]))))) #TIP"
   ]
  },
  {
   "cell_type": "markdown",
   "metadata": {},
   "source": [
    "### TIP"
   ]
  },
  {
   "cell_type": "markdown",
   "metadata": {},
   "source": [
    "![sin titulo](tip.png)"
   ]
  },
  {
   "cell_type": "code",
   "execution_count": 14,
   "metadata": {},
   "outputs": [
    {
     "name": "stdout",
     "output_type": "stream",
     "text": [
      "Child 3\n",
      "Child 3\n"
     ]
    },
    {
     "data": {
      "text/plain": [
       "<pyplasm.xgepy.Hpc; proxy of <Swig Object of type 'std::shared_ptr< Hpc > *' at 0x10761e8d0> >"
      ]
     },
     "execution_count": 14,
     "metadata": {},
     "output_type": "execute_result"
    }
   ],
   "source": [
    "VIEW(Column(0,0,0,0.8,8) )"
   ]
  },
  {
   "cell_type": "markdown",
   "metadata": {},
   "source": [
    "### COLUMN"
   ]
  },
  {
   "cell_type": "markdown",
   "metadata": {},
   "source": [
    "![Sin titulo](column.png)"
   ]
  },
  {
   "cell_type": "code",
   "execution_count": 15,
   "metadata": {
    "collapsed": true
   },
   "outputs": [],
   "source": [
    "def Cantilever_3(sx,sy,sz,cw,ch,face):\n",
    "    \n",
    "    '''\n",
    "    Method to create cantilever.\n",
    "    *Arguments:\n",
    "    - sx: high span axis x\n",
    "    - sy: width span axis y\n",
    "    - sz: depth span axis z\n",
    "    - cw: cylinder width\n",
    "    - ch: cylinder high\n",
    "    - face: cylinder number face \n",
    "    - cylinder: vector\n",
    "    - plus constant to increment\n",
    "    '''\n",
    "    cylinder = []\n",
    "    plus = 0.02\n",
    "    \n",
    "    for k in range(0,6):\n",
    "        \n",
    "        if k == 0:\n",
    "            cylinder.append(HEX('#737373')(T([3,2,1])([sx,sy,sz])\n",
    "                                           (CYLINDER([cw,ch])(face))))\n",
    "            \n",
    "        elif k==1:\n",
    "            cylinder.append(HEX('#737373')(T([3,2,1])([(sx+0.02),sy,sz])\n",
    "                                           (CYLINDER([(cw+0.1),ch])(face))))\n",
    "            \n",
    "        elif k==2:\n",
    "            cylinder.append(HEX('#737373')(T([3,2,1])([(sx+(0.02*2)),sy,sz])\n",
    "                                           (CYLINDER([(cw+0.12),ch])(face))))\n",
    "        elif k==3: #CENTRAL\n",
    "            cylinder.append(HEX('#737373')(T([3,2,1])([(sx+0.55),sy,sz])\n",
    "                            (S([1,2])([1,1])(CYLINDER([(cw-0.42),ch+0.175])(face*3)))))\n",
    "        elif k==4: #DOWN\n",
    "            cylinder.append(HEX('#737373')(T([3,2,1])([(sx+0.54),sy,sz])\n",
    "                            (S([1,2])([1,1])(CYLINDER([(cw-0.40),ch+0.015])(face*3)))))\n",
    "        elif k==5: #UP\n",
    "            cylinder.append(HEX('#737373')(T([3,2,1])([(sx+0.75),sy,sz])\n",
    "                            (S([1,2])([1,1])(CYLINDER([(cw-0.40),ch+0.015])(face*3)))))\n",
    "            \n",
    "    return STRUCT(cylinder)"
   ]
  },
  {
   "cell_type": "code",
   "execution_count": 16,
   "metadata": {
    "collapsed": true
   },
   "outputs": [],
   "source": [
    "def Dome(sx,sy,sz,cw,face):\n",
    "    \n",
    "    '''\n",
    "    Method to create dome.\n",
    "    *Arguments:\n",
    "    - sx axis x\n",
    "    - sy axis y\n",
    "    - sz axis z\n",
    "    - cw cylinder width\n",
    "    - ch cylinder high\n",
    "    - face cylinder number face \n",
    "    - cylinder vector\n",
    "    - thick constant to increment\n",
    "    '''\n",
    "    \n",
    "    thick = 0.025\n",
    "    shape = []\n",
    "    \n",
    "    #CANTILEVER\n",
    "    shape.append(Cantilever_3(sx,sy,sz,cw,thick,face))\n",
    "        \n",
    "    #DOME\n",
    "    shape.append(HEX('#b3b3b3')((T(3)(sx))(JOIN(Hemisphere( (cw+0.05) )([(face+4),4]))) ))\n",
    "    \n",
    "    return STRUCT(shape)\n",
    "  "
   ]
  },
  {
   "cell_type": "code",
   "execution_count": 17,
   "metadata": {},
   "outputs": [
    {
     "name": "stdout",
     "output_type": "stream",
     "text": [
      "Child 3\n"
     ]
    },
    {
     "data": {
      "text/plain": [
       "<pyplasm.xgepy.Hpc; proxy of <Swig Object of type 'std::shared_ptr< Hpc > *' at 0x107e4b5d0> >"
      ]
     },
     "execution_count": 17,
     "metadata": {},
     "output_type": "execute_result"
    }
   ],
   "source": [
    "VIEW( HEX('#b3b3b3')(((T(3)(0.7))(JOIN(Hemisphere(0.55)([12,4]))) ) ))"
   ]
  },
  {
   "cell_type": "markdown",
   "metadata": {},
   "source": [
    "### DOME"
   ]
  },
  {
   "cell_type": "markdown",
   "metadata": {},
   "source": [
    "![Sin titulo](dome.png)"
   ]
  },
  {
   "cell_type": "code",
   "execution_count": 18,
   "metadata": {},
   "outputs": [],
   "source": [
    "def Cross(sx,sz,cux,cuy,cuz):\n",
    "    \n",
    "    '''\n",
    "    Method to create cross:\n",
    "    *Arguments:\n",
    "    - sx: high span axis x\n",
    "    - sz: width span axis y\n",
    "    - cux:high axis x to CUBOID\n",
    "    - cuy:width axis y to CUBOID\n",
    "    - cuz: depth axis z to CUBOID\n",
    "    \n",
    "    *variable:\n",
    "    - shape: vector to shapes\n",
    "    \n",
    "    return STRUCT(shape)\n",
    "    ''' \n",
    "    shape = []\n",
    "    shape.append(COLOR(BLACK)(T(3)(sx)(S([1, 2])([1.0,1.0])(CUBOID([cux,cuy,cuz]))) )  )\n",
    "    shape.append(COLOR(BLACK)(T([3,1])([(sx+0.33),sz])(S([1, 2])([-1.7,1.10])\n",
    "                                              (CUBOID([(-cux-0.08),cuy,(cuz-0.38)])))))\n",
    "    return STRUCT(shape) \n",
    "    "
   ]
  },
  {
   "cell_type": "code",
   "execution_count": 19,
   "metadata": {},
   "outputs": [
    {
     "data": {
      "text/plain": [
       "<pyplasm.xgepy.Hpc; proxy of <Swig Object of type 'std::shared_ptr< Hpc > *' at 0x107e4b300> >"
      ]
     },
     "execution_count": 19,
     "metadata": {},
     "output_type": "execute_result"
    }
   ],
   "source": [
    "VIEW( Cross(0.6,-0.075,0.02,0.02,0.4) )"
   ]
  },
  {
   "cell_type": "markdown",
   "metadata": {},
   "source": [
    "### CROSS"
   ]
  },
  {
   "cell_type": "markdown",
   "metadata": {},
   "source": [
    "![Sin titulo](cross.png)"
   ]
  },
  {
   "cell_type": "code",
   "execution_count": 20,
   "metadata": {
    "collapsed": true
   },
   "outputs": [],
   "source": [
    "def church():\n",
    "    '''\n",
    "    Create building church,\n",
    "    Grass, FirstFloor, SecondFloor\n",
    "    Column1, Column2, Column3, Column3,\n",
    "    Column4, Column5, Column6, Column7,\n",
    "    Column8\n",
    "    building: vector\n",
    "    \n",
    "    '''\n",
    "    building = []\n",
    "    building.append(Grass(5,5,0.1))                          # GRASS\n",
    "    building.append(FirstFloor(0.03,-0.85,-0.85,0.6,0.9,14)) # FIRST FLOOR\n",
    "    building.append(SecondFloor(1.10,0.45,0.45,0.9,0.55,8))  # SECOND FLOOR\n",
    "    building.append(Column(1.10,0.7,0,0.8,8))                # COLUMN 1\n",
    "    building.append(Column(1.10,-0.7,0,0.8,8))               # COLUMN 2\n",
    "    building.append(Column(1.10,-0.5,-0.5,0.8,8))            # COLUMN 3\n",
    "    building.append(Column(1.10,0.5,-0.5,0.8,8))             # COLUMN 4\n",
    "    building.append(Column(1.10,0,-0.75,0.8,8))              # COLUMN 5\n",
    "    building.append(Column(1.10,0.025,0.7,0.8,8))            # COLUMN 6\n",
    "    building.append(Column(1.10,0.5,0.5,0.8,8))              # COLUMN 7\n",
    "    building.append(Column(1.10,-0.5,0.5,0.8,8))             # COLUMN 8\n",
    "    building.append(Dome(1.65,0,0,0.5,8))                    # CENTRAL DOME\n",
    "    building.append(Cross(2.36,-0.075,0.02,0.02,0.4))        # CROSS\n",
    "    return STRUCT(building)\n",
    "               "
   ]
  },
  {
   "cell_type": "code",
   "execution_count": 21,
   "metadata": {
    "scrolled": true
   },
   "outputs": [
    {
     "name": "stdout",
     "output_type": "stream",
     "text": [
      "Child 3\n",
      "Child 3\n",
      "Child 3\n",
      "Child 3\n",
      "Child 3\n",
      "Child 3\n",
      "Child 3\n",
      "Child 3\n",
      "Child 3\n",
      "Child 3\n",
      "Child 3\n",
      "Child 3\n",
      "Child 3\n",
      "Child 3\n",
      "Child 3\n",
      "Child 3\n",
      "Child 3\n"
     ]
    },
    {
     "data": {
      "text/plain": [
       "<pyplasm.xgepy.Hpc; proxy of <Swig Object of type 'std::shared_ptr< Hpc > *' at 0x110fa23c0> >"
      ]
     },
     "execution_count": 21,
     "metadata": {},
     "output_type": "execute_result"
    }
   ],
   "source": [
    "VIEW(church())"
   ]
  },
  {
   "cell_type": "markdown",
   "metadata": {},
   "source": [
    "### CHURCH"
   ]
  },
  {
   "cell_type": "markdown",
   "metadata": {
    "collapsed": true
   },
   "source": [
    "![Sin titulo](church.png)"
   ]
  },
  {
   "cell_type": "code",
   "execution_count": null,
   "metadata": {
    "collapsed": true
   },
   "outputs": [],
   "source": []
  }
 ],
 "metadata": {
  "kernelspec": {
   "display_name": "Python 2",
   "language": "python",
   "name": "python2"
  },
  "language_info": {
   "codemirror_mode": {
    "name": "ipython",
    "version": 2
   },
   "file_extension": ".py",
   "mimetype": "text/x-python",
   "name": "python",
   "nbconvert_exporter": "python",
   "pygments_lexer": "ipython2",
   "version": "2.7.12"
  }
 },
 "nbformat": 4,
 "nbformat_minor": 2
}
