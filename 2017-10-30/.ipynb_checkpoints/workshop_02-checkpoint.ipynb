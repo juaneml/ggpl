{
 "cells": [
  {
   "cell_type": "markdown",
   "metadata": {},
   "source": [
    "# My room bookcase\n"
   ]
  },
  {
   "cell_type": "markdown",
   "metadata": {},
   "source": [
    "### REFERENCES"
   ]
  },
  {
   "cell_type": "markdown",
   "metadata": {},
   "source": [
    "[Kallax 1]( https://github.com/juaneml/ggpl/blob/master/2017-10-30/KALLAX_1.png)\n",
    "[Kallax 2](https://github.com/juaneml/ggpl/blob/master/2017-10-30/KALLAX_2.png)\n",
    "[Kallax 3](https://github.com/juaneml/ggpl/blob/master/2017-10-30/KALLAX_3.png)\n",
    "[Kallax 4](https://github.com/juaneml/ggpl/blob/master/2017-10-30/KALLAX_4.png)"
   ]
  },
  {
   "cell_type": "markdown",
   "metadata": {},
   "source": [
    "[](KALLAX_1.png, KALLAX_2.png)"
   ]
  },
  {
   "cell_type": "markdown",
   "metadata": {
    "collapsed": true
   },
   "source": [
    "<html>\n",
    "\n",
    "    <img src=KALLAX_1.png width=30% height=30% align=left> \n",
    "    <img src=KALLAX_2.png width=20% height=20% align=left> \n",
    "    <img src=KALLAX_4.png width=20% height=20% align=left> \n",
    "    <img src=KALLAX_3.png width=20% height=20% align=left>\n",
    " \n",
    " </html>"
   ]
  },
  {
   "cell_type": "code",
   "execution_count": 1,
   "metadata": {},
   "outputs": [
    {
     "name": "stdout",
     "output_type": "stream",
     "text": [
      "Evaluating fenvs.py..\n",
      "...fenvs.py imported in 0.006005 seconds\n"
     ]
    }
   ],
   "source": [
    "from pyplasm import *"
   ]
  },
  {
   "cell_type": "code",
   "execution_count": 2,
   "metadata": {
    "collapsed": true,
    "scrolled": true
   },
   "outputs": [],
   "source": [
    "from larlib import *"
   ]
  },
  {
   "cell_type": "code",
   "execution_count": 3,
   "metadata": {
    "collapsed": true
   },
   "outputs": [],
   "source": [
    "def Leg():\n",
    "    \"\"\" Method declared but not use\n",
    "    \"\"\"\n",
    "    return COLOR(GREEN)(CUBOID([0.1,0.1,0.8]))"
   ]
  },
  {
   "cell_type": "code",
   "execution_count": 3,
   "metadata": {
    "collapsed": true
   },
   "outputs": [],
   "source": [
    "def Plane():\n",
    "    \"\"\" Method Plane(), this method make 3D parallelepiped of volume 0.9 x 0.9 x 0.9\n",
    "    \"\"\"\n",
    "    return COLOR(BROWN)(CUBOID([0.9,0.9,0.1]))"
   ]
  },
  {
   "cell_type": "markdown",
   "metadata": {},
   "source": [
    "#### Parametric function"
   ]
  },
  {
   "cell_type": "markdown",
   "metadata": {},
   "source": [
    "    DEF Plane = COLOR:BROWN CUBOID <0.9,0.9,0.1>;"
   ]
  },
  {
   "cell_type": "code",
   "execution_count": 4,
   "metadata": {
    "collapsed": true
   },
   "outputs": [],
   "source": [
    "def Pared():\n",
    "    \"\"\" Method Pared(), this method make 3D parallelepiped of volume 0.9 x 0.9 x 0.9\n",
    "    \"\"\"\n",
    "    return COLOR(YELLOW)(CUBOID([0.9,0.1,0.7]))"
   ]
  },
  {
   "cell_type": "markdown",
   "metadata": {},
   "source": [
    "#### Parametric function"
   ]
  },
  {
   "cell_type": "markdown",
   "metadata": {},
   "source": [
    "    DEF Pared = COLOR:YELLOW CUBOID <0.9,0.1,0.7>;"
   ]
  },
  {
   "cell_type": "markdown",
   "metadata": {
    "collapsed": true
   },
   "source": [
    "#### Kallax 1\n",
    "$\\rightarrow$ I declare one method Plane( ), I use function CUBOID( ) to create the form and COLOR to change color by default, I define the floor and cover.\n",
    "\n",
    "$\\rightarrow$ I declare one method Pared( ), I use function CUBOID( ) to create the form and COLOR to change color by default, I define left wall and right wall.\n",
    "\n",
    "$\\rightarrow$ I declare one method Shape1( ) to create the shape."
   ]
  },
  {
   "cell_type": "code",
   "execution_count": 5,
   "metadata": {},
   "outputs": [],
   "source": [
    "def Shape1():\n",
    "    \"\"\" Method Shape1(), this method make the Figure 1\n",
    "    \"\"\"\n",
    "    return STRUCT([Plane(),T(3)(0.1),\n",
    "                           Pared(),T(1)(0.9),T(2)(0.8),T(1)(-0.9),\n",
    "                           Pared(),T([2,3])([-0.8,0.7]),Plane()])"
   ]
  },
  {
   "cell_type": "markdown",
   "metadata": {},
   "source": [
    "#### Parametric function"
   ]
  },
  {
   "cell_type": "markdown",
   "metadata": {},
   "source": [
    "    DEF ggpl_Shape1() = STRUCT :< \n",
    "        Plane, T:3:0.1, Pared, T:1:0.9, T:2:0.8, T:1:-0.9, Pared, T:<2,3>:<-0.8,0.7>, Plane >;"
   ]
  },
  {
   "cell_type": "code",
   "execution_count": 7,
   "metadata": {},
   "outputs": [
    {
     "data": {
      "text/plain": [
       "<pyplasm.xgepy.Hpc; proxy of <Swig Object of type 'std::shared_ptr< Hpc > *' at 0x181aea66f0> >"
      ]
     },
     "execution_count": 7,
     "metadata": {},
     "output_type": "execute_result"
    }
   ],
   "source": [
    "VIEW(Shape1())"
   ]
  },
  {
   "cell_type": "markdown",
   "metadata": {},
   "source": [
    "<html>\n",
    "      \n",
    "    <body>\n",
    "       <h3 style=\"text-align:center;\"> Figure 1</h3>\n",
    "       <img src=\"shape_kallax_color.png\" height=50% width=50% title =\"figure 1\" > \n",
    "    </body>\n",
    "</html>"
   ]
  },
  {
   "cell_type": "code",
   "execution_count": 8,
   "metadata": {
    "collapsed": true
   },
   "outputs": [],
   "source": [
    "def Panel():\n",
    "    \"\"\"\n",
    "    \"\"\"\n",
    "    return COLOR(BROWN)(CUBOID([1,1.7,0.1]))\n",
    "    "
   ]
  },
  {
   "cell_type": "code",
   "execution_count": 9,
   "metadata": {
    "collapsed": true
   },
   "outputs": [],
   "source": [
    "def Face():\n",
    "    \"\"\"\n",
    "    \"\"\"\n",
    "    return COLOR(YELLOW)(CUBOID([1,0.1,0.7]))"
   ]
  },
  {
   "cell_type": "markdown",
   "metadata": {},
   "source": [
    "#### Kallax 2\n",
    "$\\rightarrow$ I declare one method panel( ), I use function CUBOID( ) to create the form and COLOR to change color by default, I define the floor and cover.\n",
    "\n",
    "$\\rightarrow$ I declare one method face( ), I use function CUBOID( ) to create the form and COLOR to change color by default, I define left wall and right wall.\n",
    "\n",
    "$\\rightarrow$ I declare one method shape2() to create the shape()\n"
   ]
  },
  {
   "cell_type": "code",
   "execution_count": 6,
   "metadata": {
    "collapsed": true
   },
   "outputs": [],
   "source": [
    "def Shape2():\n",
    "    \"\"\"\n",
    "    \"\"\"\n",
    "    return STRUCT([Panel(),T(3)(0.1),Face(),T(2)(0.8),T(3)(-0.1),\n",
    "                    Face(),T(2)(0.8),Face(),T([2,3])([-0.8,0.7]),\n",
    "                   \n",
    "                   T(2)(-0.8),T(3)(-0.1),\n",
    "                   Panel(),             \n",
    "                   Face(),T(2)(0.8),\n",
    "                   Face(),T(2)(0.8),Face(),T([2,3])([-0.8,0.7]),\n",
    "                   \n",
    "                   T(2)(-0.8),Panel()\n",
    "                   \n",
    "                  ]) \n",
    "    "
   ]
  },
  {
   "cell_type": "code",
   "execution_count": 11,
   "metadata": {},
   "outputs": [
    {
     "data": {
      "text/plain": [
       "<pyplasm.xgepy.Hpc; proxy of <Swig Object of type 'std::shared_ptr< Hpc > *' at 0x181aec4540> >"
      ]
     },
     "execution_count": 11,
     "metadata": {},
     "output_type": "execute_result"
    }
   ],
   "source": [
    "VIEW(shape2())"
   ]
  },
  {
   "cell_type": "markdown",
   "metadata": {},
   "source": [
    "<html>\n",
    "    <h3 style=\"text-align:center;\"> Figure 2 </h3>\n",
    "    <img src=\"shape_kallax_2.png\" height=50% width=50%>\n",
    "</html>"
   ]
  },
  {
   "cell_type": "code",
   "execution_count": 7,
   "metadata": {
    "collapsed": true
   },
   "outputs": [],
   "source": [
    "def shape3():\n",
    "    \"\"\" \n",
    "    \"\"\"\n",
    "    return STRUCT([panel(),T(3)(0.1),face(),T(2)(0.8),\n",
    "                    face(),T(2)(0.8),face(),T([2,3])([-0.8,0.7]),\n",
    "                   \n",
    "                   T(2)(-0.8),panel(),                  \n",
    "                   T(3)(0.1),face(),face(),T(2)(0.8),\n",
    "                   face(),T(2)(0.8),face(),T([2,3])([-0.8,0.7]),\n",
    "                   \n",
    "                   T(2)(-0.8),panel(),\n",
    "                   T(3)(0.1),face(),face(),T(2)(0.8),\n",
    "                   face(),T(2)(0.8),face(),T([2,3])([-0.8,0.7]),\n",
    "                   \n",
    "                   T(2)(-0.8),panel(),\n",
    "                   T(3)(0.1),face(),face(),T(2)(0.8),\n",
    "                   face(),T(2)(0.8),face(),T([2,3])([-0.8,0.7]),\n",
    "                   T(2)(-0.8),panel()\n",
    "                   \n",
    "                  ]) "
   ]
  },
  {
   "cell_type": "markdown",
   "metadata": {},
   "source": [
    "#### Kallax 3\n",
    "$\\rightarrow$ I use my method panel( ), I use function CUBOID( ) to create the form and COLOR to change color by default, I define the floor and cover.\n",
    "\n",
    "$\\rightarrow$ I use my method face( ), I use function CUBOID( ) to create the form and COLOR to change color by default, I define left wall and right wall.\n",
    "\n",
    "$\\rightarrow$ I declare one method shape3() to create the shape()\n",
    "\n"
   ]
  },
  {
   "cell_type": "code",
   "execution_count": 13,
   "metadata": {},
   "outputs": [
    {
     "data": {
      "text/plain": [
       "<pyplasm.xgepy.Hpc; proxy of <Swig Object of type 'std::shared_ptr< Hpc > *' at 0x181aec49f0> >"
      ]
     },
     "execution_count": 13,
     "metadata": {},
     "output_type": "execute_result"
    }
   ],
   "source": [
    "VIEW(shape3())"
   ]
  },
  {
   "cell_type": "markdown",
   "metadata": {},
   "source": [
    "<html> \n",
    "    <h3 style=\"text-align:center;\"> Figure 3 </h3>\n",
    "    <img src=\"shape_kallax_3.png\" height=50% width=50%>\n",
    "\n",
    "</html>"
   ]
  },
  {
   "cell_type": "code",
   "execution_count": 8,
   "metadata": {
    "collapsed": true
   },
   "outputs": [],
   "source": [
    "def Panel_Black():\n",
    "    \"\"\"\n",
    "    \"\"\"\n",
    "    return COLOR(BLACK)(CUBOID([1,1,0.1]))"
   ]
  },
  {
   "cell_type": "code",
   "execution_count": 9,
   "metadata": {
    "collapsed": true
   },
   "outputs": [],
   "source": [
    "def Face_Red():\n",
    "    \"\"\"\n",
    "    \"\"\"\n",
    "    return COLOR(RED)(CUBOID([1,0.1,0.7]))"
   ]
  },
  {
   "cell_type": "code",
   "execution_count": 10,
   "metadata": {
    "collapsed": true
   },
   "outputs": [],
   "source": [
    "def shape4():\n",
    "    \"\"\"\n",
    "    \"\"\"\n",
    "    return STRUCT([Panel_Black(),T(3)(0.1),\n",
    "                    Face_Red(),T(2)(0.9),Face_Red(),T([2,3])([-0.9,0.7]),\n",
    "                   \n",
    "                   Panel_Black(),\n",
    "                   T(3)(0.1),Face_Red(),T(2)(0.9),Face_Red(),T([2,3])([-0.8,0.7]),\n",
    "                   T(2)(-0.1),Panel_Black(),\n",
    "                   \n",
    "                   Panel_Black(),\n",
    "                   T(3)(0.1),Face_Red(),T(2)(0.9),Face_Red(),T([2,3])([-0.8,0.7]),\n",
    "                   T(2)(-0.1),Panel_Black(),\n",
    "                   \n",
    "                   Panel_Black(),\n",
    "                   T(3)(0.1),Face_Red(),T(2)(0.9),Face_Red(),T([2,3])([-0.8,0.7]),\n",
    "                   T(2)(-0.1),Panel_Black()\n",
    "                   \n",
    "                  \n",
    "                  ])"
   ]
  },
  {
   "cell_type": "markdown",
   "metadata": {},
   "source": [
    "#### Kallax 4\n",
    "$\\rightarrow$ I use my method panel( ), I use function CUBOID( ) to create the form and COLOR to change color by default, I define the floor and cover.\n",
    "\n",
    "$\\rightarrow$ I use my method face( ), I use function CUBOID( ) to create the form and COLOR to change color by default, I define left wall and right wall.\n",
    "\n",
    "$\\rightarrow$ I declare one method shape4() to create the shape()\n",
    "\n"
   ]
  },
  {
   "cell_type": "code",
   "execution_count": 17,
   "metadata": {},
   "outputs": [
    {
     "data": {
      "text/plain": [
       "<pyplasm.xgepy.Hpc; proxy of <Swig Object of type 'std::shared_ptr< Hpc > *' at 0x181aec08a0> >"
      ]
     },
     "execution_count": 17,
     "metadata": {},
     "output_type": "execute_result"
    }
   ],
   "source": [
    "VIEW(shape4())"
   ]
  },
  {
   "cell_type": "markdown",
   "metadata": {},
   "source": [
    "<html> \n",
    "    <h3 style=\"text-align:center;\"> Figure 4 </h3>\n",
    "    <img src=\"shape_kallax_4.png\" height=50% width=50%>\n",
    "\n",
    "</html>"
   ]
  },
  {
   "cell_type": "code",
   "execution_count": null,
   "metadata": {
    "collapsed": true
   },
   "outputs": [],
   "source": []
  }
 ],
 "metadata": {
  "kernelspec": {
   "display_name": "Python 2",
   "language": "python",
   "name": "python2"
  },
  "language_info": {
   "codemirror_mode": {
    "name": "ipython",
    "version": 2
   },
   "file_extension": ".py",
   "mimetype": "text/x-python",
   "name": "python",
   "nbconvert_exporter": "python",
   "pygments_lexer": "ipython2",
   "version": "2.7.12"
  }
 },
 "nbformat": 4,
 "nbformat_minor": 2
}
