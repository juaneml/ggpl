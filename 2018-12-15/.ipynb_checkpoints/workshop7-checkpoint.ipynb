{
 "cells": [
  {
   "cell_type": "markdown",
   "metadata": {},
   "source": [
    "# My Palladio's_Villa Valmarana"
   ]
  },
  {
   "cell_type": "markdown",
   "metadata": {},
   "source": [
    "\n",
    " <html>\n",
    " <a href = https://en.wikipedia.org/wiki/Villa_Valmarana_(Lisiera) > Villa Valmarana</a>\n",
    "<html/> "
   ]
  },
  {
   "cell_type": "markdown",
   "metadata": {},
   "source": [
    "![](img/VillaValmaranaScagnolariZen_1.jpg)"
   ]
  },
  {
   "cell_type": "code",
   "execution_count": 1,
   "metadata": {},
   "outputs": [
    {
     "name": "stdout",
     "output_type": "stream",
     "text": [
      "Evaluating fenvs.py..\n",
      "...fenvs.py imported in 0.007233 seconds\n"
     ]
    }
   ],
   "source": [
    "from pyplasm import *"
   ]
  },
  {
   "cell_type": "code",
   "execution_count": 2,
   "metadata": {
    "collapsed": true
   },
   "outputs": [],
   "source": [
    "from larlib import *"
   ]
  },
  {
   "cell_type": "markdown",
   "metadata": {},
   "source": [
    "## Balusters "
   ]
  },
  {
   "cell_type": "code",
   "execution_count": 3,
   "metadata": {
    "collapsed": true
   },
   "outputs": [],
   "source": [
    "def balusters(x,y): \n",
    "    '''\n",
    "    Method to create balusters.\n",
    "    -Arguments:  x,y.\n",
    "    Use method CYLINDER to create balusters\n",
    "    and methor JOIN fo create the form\n",
    "    Use vector bal to add all objects\n",
    "    and add texture with TEXTURE\n",
    "    '''\n",
    "    texture = \"img/marmol.jpg\"\n",
    "    bal=[]\n",
    "    \n",
    "    floor_0  = CYLINDER([0.5,0.5])(4) \n",
    "    floor_1  = CYLINDER([0.3,0.05])(4) \n",
    "    floor_2  = CYLINDER([0.3,0.3])(4) \n",
    "    floor_3  = CYLINDER([0.5,0.05])(4)\n",
    "    floor_4  = CYLINDER([0.2,0.2])(4)\n",
    "    floor_5  = CYLINDER([0.5,0.3])(4)\n",
    "    floor_6  = CYLINDER([0.4,0.1])(4)\n",
    "    floor_7  = CYLINDER([0.3,0.1])(4)\n",
    "    floor_8  = CYLINDER([0.5,0.1])(4)\n",
    "    floor_9  = CYLINDER([0.4,0.1])(4)\n",
    "    floor_10 = CYLINDER([0.3,0.3])(4) \n",
    "    floor_11 = CYLINDER([0.4,0.1])(4)\n",
    "    floor_12 = CYLINDER([0.5,0.1])(4) \n",
    "    \n",
    "    bal.append((S([1,2,3])([x,y])(floor_0))) \n",
    "    bal.append((T(3)(0.5)(S([1,2])([x,y])(floor_1))))\n",
    "    bal.append((T(3)(0.7)(S([1,2])([x,y])(floor_2))))\n",
    "    bal.append((T(3)(1)(S([1,2])([x,y])(floor_3 ))))\n",
    "    bal.append((T(3)(1)(S([1,2])([x,y])(floor_4 ))))\n",
    "    bal.append((T(3)(1.1)(S([1,2])([x,y])(floor_5 ))))\n",
    "    bal.append((T(3)(1.4)(S([1,2])([x,y])(floor_6 ))))\n",
    "    bal.append((T(3)(1.9)(S([1,2])([x,y])(floor_7 ))))\n",
    "    bal.append((T(3)(2)(S([1,2])([x,y])(floor_8 ))))\n",
    "    bal.append((T(3)(2.1)(S([1,2])([x,y])(floor_9 ))))\n",
    "    bal.append((T(3)(2.2)(S([1,2])([x,y])(floor_10))))\n",
    "    bal.append((T(3)(2.5)(S([1,2])([x,y])(floor_11 ))))\n",
    "    bal.append((T(3)(2.6)(S([1,2])([x,y])(floor_12))))\n",
    "\n",
    "\n",
    "    return TEXTURE(texture)(R([1,2])(PI/4)(STRUCT([JOIN([bal[0],bal[1]]),JOIN([bal[1],bal[2]]),\n",
    "                   JOIN([bal[2],bal[3]]),JOIN([bal[3],bal[4]]),\n",
    "                   JOIN([bal[5],bal[6]]),JOIN([bal[6],bal[7]]),\n",
    "                   JOIN([bal[7],bal[8]]),JOIN([bal[8],bal[9]]),bal[10],\n",
    "                   JOIN([bal[11],bal[12]])])))"
   ]
  },
  {
   "cell_type": "code",
   "execution_count": 4,
   "metadata": {},
   "outputs": [
    {
     "data": {
      "text/plain": [
       "<pyplasm.xgepy.Hpc; proxy of <Swig Object of type 'std::shared_ptr< Hpc > *' at 0x18194c30c0> >"
      ]
     },
     "execution_count": 4,
     "metadata": {},
     "output_type": "execute_result"
    }
   ],
   "source": [
    "VIEW(balusters(1,1))"
   ]
  },
  {
   "cell_type": "markdown",
   "metadata": {},
   "source": [
    "![](img/balusters.png)"
   ]
  },
  {
   "cell_type": "markdown",
   "metadata": {},
   "source": [
    "## Railing"
   ]
  },
  {
   "cell_type": "code",
   "execution_count": 5,
   "metadata": {
    "collapsed": true
   },
   "outputs": [],
   "source": [
    "'''\n",
    "    Method railing:\n",
    "    * Arguments:\n",
    "    - x asis x\n",
    "    - y asis y\n",
    "    - z asis z\n",
    "    Use three CUBOID to create the framework and \n",
    "    method RIGHT and TOP to place the object\n",
    "    \n",
    "    Use loop for to create balusters in add in a vector,\n",
    "    add Texture with TEXTURE\n",
    "'''\n",
    "def railing(x,y,z):\n",
    "    texture = \"img/marmol.jpg\"\n",
    "    up   = T([1,2,3])([-0.5,-0.5,2.7])(CUBOID([x,y,z]))\n",
    "    down = T([1,2,3])([-0.5,-0.5,2.7])(CUBOID([x,y,z+0.2]))\n",
    "    col  = T(2)(-0.55)(CUBOID([0.5,0.7,3.5]))\n",
    "    vec = [] ## vector de balusters\n",
    "    \n",
    "    for i in range(0,4):\n",
    "        vec.append(T(1)(i)(balusters(1,1)))\n",
    "    vec = STRUCT(vec)\n",
    "    baranda = TEXTURE(texture)(RIGHT([RIGHT([col,TOP([down,(STRUCT([vec,up]))])]),col ]))\n",
    "    return baranda\n",
    "    "
   ]
  },
  {
   "cell_type": "code",
   "execution_count": 6,
   "metadata": {},
   "outputs": [
    {
     "data": {
      "text/plain": [
       "<pyplasm.xgepy.Hpc; proxy of <Swig Object of type 'std::shared_ptr< Hpc > *' at 0x18194ced20> >"
      ]
     },
     "execution_count": 6,
     "metadata": {},
     "output_type": "execute_result"
    }
   ],
   "source": [
    "VIEW(railing(4.1,0.8,0.3))"
   ]
  },
  {
   "cell_type": "markdown",
   "metadata": {},
   "source": [
    "![](img/baranda.png)"
   ]
  },
  {
   "cell_type": "markdown",
   "metadata": {},
   "source": [
    "## Top wall"
   ]
  },
  {
   "cell_type": "code",
   "execution_count": 7,
   "metadata": {},
   "outputs": [],
   "source": [
    "'''\n",
    "    Method to create top wall\n",
    "    *Arguments:\n",
    "    -x: axis x\n",
    "    -y: axis y\n",
    "    -z: axis z\n",
    "    create: \n",
    "    * CUBOID([x,y,z]) to top wall\n",
    "    * vector holes to holes top wall\n",
    "    * add texture with TEXTURE\n",
    "    \n",
    "'''\n",
    "### Fachada piso superior\n",
    "def wall_win_up(x,y,z):\n",
    "    \n",
    "    x_wall_up =1.3*x\n",
    "    wall_up = CUBOID([x_wall_up,1*y,1*z])\n",
    "    holes = [] # hueco\n",
    "    texture = \"img/textura_pared.png\"\n",
    "    \n",
    "    for i in range(0,5):\n",
    "        holes.append(T([1,2,3])([2.5+i*6,-0.2,1])(CUBOID([2,1,5])))\n",
    "    holes = STRUCT(holes)\n",
    "    wall_up = TEXTURE(texture)(DIFFERENCE([wall_up,holes]))\n",
    "    return wall_up\n",
    "                           "
   ]
  },
  {
   "cell_type": "code",
   "execution_count": 8,
   "metadata": {},
   "outputs": [
    {
     "data": {
      "text/plain": [
       "<pyplasm.xgepy.Hpc; proxy of <Swig Object of type 'std::shared_ptr< Hpc > *' at 0x18194c36f0> >"
      ]
     },
     "execution_count": 8,
     "metadata": {},
     "output_type": "execute_result"
    }
   ],
   "source": [
    "VIEW(wall_win_up(25,0.5,10))\n"
   ]
  },
  {
   "cell_type": "markdown",
   "metadata": {},
   "source": [
    "![](img/wall_win_up.png)"
   ]
  },
  {
   "cell_type": "markdown",
   "metadata": {},
   "source": [
    "## Cornice"
   ]
  },
  {
   "cell_type": "code",
   "execution_count": 9,
   "metadata": {},
   "outputs": [],
   "source": [
    "#cornisa\n",
    "'''\n",
    "    Method corni:\n",
    "    * Arguments:\n",
    "    - x asis x\n",
    "    - y asis y\n",
    "    - z asis z\n",
    "    * Use loop to create cornise the form are CUBOID\n",
    "    add texture with TEXTURE\n",
    "'''\n",
    "def corni(x,y,z):\n",
    "    texture =\"img/marmol.jpg\"\n",
    "    vec_c = []\n",
    "    \n",
    "    for i in range(0,3):\n",
    "        if (i==0):\n",
    "            vec_c.append(T([1,2])([5,-4])(CUBOID([32,10+i,-0.5])) )\n",
    "        else:\n",
    "            vec_c.append(T([1,2,3])([5,-4-i,0.5*i])(CUBOID([32,10+i,-0.5])))\n",
    "    \n",
    "    vec_c = STRUCT(vec_c)\n",
    "    cornice = TEXTURE(texture)(vec_c)\n",
    "              \n",
    "    return cornice"
   ]
  },
  {
   "cell_type": "code",
   "execution_count": 10,
   "metadata": {},
   "outputs": [
    {
     "data": {
      "text/plain": [
       "<pyplasm.xgepy.Hpc; proxy of <Swig Object of type 'std::shared_ptr< Hpc > *' at 0x18194c3db0> >"
      ]
     },
     "execution_count": 10,
     "metadata": {},
     "output_type": "execute_result"
    }
   ],
   "source": [
    "VIEW(corni(32,10,-0.5))"
   ]
  },
  {
   "cell_type": "markdown",
   "metadata": {},
   "source": [
    "![](img/cornisa.png)"
   ]
  },
  {
   "cell_type": "markdown",
   "metadata": {},
   "source": [
    "##  Windows front up"
   ]
  },
  {
   "cell_type": "code",
   "execution_count": 11,
   "metadata": {},
   "outputs": [],
   "source": [
    "## Ventanas frente superior\n",
    "'''\n",
    "* ven_central_up with CUBOID and add TEXTURE\n",
    "* ven_cen_iz_up part right windows\n",
    "* ven_cen_de_up part left windows\n",
    "* ven_ce_up windows\n",
    "* ven_cen_l_up vector \n",
    "* use loop to add my windows\n",
    "\n",
    "'''\n",
    "ven_central_up = TEXTURE(\"img/cristal.png\")(CUBOID([1,0.1,5])) \n",
    "ven_cen_iz_up =RIGHT([(COLOR)(BROWN)(CUBOID([0.001,2,5])),\n",
    "                      (RIGHT([ven_central_up, (COLOR)(BROWN)(CUBOID([0.1,0.05,5])) ]))])\n",
    "\n",
    "ven_cen_de_up= RIGHT([RIGHT(([(COLOR)(BROWN)(CUBOID([0.1,0.05,5])),\n",
    "                              ven_central_up])),(COLOR)(BROWN)(CUBOID([0.001,2,5]))])\n",
    "\n",
    "ven_cen_up = STRUCT([RIGHT([ven_cen_iz_up,ven_cen_de_up])])\n",
    "ven_cen_l_up = []\n",
    "\n",
    "for i in range(0,5):\n",
    "    ven_cen_l_up.append(T([1,2,3])([2.4+i*6,0.2,1])(ven_cen_up))\n",
    "    \n",
    "ven_cen_l_up = STRUCT(ven_cen_l_up)\n",
    "\n"
   ]
  },
  {
   "cell_type": "code",
   "execution_count": 12,
   "metadata": {},
   "outputs": [
    {
     "data": {
      "text/plain": [
       "<pyplasm.xgepy.Hpc; proxy of <Swig Object of type 'std::shared_ptr< Hpc > *' at 0x18194e1210> >"
      ]
     },
     "execution_count": 12,
     "metadata": {},
     "output_type": "execute_result"
    }
   ],
   "source": [
    "ven_cen_up"
   ]
  },
  {
   "cell_type": "markdown",
   "metadata": {},
   "source": [
    "![](img/ven_cen_up.png)"
   ]
  },
  {
   "cell_type": "markdown",
   "metadata": {
    "collapsed": true
   },
   "source": [
    "## Central wall"
   ]
  },
  {
   "cell_type": "code",
   "execution_count": 13,
   "metadata": {},
   "outputs": [],
   "source": [
    "## Pared central\n",
    "\n",
    "'''\n",
    " Create central wall with CUBOID\n",
    " Use a vector vec_w to add the CUBOID and to create the holes with DIFFERENCE\n",
    " add texture with TEXTURE\n",
    "'''\n",
    "x_wall =1.3*25\n",
    "wall=CUBOID([x_wall,1,1*20])\n",
    "texture = \"img/tex_central.png\"\n",
    "\n",
    "vec_w = []\n",
    "\n",
    "for i in range(0,5):\n",
    "    if (i==2):\n",
    "        vec_w.append(T([1,2,3])([1.5+i*6,-1,0])(CUBOID([5,2,7]))) ## door\n",
    "    else:\n",
    "        vec_w.append(T([1,2,3])([2.5+i*6,-1,2])(CUBOID([2,2,5]))) ## windows\n",
    "\n",
    "vec_w = STRUCT(vec_w)\n",
    "wall_win = TEXTURE(texture)(DIFFERENCE([wall,vec_w]))\n"
   ]
  },
  {
   "cell_type": "code",
   "execution_count": 14,
   "metadata": {},
   "outputs": [
    {
     "data": {
      "text/plain": [
       "<pyplasm.xgepy.Hpc; proxy of <Swig Object of type 'std::shared_ptr< Hpc > *' at 0x18194e1630> >"
      ]
     },
     "execution_count": 14,
     "metadata": {},
     "output_type": "execute_result"
    }
   ],
   "source": [
    "VIEW(wall_win)"
   ]
  },
  {
   "cell_type": "markdown",
   "metadata": {},
   "source": [
    "![](img/fachada_central.png)"
   ]
  },
  {
   "cell_type": "markdown",
   "metadata": {},
   "source": [
    "## The door handle"
   ]
  },
  {
   "cell_type": "code",
   "execution_count": 15,
   "metadata": {
    "collapsed": true
   },
   "outputs": [],
   "source": [
    "#Tirador de la puerta\n",
    "'''\n",
    "To create the door handle use two CYLINDER object and CUBOID object\n",
    "after use JOIN to create de new object tirador\n",
    "'''\n",
    "tir = JOIN([CYLINDER([0.1,1])(16),T(2)(-2/2)(CYLINDER([0.1,1])(16))])\n",
    "front = T([1,2,3])([-0.1,-1.8/2,0])(CUBOID([0.3,1.7/2,0.9]))\n",
    "tirador = R([2,3])(PI/2)(DIFFERENCE([tir,front]))"
   ]
  },
  {
   "cell_type": "code",
   "execution_count": 16,
   "metadata": {},
   "outputs": [
    {
     "data": {
      "text/plain": [
       "<pyplasm.xgepy.Hpc; proxy of <Swig Object of type 'std::shared_ptr< Hpc > *' at 0x18194e19f0> >"
      ]
     },
     "execution_count": 16,
     "metadata": {},
     "output_type": "execute_result"
    }
   ],
   "source": [
    "VIEW(tirador)"
   ]
  },
  {
   "cell_type": "markdown",
   "metadata": {},
   "source": [
    "![](img/tirador.png)"
   ]
  },
  {
   "cell_type": "markdown",
   "metadata": {},
   "source": [
    "## Door"
   ]
  },
  {
   "cell_type": "code",
   "execution_count": 17,
   "metadata": {
    "collapsed": true
   },
   "outputs": [],
   "source": [
    "## Puerta\n",
    "'''\n",
    "DOOR to create the door use four CUBOID object,\n",
    "after add two object tirador, the texture is wood color\n",
    "'''\n",
    "madera = 'img/wood_puerta.jpg'\n",
    "\n",
    "pue_iz =(RIGHT([TEXTURE(madera)(CUBOID([2.5,0.5,7])),\n",
    "                (COLOR)(BLACK)(CUBOID([0.2,0.5,7])) ]))\n",
    "\n",
    "pue_de= RIGHT(([(COLOR)(BLACK)(CUBOID([0.2,0.5,7])),\n",
    "                TEXTURE(madera)(CUBOID([2.5,0.5,7]))\n",
    "         ]))\n",
    "puerta = STRUCT([RIGHT([pue_iz,pue_de])])\n",
    "puerta_y_tirador = T([1,2,3])([13.5,0.5,0])(STRUCT([puerta,\n",
    "                   T([1,2,3])([2.3,0.5,3])(tirador),\n",
    "                   T([1,2,3])([3,0.5,3])(tirador)]))\n"
   ]
  },
  {
   "cell_type": "code",
   "execution_count": 18,
   "metadata": {},
   "outputs": [
    {
     "data": {
      "text/plain": [
       "<pyplasm.xgepy.Hpc; proxy of <Swig Object of type 'std::shared_ptr< Hpc > *' at 0x18194e3120> >"
      ]
     },
     "execution_count": 18,
     "metadata": {},
     "output_type": "execute_result"
    }
   ],
   "source": [
    "VIEW(puerta_y_tirador)"
   ]
  },
  {
   "cell_type": "markdown",
   "metadata": {},
   "source": [
    "![](img/puerta.png)"
   ]
  },
  {
   "cell_type": "markdown",
   "metadata": {},
   "source": [
    "## Windows central down wall "
   ]
  },
  {
   "cell_type": "code",
   "execution_count": 19,
   "metadata": {
    "collapsed": true
   },
   "outputs": [],
   "source": [
    "#ventanas frente _abajo\n",
    "'''\n",
    "Add widows to central down wall\n",
    "use one vector and loop to add the objects\n",
    "'''\n",
    "ven_central = TEXTURE('img/cristal.png')(CUBOID([0.9,0.1,5])) #6 altura\n",
    "ven_cen_iz =(RIGHT([ven_central, (COLOR)(BROWN)(CUBOID([0.1,0.1,5])) ]))\n",
    "ven_cen_de= RIGHT(([(COLOR)(BROWN)(CUBOID([0.1,0.1,5])) ,ven_central]))\n",
    "\n",
    "ven_cen = STRUCT([RIGHT([ven_cen_iz,ven_cen_de])])\n",
    "\n",
    "ven_cen_l = []\n",
    "for i in range(0,4):\n",
    "    if(i<2):\n",
    "        ven_cen_l.append(T([1,2,3])([2.4+i*6,0.2,2])(ven_cen))\n",
    "    else:\n",
    "        ven_cen_l.append(T([1,2,3])([(2.4+i*6)+6,0.2,2])(ven_cen))\n",
    "wall_win_cris = STRUCT(ven_cen_l)\n"
   ]
  },
  {
   "cell_type": "code",
   "execution_count": 20,
   "metadata": {},
   "outputs": [
    {
     "data": {
      "text/plain": [
       "<pyplasm.xgepy.Hpc; proxy of <Swig Object of type 'std::shared_ptr< Hpc > *' at 0x18194e3a80> >"
      ]
     },
     "execution_count": 20,
     "metadata": {},
     "output_type": "execute_result"
    }
   ],
   "source": [
    "VIEW(STRUCT([wall_win_cris,wall_win]))"
   ]
  },
  {
   "cell_type": "markdown",
   "metadata": {},
   "source": [
    "![](img/ven_cen.png)"
   ]
  },
  {
   "cell_type": "markdown",
   "metadata": {},
   "source": [
    "##  Windows front left and right"
   ]
  },
  {
   "cell_type": "code",
   "execution_count": 21,
   "metadata": {
    "collapsed": true
   },
   "outputs": [],
   "source": [
    "# Ventanas frente izquierda y derecha, wan_left y wan_right\n",
    "'''\n",
    "    * ventana: size of every middle of the windows \n",
    "    * marco_1: left half of the windows \n",
    "    * marco_2: right half of the windows\n",
    "    * marco_f: both part of windows\n",
    "    * ven_l:  bottom windows \n",
    "    * ven_up: top windows\n",
    "'''\n",
    "ventana = TEXTURE('img/cristal.png')(CUBOID([1.4,0.1,6])) #6 hight\n",
    "\n",
    "## Hoja de la ventana izquierda\n",
    "## ponemos a la derecha de ventana los elementos\n",
    "marco_1 = RIGHT([ventana,COLOR(BROWN)(CUBOID([0.1,0.1,6]))])\n",
    "\n",
    "## Hoja de la ventana derecha\n",
    "## ponemos a la derecha la ventana para crear la parte derecha\n",
    "marco_2 = RIGHT([COLOR(BROWN)(CUBOID([0.1,0.1,6])),ventana])\n",
    "\n",
    "## Se unen ambas partes y se crea la ventana completa\n",
    "marco_f = STRUCT([RIGHT([marco_1,marco_2])])\n",
    "\n",
    "ven_l =T([1,2,3])([-8,-1.3,3])(marco_f) ## posición ventana abajo\n",
    "ven_l_up =T([1,2,3])([-8,-1.3,23])(marco_f) ## posición ventaja arriba\n",
    "\n"
   ]
  },
  {
   "cell_type": "markdown",
   "metadata": {},
   "source": [
    "## Windows pillar"
   ]
  },
  {
   "cell_type": "code",
   "execution_count": 22,
   "metadata": {
    "collapsed": true
   },
   "outputs": [],
   "source": [
    "'''\n",
    "    * ven_pi:    size of evey middle of the windows pillar\n",
    "    * mar_pil_1: left half of the windows\n",
    "    * mar_pil_2: right half of the windows\n",
    "    * mar_pil_f: both part of the windows\n",
    "    * ven_pil_l: bottom windows\n",
    "    * ven_pil_up: top windows\n",
    "'''\n",
    "\n",
    "ven_pi = TEXTURE('img/cristal.png')(CUBOID([1.3,0.1,5])) #6 altura\n",
    "\n",
    "#Hoja de la ventana izquierda\n",
    "mar_pil_1 = RIGHT([ven_pi,COLOR(BROWN)(CUBOID([0.1,0.1,5]))])\n",
    "\n",
    "#Hoja de la ventana derecha\n",
    "mar_pil_2 = RIGHT([COLOR(BROWN)(CUBOID([0.1,0.1,5])),ven_pi])\n",
    "\n",
    "## Se unen ambas partes y se crea la ventana completa\n",
    "mar_pil_f = STRUCT([RIGHT([mar_pil_1,mar_pil_2])])\n",
    "\n",
    "ven_pil_l = T([1,2,3])([0.5,-0.1,3])(mar_pil_f) ## posición ventana abajo\n",
    "ven_pil_up = T([1,2,3])([0.5,-0.1,22])(mar_pil_f) ## posición ventana arriba\n"
   ]
  },
  {
   "cell_type": "markdown",
   "metadata": {},
   "source": [
    "## Windows left wall "
   ]
  },
  {
   "cell_type": "code",
   "execution_count": 23,
   "metadata": {
    "collapsed": true
   },
   "outputs": [],
   "source": [
    "\n",
    "#Ventanas pared izquierda\n",
    "'''\n",
    "    ven_late_iz: size windows left wall, use CUBOID\n",
    "    ven_late_p_iz: size half left windows\n",
    "    ven_late_p_de: size half right windows\n",
    "    ven_late_iz: both part windows\n",
    "    ven_late_iz_l_0: first bottom window \n",
    "    ven_late_iz_ar_0:first top windows\n",
    "    ven_late_iz_l_1: second bottom window\n",
    "    ven_late_iz_ar_1:second top window\n",
    "    ven_late_iz_l_2: third bottom window\n",
    "    ven_late_iz_ar_2:third top window\n",
    "    ven_late_iz_l_3: fourth bottom window\n",
    "    ven_late_iz_ar_3: fourth top window\n",
    "'''\n",
    "#Tamaño de cada hoja de cristal\n",
    "ven_late_iz = TEXTURE('img/cristal.png')(CUBOID([2.5,0.1,7.5])) #6 altura\n",
    "ven_late_p_iz =(RIGHT([ven_late_iz,(COLOR)(BROWN)(CUBOID([0.1,0.1,7.5])) ]))\n",
    "ven_late_p_de= RIGHT(([(COLOR)(BROWN)(CUBOID([0.1,0.1,7.5])) ,ven_late_iz]))\n",
    "\n",
    "## Estructura ventana\n",
    "ven_late_iz = R([1,2])(PI/2)(STRUCT([RIGHT([ven_late_p_iz,ven_late_p_de])]))\n",
    "\n",
    "#De delante hacia atrás\n",
    "vec_all = []\n",
    "\n",
    "##\n",
    "vec_all.append(T([1,2,3])([-12,2.1,-18])(ven_late_iz))\n",
    "vec_all.append(T([1,2,3])([-12,2.1,-4])(ven_late_iz))\n",
    "\n",
    "##\n",
    "\n",
    "vec_all.append(T([1,2,3])([-12,25.1,-18])(ven_late_iz))\n",
    "vec_all.append(T([1,2,3])([-12,25.1,-4])(ven_late_iz))\n",
    "\n",
    "##\n",
    "vec_all.append(T([1,2,3])([-12,25.1*1.5,-18])(ven_late_iz))\n",
    "vec_all.append(T([1,2,3])([-12,25.1*1.5,-4])(ven_late_iz))\n",
    "\n",
    "##\n",
    "vec_all.append(T([1,2,3])([-12,25.1*2.55,-18])(ven_late_iz))\n",
    "vec_all.append(T([1,2,3])([-12,25.1*2.55,-4])(ven_late_iz))\n",
    "\n",
    "### STRUCT\n",
    "\n",
    "parte_left_cristal = STRUCT(vec_all)\n"
   ]
  },
  {
   "cell_type": "markdown",
   "metadata": {},
   "source": [
    "## Windows right wall"
   ]
  },
  {
   "cell_type": "code",
   "execution_count": 24,
   "metadata": {
    "collapsed": true
   },
   "outputs": [],
   "source": [
    "## Ventanas muro dercho (parte_right)\n",
    "'''\n",
    "    ven_late_der: size windows right wall, use CUBOID\n",
    "    ven_late_p_riz: size half left windows\n",
    "    ven_late_p_rde: size half right windows\n",
    "    ven_late_der: both part windows\n",
    "    ven_late_der_l_0: first bottom window \n",
    "    ven_late_der_ar_0:first top windows\n",
    "    ven_late_der_l_1: second bottom window\n",
    "    ven_late_der_ar_1:second top window\n",
    "    ven_late_der_l_2: third bottom window\n",
    "    ven_late_der_ar_2:third top window\n",
    "    ven_late_der_l_3: fourth bottom window\n",
    "    ven_late_der_ar_3: fourth top window\n",
    "'''\n",
    "\n",
    "##\n",
    "ven_late_der = TEXTURE(\"img/cristal.png\")(CUBOID([2.5,0.1,7.5])) #6 altura\n",
    "ven_late_p_riz =(RIGHT([ven_late_der, (COLOR)(BROWN)(CUBOID([0.1,0.1,7.5])) ]))\n",
    "ven_late_p_rde= RIGHT(([(COLOR)(BROWN)(CUBOID([0.1,0.1,7.5])) ,ven_late_der]))\n",
    "\n",
    "ven_all_d = []\n",
    "\n",
    "##\n",
    "ven_late_der = R([1,2])(PI/2)(STRUCT([RIGHT([ven_late_p_riz,ven_late_p_rde])]))\n",
    "\n",
    "##\n",
    "\n",
    "ven_all_d.append(T([1,2,3])([54,2.1,-18])(ven_late_der))\n",
    "ven_all_d.append(T([1,2,3])([54,2.1,-4])(ven_late_der))\n",
    "\n",
    "##\n",
    "ven_all_d.append(T([1,2,3])([54,25.1,-18])(ven_late_der))\n",
    "ven_all_d.append(T([1,2,3])([54,25.1,-4])(ven_late_der))\n",
    "\n",
    "##\n",
    "ven_all_d.append(T([1,2,3])([54,25.1*1.5,-18])(ven_late_der))\n",
    "ven_all_d.append(T([1,2,3])([54,25.1*1.5,-4])(ven_late_der))\n",
    "\n",
    "##\n",
    "ven_all_d.append(T([1,2,3])([54,25.1*2.55,-18])(ven_late_der))\n",
    "ven_all_d.append(T([1,2,3])([54,25.1*2.55,-4])(ven_late_der))\n",
    "\n",
    "\n",
    "## STRUCT\n",
    "parte_right_cristales = STRUCT(ven_all_d)\n"
   ]
  },
  {
   "cell_type": "markdown",
   "metadata": {},
   "source": [
    "## Grating type 1"
   ]
  },
  {
   "cell_type": "code",
   "execution_count": 25,
   "metadata": {},
   "outputs": [],
   "source": [
    "'''\n",
    "    mar_rejas_ancho: plate to form grating\n",
    "    barra: poles of grating\n",
    "    rejas: unions of objects\n",
    "'''\n",
    "\n",
    "## REJAS TIPO 1 pared estrecha 2 ventanas ###\n",
    "\n",
    "#pletina\n",
    "mar_rejas_ancho = COLOR(BLACK)(CUBOID([0.1,3,0.1]))\n",
    "#barra\n",
    "barra = COLOR(BLACK)(CYLINDER([0.03*2,6])(32))\n",
    "#ESTRUCTURA DE LA REJA\n",
    "\n",
    "separador = []\n",
    "barras = []\n",
    "\n",
    "### separador\n",
    "for i in range(0,5):\n",
    "    separador.append(T([1,2,3])([0.45,0.5,1+i])(mar_rejas_ancho))\n",
    "\n",
    "separador = STRUCT(separador)\n",
    "\n",
    "### barras\n",
    "for i in range(0,4):\n",
    "    barras.append(T([1,2])([0.05*10,(0.2*((i+1)*4))])(barra))\n",
    "\n",
    "barras = STRUCT(barras)\n",
    "\n",
    "rejas =T([1,2,3])([-4.5,-2,3]) (R([1,2])(PI/2)(STRUCT([separador,barras])))\n",
    "                "
   ]
  },
  {
   "cell_type": "code",
   "execution_count": 26,
   "metadata": {},
   "outputs": [
    {
     "data": {
      "text/plain": [
       "<pyplasm.xgepy.Hpc; proxy of <Swig Object of type 'std::shared_ptr< Hpc > *' at 0x1819588720> >"
      ]
     },
     "execution_count": 26,
     "metadata": {},
     "output_type": "execute_result"
    }
   ],
   "source": [
    "VIEW(rejas)"
   ]
  },
  {
   "cell_type": "markdown",
   "metadata": {},
   "source": [
    "![](img/rejas.png)"
   ]
  },
  {
   "cell_type": "markdown",
   "metadata": {},
   "source": [
    "## Grating type front wall "
   ]
  },
  {
   "cell_type": "code",
   "execution_count": 27,
   "metadata": {},
   "outputs": [],
   "source": [
    "'''\n",
    "    mar_rejas_pu: plate to form grating\n",
    "    barra: poles of grating\n",
    "    rejas_2: unions of objects\n",
    "'''\n",
    "# Rejas pared pared frontal\n",
    "#PLETINA\n",
    "mar_rejas_pu = COLOR(BLACK)(CUBOID([0.1,3,0.1]))\n",
    "#BARRA\n",
    "barra = COLOR(BLACK)(CYLINDER([0.03*2,6])(32))\n",
    "\n",
    "##\n",
    "sepa_2  = []\n",
    "bar_2 = []\n",
    "\n",
    "### separador\n",
    "for i in range(0,5):\n",
    "    sepa_2.append(T([1,2,3])([0.45,0.5,1+i])(mar_rejas_pu))\n",
    "    \n",
    "    if(i < 4):\n",
    "        bar_2.append(T([1,2])([0.05*10,0.2*((i+1)*4)])(barra))\n",
    "\n",
    "sepa_2 = STRUCT(sepa_2)\n",
    "bar_2 = STRUCT(bar_2)\n",
    "\n",
    "rejas_2 =T([1,2,3])([5.5,-0.3,2]) (R([1,2])(PI/2)(STRUCT([sepa_2,bar_2])))\n",
    "\n",
    "## 3 rejas\n",
    "reja_2_1 = T([1,2,3])([5.5*1,0,0])(rejas_2 )\n",
    "reja_2_2 = T([1,2,3])([5.5*3.2,0,0])(rejas_2 )\n",
    "reja_2_3 = T([1,2,3])([5.5*4.3,0,0])(rejas_2 )\n",
    "\n",
    "wall_win_rejas = STRUCT([rejas_2,reja_2_1,reja_2_2,reja_2_3])      \n"
   ]
  },
  {
   "cell_type": "code",
   "execution_count": 28,
   "metadata": {},
   "outputs": [
    {
     "data": {
      "text/plain": [
       "<pyplasm.xgepy.Hpc; proxy of <Swig Object of type 'std::shared_ptr< Hpc > *' at 0x18195890f0> >"
      ]
     },
     "execution_count": 28,
     "metadata": {},
     "output_type": "execute_result"
    }
   ],
   "source": [
    "VIEW(rejas_2)"
   ]
  },
  {
   "cell_type": "markdown",
   "metadata": {},
   "source": [
    "![](img/rejas_2.png)"
   ]
  },
  {
   "cell_type": "markdown",
   "metadata": {},
   "source": [
    "## Grating type left wall "
   ]
  },
  {
   "cell_type": "code",
   "execution_count": 29,
   "metadata": {
    "collapsed": true
   },
   "outputs": [],
   "source": [
    "'''\n",
    "    mar_rejas_pu: plate to form grating\n",
    "    barra: poles of grating\n",
    "    rejas_3: unions of objects\n",
    "'''\n",
    "#Rejas tipo muro izquierdo (parte_left)\n",
    "## pletinas\n",
    "mar_rejas_p_left = COLOR(BLACK)(CUBOID([0.1,5,0.1]))\n",
    "### barras\n",
    "barra = COLOR(BLACK)(CYLINDER([0.03*2,7])(32))\n",
    "##\n",
    "\n",
    "sepa_3 = []\n",
    "bar_3 =[]\n",
    "\n",
    "## separador\n",
    "for i in range(0,6):\n",
    "    sepa_3.append(T([1,2,3])([0.45,0.5,1+i])(mar_rejas_p_left))\n",
    "    bar_3.append(T([1,2])([0.05*10,0.2*(4*(i+1))])(barra))\n",
    "    \n",
    "sepa_3 = STRUCT(sepa_3)    \n",
    "bar_3 = STRUCT(bar_3) \n",
    "\n",
    "### STRUCT\n",
    "rejas_3 = T([1,2,3])([-13,1.5,-18]) (STRUCT([sepa_3,bar_3]))\n",
    "\n",
    "### 3 rejas\n",
    "rejas_3_1 = T([1,2,3])([0,23,0])(rejas_3)\n",
    "rejas_3_2 = T([1,2,3])([0,23*1.55,0])(rejas_3)\n",
    "rejas_3_3 = T([1,2,3])([0,23*2.69,0])(rejas_3)\n",
    "\n",
    "parte_left_rejas = STRUCT([rejas_3,rejas_3_1,rejas_3_2,rejas_3_3])\n",
    " "
   ]
  },
  {
   "cell_type": "code",
   "execution_count": 30,
   "metadata": {},
   "outputs": [
    {
     "data": {
      "text/plain": [
       "<pyplasm.xgepy.Hpc; proxy of <Swig Object of type 'std::shared_ptr< Hpc > *' at 0x1819589ae0> >"
      ]
     },
     "execution_count": 30,
     "metadata": {},
     "output_type": "execute_result"
    }
   ],
   "source": [
    "VIEW(rejas_3)"
   ]
  },
  {
   "cell_type": "markdown",
   "metadata": {},
   "source": [
    "![](img/rejas_3.png)"
   ]
  },
  {
   "cell_type": "markdown",
   "metadata": {},
   "source": [
    "## Grating left wall"
   ]
  },
  {
   "cell_type": "code",
   "execution_count": 31,
   "metadata": {},
   "outputs": [],
   "source": [
    "'''\n",
    "    mar_rejas_pu: plate to form grating\n",
    "    barra: poles of grating\n",
    "    rejas_3: unions of objects\n",
    "'''\n",
    "#Reja pared izquierda (parte_right)\n",
    "#pletina\n",
    "mar_rejas_p_right = COLOR(BLACK)(CUBOID([0.1,5,0.1]))\n",
    "#barra\n",
    "barra = COLOR(BLACK)(CYLINDER([0.03*2,7])(32))\n",
    "##\n",
    "sepa_4 = []\n",
    "bar_4 = []\n",
    "\n",
    "for i in range(0,6):\n",
    "    sepa_4.append(T([1,2,3])([0.45,0.5,1+i])(mar_rejas_p_right))\n",
    "    bar_4.append(T([1,2])([0.05*10,0.2*((i+1)*4)])(barra))\n",
    "\n",
    "sepa_4 = STRUCT(sepa_4)\n",
    "bar_4 = STRUCT(bar_4)\n",
    "\n",
    "rejas_4 = T([1,2,3])([54,1.5,-18])(STRUCT([sepa_4,bar_4]))\n",
    "     \n",
    "### 3 rejas\n",
    "\n",
    "rejas_4_1 = T([1,2,3])([0,23,0])(rejas_4)\n",
    "rejas_4_2 = T([1,2,3])([0,23*1.55,0])(rejas_4)\n",
    "rejas_4_3 = T([1,2,3])([0,23*2.69,0])(rejas_4)\n",
    "\n",
    "parte_right_rejas = STRUCT([rejas_4,rejas_4_1,rejas_4_2,rejas_4_3])"
   ]
  },
  {
   "cell_type": "code",
   "execution_count": 32,
   "metadata": {},
   "outputs": [
    {
     "data": {
      "text/plain": [
       "<pyplasm.xgepy.Hpc; proxy of <Swig Object of type 'std::shared_ptr< Hpc > *' at 0x181959c3c0> >"
      ]
     },
     "execution_count": 32,
     "metadata": {},
     "output_type": "execute_result"
    }
   ],
   "source": [
    "VIEW(rejas_4)"
   ]
  },
  {
   "cell_type": "markdown",
   "metadata": {},
   "source": [
    "![](img/rejas_4.png)"
   ]
  },
  {
   "cell_type": "markdown",
   "metadata": {},
   "source": [
    "## Grating pillares "
   ]
  },
  {
   "cell_type": "code",
   "execution_count": 33,
   "metadata": {},
   "outputs": [],
   "source": [
    "'''\n",
    "    mar_rejas_pu: plate to form grating\n",
    "    barra: poles of grating\n",
    "    rejas_3: unions of objects\n",
    "'''\n",
    "# rejas pilares\n",
    "# pletina\n",
    "mar_rejas_pilar = COLOR(BLACK)(CUBOID([0.1,3,0.1]))\n",
    "\n",
    "#barra\n",
    "barra = COLOR(BLACK)(CYLINDER([0.03*2,6])(32))\n",
    "\n",
    "sepa_5 = []\n",
    "bar_5 = []\n",
    "\n",
    "for i in range(0,5):\n",
    "    sepa_5.append(T([1,2,3])([0.45,0.5,1+i])(mar_rejas_pilar))\n",
    "    \n",
    "    if(i<4):\n",
    "        bar_5.append(T([1,2])([0.05*10,0.2*((i+1)*4)])(barra))\n",
    "\n",
    "sepa_5 = STRUCT(sepa_5)\n",
    "bar_5 = STRUCT(bar_5)\n",
    "rejas_pi = T([1,2,3])([3.5,-0.6,3]) (R([1,2])(PI/2)(STRUCT([sepa_5,bar_5])))\n",
    "    "
   ]
  },
  {
   "cell_type": "code",
   "execution_count": 34,
   "metadata": {},
   "outputs": [
    {
     "data": {
      "text/plain": [
       "<pyplasm.xgepy.Hpc; proxy of <Swig Object of type 'std::shared_ptr< Hpc > *' at 0x181959c840> >"
      ]
     },
     "execution_count": 34,
     "metadata": {},
     "output_type": "execute_result"
    }
   ],
   "source": [
    "VIEW(rejas_pi)"
   ]
  },
  {
   "cell_type": "markdown",
   "metadata": {},
   "source": [
    "![](img/rejas_pilar.png)"
   ]
  },
  {
   "cell_type": "markdown",
   "metadata": {},
   "source": [
    "## Triangles"
   ]
  },
  {
   "cell_type": "code",
   "execution_count": 35,
   "metadata": {
    "collapsed": true
   },
   "outputs": [],
   "source": [
    "# Triángulos\n",
    "\n",
    "'''\n",
    "To create Triangle use 2 CUBOID and JOIN to, \n",
    "use too DIFFERENCE to create to profiling\n",
    "'''\n",
    "#Triangulo 1\n",
    "\n",
    "cubo_1 = T([2,3])([25,10])(CUBOID([1,0.1,1]))\n",
    "cubo_2 = CUBOID([1,50,1]) #-0.5\n",
    "triangulo_1 = TEXTURE(\"img/tex_pared.jpg\")((R([1,2])(PI/2)(T([1,2,3])([-1,-46,10])(JOIN([cubo_1,cubo_2])))))\n",
    "\n",
    "#Triangulo restado\n",
    "cubo_res_1 = T([2,3])([20,8])(CUBOID([1,0.1,1]))\n",
    "cubo_res_2 = T(3)(0.8)(CUBOID([1,40,1]))\n",
    "tri_resto = R([1,2])(PI/2)(T([1,2,3])([-0.3,-41,10])(JOIN([cubo_res_1,cubo_res_2])))\n",
    "\n",
    "\n",
    "triangulo_final =TEXTURE(\"img/tex_pared.jpg\")(DIFFERENCE([triangulo_1,tri_resto]))\n"
   ]
  },
  {
   "cell_type": "code",
   "execution_count": 36,
   "metadata": {},
   "outputs": [
    {
     "data": {
      "text/plain": [
       "<pyplasm.xgepy.Hpc; proxy of <Swig Object of type 'std::shared_ptr< Hpc > *' at 0x181959ce40> >"
      ]
     },
     "execution_count": 36,
     "metadata": {},
     "output_type": "execute_result"
    }
   ],
   "source": [
    "VIEW(triangulo_final)"
   ]
  },
  {
   "cell_type": "markdown",
   "metadata": {},
   "source": [
    "![](img/triangulo.png)"
   ]
  },
  {
   "cell_type": "markdown",
   "metadata": {},
   "source": [
    "## Column"
   ]
  },
  {
   "cell_type": "code",
   "execution_count": 37,
   "metadata": {
    "collapsed": true
   },
   "outputs": [],
   "source": [
    "'''\n",
    "    Method colum:\n",
    "    *Argument: \n",
    "    - h: hight\n",
    "'''\n",
    "def columna(h):\n",
    "    base = CUBOID([1.7,1.7,0.7,])\n",
    "    colum = CYLINDER([0.7,h])(12)\n",
    "    return TEXTURE(\"img/marmol.jpg\")(TOP([TOP([base,colum]),base]))"
   ]
  },
  {
   "cell_type": "code",
   "execution_count": 38,
   "metadata": {},
   "outputs": [
    {
     "data": {
      "text/plain": [
       "<pyplasm.xgepy.Hpc; proxy of <Swig Object of type 'std::shared_ptr< Hpc > *' at 0x18195a82a0> >"
      ]
     },
     "execution_count": 38,
     "metadata": {},
     "output_type": "execute_result"
    }
   ],
   "source": [
    "VIEW(columna(10))"
   ]
  },
  {
   "cell_type": "markdown",
   "metadata": {},
   "source": [
    "![](img/columna.png)"
   ]
  },
  {
   "cell_type": "markdown",
   "metadata": {},
   "source": [
    "## ROOF"
   ]
  },
  {
   "cell_type": "code",
   "execution_count": 39,
   "metadata": {
    "collapsed": true
   },
   "outputs": [],
   "source": [
    "\n",
    "tejado = TEXTURE(\"img/textura_1.jpg\")(S([1,2,3])([1.7,1.1,1.2])\n",
    "                                      ((R([1,2])(PI/4)(CONE([30,12])(4)))))\n",
    "\n",
    "tejado_1 = TEXTURE(\"img/textura_1.jpg\")(S([1,2,3])([1.7,1.2,1.2])\n",
    "                                        ((R([1,2])(PI/4)(CONE([30,12])(4)))))"
   ]
  },
  {
   "cell_type": "code",
   "execution_count": 40,
   "metadata": {},
   "outputs": [
    {
     "data": {
      "text/plain": [
       "<pyplasm.xgepy.Hpc; proxy of <Swig Object of type 'std::shared_ptr< Hpc > *' at 0x18195a8420> >"
      ]
     },
     "execution_count": 40,
     "metadata": {},
     "output_type": "execute_result"
    }
   ],
   "source": [
    "VIEW(tejado)"
   ]
  },
  {
   "cell_type": "code",
   "execution_count": 41,
   "metadata": {
    "collapsed": true
   },
   "outputs": [],
   "source": [
    "'''\n",
    "Method to create stairs and floor\n",
    "*Arguments:\n",
    "- x axis x\n",
    "- y axis y\n",
    "- z asix z\n",
    "- ancho size to floor\n",
    "'''\n",
    "def Ramp(x,y,z,ancho):\n",
    "    def Ramp1(n):\n",
    "        \n",
    "        step_foot = CUBOID([x*ancho,y])#x,y\n",
    "        step_rise = CUBOID([x*ancho,z])\n",
    "        step = STRUCT([COMP([T(3)(z),EMBED(1)])(step_foot),\n",
    "                      COMP([R([2,3])(PI/2),EMBED(1)])(step_rise) \n",
    "                      ])\n",
    "        \n",
    "        marmol = \"img/mosaico_b_n.jpg\"\n",
    "        escalera = (COMP([STRUCT,NN(n)])([step,T([2,3])([y,z])]))\n",
    "        \n",
    "        \n",
    "        return STRUCT([CUBOID([((1.8*ancho)/2)+0.1,1*(2.3*ancho)+0.3,-0.1]),# PLANTA 0 *\n",
    "                       (TEXTURE(marmol)(T([1,2,3])([0,2.8,1.5])(CUBOID([((2*ancho)/2),1*((2*ancho)+5),-0.1])))),#planta1\n",
    "                       (TEXTURE(marmol)(CUBOID([-20,2.3*ancho,1.5]))),\n",
    "                       (TEXTURE(marmol)(T(1)(ancho-3.3)(CUBOID([20,2.3*ancho,1.5])))),##  lado frente derecho \n",
    "                       \n",
    "                       escalera,## escalera delante\n",
    "                       T([2,3])([(ancho*2.3)-2.6,1.5])\n",
    "                      (R([2,3,1])(-PI/3)(escalera)), #escalera detras\n",
    "                       \n",
    "                       T([1,2])([ancho-3.3,(ancho*2)-2.5])(CUBOID([0.1,3,1.5]))])## lado frente izquierdo\n",
    "    return Ramp1"
   ]
  },
  {
   "cell_type": "markdown",
   "metadata": {},
   "source": [
    "## STAIRS"
   ]
  },
  {
   "cell_type": "markdown",
   "metadata": {},
   "source": [
    "![](img/escaleras.png)"
   ]
  },
  {
   "cell_type": "markdown",
   "metadata": {},
   "source": [
    "## Stairs and floor "
   ]
  },
  {
   "cell_type": "code",
   "execution_count": 42,
   "metadata": {},
   "outputs": [
    {
     "data": {
      "text/plain": [
       "<pyplasm.xgepy.Hpc; proxy of <Swig Object of type 'std::shared_ptr< Hpc > *' at 0x18195a49c0> >"
      ]
     },
     "execution_count": 42,
     "metadata": {},
     "output_type": "execute_result"
    }
   ],
   "source": [
    "VIEW((Ramp(0.9,0.28,0.16,33)(10)))"
   ]
  },
  {
   "cell_type": "markdown",
   "metadata": {},
   "source": [
    "![](img/escaleras_planta.png)"
   ]
  },
  {
   "cell_type": "markdown",
   "metadata": {},
   "source": [
    "## Grass"
   ]
  },
  {
   "cell_type": "code",
   "execution_count": 43,
   "metadata": {
    "collapsed": true
   },
   "outputs": [],
   "source": [
    "def Grass(sx,sy,sz):\n",
    "    '''\n",
    "    Method to create shape floor grass.\n",
    "    *Arguments:\n",
    "    - sx: span high in axis x.\n",
    "    - sy: span width in axis y.\n",
    "    - sz: span depth in axis z.\n",
    "    \n",
    "    Create floor grass.\n",
    "    Return(CUBOID(sx,sy,sz)).\n",
    "    '''\n",
    "    return TEXTURE(\"img/hierba.png\")(T([3,2,1])([-0.1,-sx/2.0,-sy/2.0])(CUBOID([sx,sy,sz])))"
   ]
  },
  {
   "cell_type": "markdown",
   "metadata": {},
   "source": [
    "## Narrow wall"
   ]
  },
  {
   "cell_type": "code",
   "execution_count": 44,
   "metadata": {
    "collapsed": true
   },
   "outputs": [],
   "source": [
    "### Pared izquierda estrecha\n",
    "x_wa_peq = -1.6*7\n",
    "wall_peq = CUBOID([x_wa_peq,-1*0.7,1*32])\n",
    "wall_left = DIFFERENCE([T([1,2])([-1,-1])(wall_peq),\n",
    "                        T([1,2,3])([-8,-2,3])(CUBOID([3,4,6])),\n",
    "                        T([1,2,3])([-8,-2,23])(CUBOID([3,4,6]))\n",
    "                       ])\n",
    "wall_left_completa = STRUCT([(TEXTURE(\"img/textura_pared.png\")(wall_left))\n",
    "                             ,ven_l,ven_l_up,rejas])\n"
   ]
  },
  {
   "cell_type": "code",
   "execution_count": 45,
   "metadata": {},
   "outputs": [
    {
     "data": {
      "text/plain": [
       "<pyplasm.xgepy.Hpc; proxy of <Swig Object of type 'std::shared_ptr< Hpc > *' at 0x18195a4a50> >"
      ]
     },
     "execution_count": 45,
     "metadata": {},
     "output_type": "execute_result"
    }
   ],
   "source": [
    "VIEW(wall_left)"
   ]
  },
  {
   "cell_type": "markdown",
   "metadata": {},
   "source": [
    "![](img/part_left_est.png)"
   ]
  },
  {
   "cell_type": "code",
   "execution_count": 46,
   "metadata": {},
   "outputs": [
    {
     "data": {
      "text/plain": [
       "<pyplasm.xgepy.Hpc; proxy of <Swig Object of type 'std::shared_ptr< Hpc > *' at 0x18195a4900> >"
      ]
     },
     "execution_count": 46,
     "metadata": {},
     "output_type": "execute_result"
    }
   ],
   "source": [
    "VIEW(wall_left_completa)"
   ]
  },
  {
   "cell_type": "markdown",
   "metadata": {},
   "source": [
    "![](img/wall_left_completa.png)"
   ]
  },
  {
   "cell_type": "markdown",
   "metadata": {},
   "source": [
    "## Left wall "
   ]
  },
  {
   "cell_type": "code",
   "execution_count": 47,
   "metadata": {
    "collapsed": true
   },
   "outputs": [],
   "source": [
    "'''\n",
    " * ven_iz_0: first hole bottom window\n",
    " * ven_iz_ar_0: first  hole top window\n",
    " * ven_iz_1: second hole bottom window\n",
    " * ven_iz_ar_1: second hole top window\n",
    " * ven_iz_2: third hole bottom window\n",
    " * ven_iz_ar_2: third hole top window\n",
    " * ven_iz_3: fourth hole bottom window\n",
    " * ven_iz_ar_3: fourth hole top window\n",
    "'''\n",
    "\n",
    "#delante lado izquierdo\n",
    "ven_iz_0 =T([1,2,3])([-13,2,-18])(CUBOID([2,5,7]))\n",
    "ven_iz_ar_0 = T([1,2,3])([-13,2,-4])(CUBOID([2,5,7]))\n",
    "\n",
    "ven_iz_1 = T([1,2,3])([-13,25,-18])(CUBOID([2,5,7]))\n",
    "ven_iz_ar_1 = T([1,2,3])([-13,25,-4])(CUBOID([2,5,7]))\n",
    "\n",
    "\n",
    "#detras lado izquierdo\n",
    "ven_iz_2 =T([1,2,3])([-13,25*1.5,-18])(CUBOID([2,5,7]))\n",
    "ven_iz_ar_2 = T([1,2,3])([-13,25*1.5,-4])(CUBOID([2,5,7]))\n",
    "\n",
    "ven_iz_3 =T([1,2,3])([-13,25*2.55,-18])(CUBOID([2,5,7]))\n",
    "ven_iz_ar_3 =T([1,2,3])([-13,25*2.55,-4])(CUBOID([2,5,7]))\n",
    "\n",
    "pared = \"img/textura_pared.png\"\n",
    "parte_left = TEXTURE(pared)(DIFFERENCE([T([1,2,3])([-11.5,0.1,-22])(CUBOID([-1.3,1*73,32])),\n",
    "                         ven_iz_0, ven_iz_ar_0,ven_iz_1,ven_iz_ar_1,\n",
    "                         ven_iz_2, ven_iz_ar_2,\n",
    "                         ven_iz_3, ven_iz_ar_3\n",
    "                        ]))\n",
    "parte_left_completo = STRUCT([parte_left,parte_left_cristal,parte_left_rejas])"
   ]
  },
  {
   "cell_type": "code",
   "execution_count": 48,
   "metadata": {},
   "outputs": [
    {
     "data": {
      "text/plain": [
       "<pyplasm.xgepy.Hpc; proxy of <Swig Object of type 'std::shared_ptr< Hpc > *' at 0x18473d25d0> >"
      ]
     },
     "execution_count": 48,
     "metadata": {},
     "output_type": "execute_result"
    }
   ],
   "source": [
    "VIEW(parte_left)"
   ]
  },
  {
   "cell_type": "markdown",
   "metadata": {},
   "source": [
    "![](img/parte_left.png)"
   ]
  },
  {
   "cell_type": "code",
   "execution_count": 49,
   "metadata": {},
   "outputs": [
    {
     "data": {
      "text/plain": [
       "<pyplasm.xgepy.Hpc; proxy of <Swig Object of type 'std::shared_ptr< Hpc > *' at 0x18473d24b0> >"
      ]
     },
     "execution_count": 49,
     "metadata": {},
     "output_type": "execute_result"
    }
   ],
   "source": [
    "VIEW(parte_left_completo)"
   ]
  },
  {
   "cell_type": "markdown",
   "metadata": {},
   "source": [
    "![](img/parte_left_com.png)"
   ]
  },
  {
   "cell_type": "markdown",
   "metadata": {},
   "source": [
    "## Pillar"
   ]
  },
  {
   "cell_type": "code",
   "execution_count": 50,
   "metadata": {
    "collapsed": true
   },
   "outputs": [],
   "source": [
    "##Pilar\n",
    "pilar =TEXTURE(\"img/textura_pared.png\")(DIFFERENCE([T([1,2])([2,4])\n",
    "                   (R([1,2])(3*PI/4)(TUBE([5,6,32])(4)) ),\n",
    "                  T([1,2,3])([3,2.5,3])(R([1,2])(3*PI/3)(CUBOID([2.5,6,5]))),\n",
    "                   T([1,2,3])([3,2.5,22])(R([1,2])(3*PI/3)(CUBOID([2.5,6,5]))),\n",
    "                  ]))\n",
    "pilar_completo = STRUCT([pilar,ven_pil_l,ven_pil_up,rejas_pi])"
   ]
  },
  {
   "cell_type": "code",
   "execution_count": 51,
   "metadata": {},
   "outputs": [
    {
     "data": {
      "text/plain": [
       "<pyplasm.xgepy.Hpc; proxy of <Swig Object of type 'std::shared_ptr< Hpc > *' at 0x18473d2720> >"
      ]
     },
     "execution_count": 51,
     "metadata": {},
     "output_type": "execute_result"
    }
   ],
   "source": [
    "VIEW(pilar)"
   ]
  },
  {
   "cell_type": "markdown",
   "metadata": {},
   "source": [
    "![](img/pilar.png)"
   ]
  },
  {
   "cell_type": "markdown",
   "metadata": {},
   "source": [
    "## Complete pillar"
   ]
  },
  {
   "cell_type": "code",
   "execution_count": 52,
   "metadata": {},
   "outputs": [
    {
     "data": {
      "text/plain": [
       "<pyplasm.xgepy.Hpc; proxy of <Swig Object of type 'std::shared_ptr< Hpc > *' at 0x18473d2570> >"
      ]
     },
     "execution_count": 52,
     "metadata": {},
     "output_type": "execute_result"
    }
   ],
   "source": [
    "VIEW(pilar_completo)"
   ]
  },
  {
   "cell_type": "markdown",
   "metadata": {},
   "source": [
    "![](img/pilar_completo.png)"
   ]
  },
  {
   "cell_type": "markdown",
   "metadata": {},
   "source": [
    "## Complete central Wall "
   ]
  },
  {
   "cell_type": "code",
   "execution_count": 53,
   "metadata": {
    "collapsed": true
   },
   "outputs": [],
   "source": [
    "wall_win_completa = STRUCT([wall_win,puerta_y_tirador,\n",
    "                   wall_win_cris,wall_win_rejas ])"
   ]
  },
  {
   "cell_type": "code",
   "execution_count": 54,
   "metadata": {},
   "outputs": [
    {
     "data": {
      "text/plain": [
       "<pyplasm.xgepy.Hpc; proxy of <Swig Object of type 'std::shared_ptr< Hpc > *' at 0x18473d2780> >"
      ]
     },
     "execution_count": 54,
     "metadata": {},
     "output_type": "execute_result"
    }
   ],
   "source": [
    "VIEW(wall_win_completa)"
   ]
  },
  {
   "cell_type": "markdown",
   "metadata": {},
   "source": [
    "![](img/pared_central.png)"
   ]
  },
  {
   "cell_type": "markdown",
   "metadata": {},
   "source": [
    "## Top Central Wall "
   ]
  },
  {
   "cell_type": "code",
   "execution_count": 55,
   "metadata": {
    "collapsed": true
   },
   "outputs": [],
   "source": [
    "wall_win_up_completo = STRUCT([wall_win_up(25,0.5,10),ven_cen_l_up])"
   ]
  },
  {
   "cell_type": "code",
   "execution_count": 56,
   "metadata": {},
   "outputs": [
    {
     "data": {
      "text/plain": [
       "<pyplasm.xgepy.Hpc; proxy of <Swig Object of type 'std::shared_ptr< Hpc > *' at 0x18473d2ba0> >"
      ]
     },
     "execution_count": 56,
     "metadata": {},
     "output_type": "execute_result"
    }
   ],
   "source": [
    "VIEW(wall_win_up_completo)"
   ]
  },
  {
   "cell_type": "markdown",
   "metadata": {},
   "source": [
    "![](img/wall_win_up_completa.png)"
   ]
  },
  {
   "cell_type": "markdown",
   "metadata": {},
   "source": [
    "## Central wall with cornise and bottom floor "
   ]
  },
  {
   "cell_type": "code",
   "execution_count": 57,
   "metadata": {
    "collapsed": true
   },
   "outputs": [],
   "source": [
    "### Pared central con cornisa y planta superior\n",
    "\n",
    "wall_corni =BOTTOM([T([1,2])([5,4])(wall_win_up_completo) ,\n",
    "                    BOTTOM([corni(32,10,-0.5),T([1,2])([5,4])(wall_win_completa)])])\n",
    "\n"
   ]
  },
  {
   "cell_type": "code",
   "execution_count": 58,
   "metadata": {},
   "outputs": [
    {
     "data": {
      "text/plain": [
       "<pyplasm.xgepy.Hpc; proxy of <Swig Object of type 'std::shared_ptr< Hpc > *' at 0x18473d2cf0> >"
      ]
     },
     "execution_count": 58,
     "metadata": {},
     "output_type": "execute_result"
    }
   ],
   "source": [
    "VIEW(wall_corni)"
   ]
  },
  {
   "cell_type": "markdown",
   "metadata": {},
   "source": [
    "![](img/wall_corni.png)"
   ]
  },
  {
   "cell_type": "markdown",
   "metadata": {},
   "source": [
    "## Right wall"
   ]
  },
  {
   "cell_type": "code",
   "execution_count": 59,
   "metadata": {
    "collapsed": true
   },
   "outputs": [],
   "source": [
    "'''\n",
    " * ven_der_0: first hole bottom window\n",
    " * ven_der_ar_0:first hole top window\n",
    " * ven_der_1: second hole bottom window\n",
    " * ven_der_ar_1: second hole top window\n",
    " * ven_der_2: third hole bottom window\n",
    " * ven_der_ar_2: third hole top window\n",
    " * ven_der_3: fourth hole bottom window\n",
    " * ven_der_ar_3: fourth hole top window\n",
    "'''\n",
    "#delante\n",
    "ven_der_0 =T([1,2,3])([53,2,-18])(CUBOID([2,5,7]))\n",
    "ven_der_ar_0 = T([1,2,3])([53,2,-4])(CUBOID([2,5,7]))\n",
    "\n",
    "ven_der_1 = T([1,2,3])([53,25,-18])(CUBOID([2,5,7]))\n",
    "ven_der_ar_1 = T([1,2,3])([53,25,-4])(CUBOID([2,5,7]))\n",
    "\n",
    "\n",
    "#detras\n",
    "ven_der_2 =T([1,2,3])([53,25*1.5,-18])(CUBOID([2,5,7]))\n",
    "ven_der_ar_2 = T([1,2,3])([53,25*1.5,-4])(CUBOID([2,5,7]))\n",
    "\n",
    "ven_der_3 =T([1,2,3])([53,25*2.55,-18])(CUBOID([2,5,7]))\n",
    "ven_der_ar_3 =T([1,2,3])([53,25*2.55,-4])(CUBOID([2,5,7]))\n",
    "\n",
    "parte_right = TEXTURE(\"img/textura_pared.png\")(DIFFERENCE([T([1,2,3])([55,-1,-22])(CUBOID([-1.7,1*74,32])),\n",
    "                        ven_der_0,ven_der_ar_0,ven_der_1,ven_der_ar_1,\n",
    "                        ven_der_2,ven_der_ar_2,ven_der_3,ven_der_ar_3\n",
    "                        ]))\n",
    "parte_right_completa = STRUCT([parte_right,parte_right_cristales,parte_right_rejas])"
   ]
  },
  {
   "cell_type": "markdown",
   "metadata": {},
   "source": [
    "### VILLA"
   ]
  },
  {
   "cell_type": "code",
   "execution_count": 60,
   "metadata": {},
   "outputs": [],
   "source": [
    "'''\n",
    " colums: vector to columns\n",
    " railins: vector to railings\n",
    " wall_centras_s: struct wall centrall\n",
    " h1_pleft: wall inside of left hall\n",
    " h1_pright_1: wall inside of rigth hall\n",
    " salon : longe, use tube\n",
    " salon2: longe, use tube\n",
    "\n",
    "'''\n",
    "\n",
    "colums = []\n",
    "\n",
    "#### COLUMNS ########\n",
    "for i in range(0,6):\n",
    "    if(i<3):\n",
    "        colums.append(T([1,2,3])([6+i*5,2,-20.5])(columna(18)))\n",
    "    else:\n",
    "        colums.append(T([1,2,3])([(6+i*5)+3,2,-20.5])(columna(18)))\n",
    "\n",
    "colums = STRUCT(colums)\n",
    "#####################\n",
    "\n",
    "#### RAILINGS #######\n",
    "\n",
    "railings = [] #barandas\n",
    "type_railing = railing(4.1,0.8,0.3)\n",
    "for i in range(0,5):\n",
    "    railings.append(T([1,2,3])([6.5+i*6,4,-0.1])(type_railing))\n",
    "\n",
    "railings = STRUCT(railings)\n",
    "#####################\n",
    "\n",
    "#Estructura centra\n",
    "#tiene los laterales izquierda y derecha y estructura completa central\n",
    "\n",
    "wall_central_s = STRUCT([parte_left_completo,\n",
    "                      wall_corni,\n",
    "                      T([2,3])([2.1,-22])(wall_left_completa),\n",
    "                      T([3])(-22)(pilar_completo),\n",
    "                      T([1,2,3])([38,0,-22])(pilar_completo),\n",
    "                      T([1,2,3])([56,1.1,-22])(wall_left_completa),\n",
    "                      parte_right_completa,(S([2])(-8))(triangulo_final),\n",
    "                      colums,  \n",
    "                      railings\n",
    "                      \n",
    "                     ])\n",
    "\n",
    "wall_peq_iz = CUBOID([x_wa_peq,2*0.7,1*32])\n",
    "wall_left_iz = DIFFERENCE([T([1,2])([55,-1])(wall_peq_iz),\n",
    "                        T([1,2,3])([46,-2,0])(CUBOID([5,4,6])),\n",
    "                        T([1,2,3])([46,-2,23])(CUBOID([5,4,6]))\n",
    "                       ])\n",
    "\n",
    "#PAREDES INTERNAS\n",
    "h1_i = STRUCT([T([1,2,3])([-1,20,-22])(wall_left_iz)]) # iz primera a dentro\n",
    "\n",
    "h2_i =STRUCT([T([1,2,3])([-1,40,-22])(wall_left_iz)])#iz segunda a dentro\n",
    "h3_i = STRUCT([T([1,2,3])([-1,60,-22])(wall_left_iz)]) # iz interno mas a dentro\n",
    "\n",
    "\n",
    "\n",
    "### HUECOS MURO INTERNO IZQUIERDA\n",
    "\n",
    "puer_iz_in =T([1,2,3])([35,25*1.3,-22])(CUBOID([2,7,9]))\n",
    "puer_iz_in_up = T([1,2,3])([35,25*1.3,-4])(CUBOID([2,5,7]))\n",
    "\n",
    "#MURO INTERNO PASILLO IZQUIERDA\n",
    "h1_pleft = DIFFERENCE([T([1,2,3])([37,8,-22])(CUBOID([-1,1*56,32])),\n",
    "                   puer_iz_in, puer_iz_in_up ])\n",
    "\n",
    "\n",
    "### HUECOS MURO INTERNO DERECHA\n",
    "\n",
    "puer_iz_in_l =T([1,2,3])([42,25*1.3,-22])(CUBOID([2,7,9])) # hueco puerta\n",
    "ven_iz_in_up_l = T([1,2,3])([42,25*1.3,-4])(CUBOID([2,5,7])) # hueco ventana muro interno izquierda\n",
    "\n",
    "### MURO INTERNO PASILLO IZQUIERDA\n",
    "\n",
    "h1_pleft_1 = DIFFERENCE([T([1,2,3])([44,8,-22])(CUBOID([-1,1*56,32])),\n",
    "                   puer_iz_in_l, ven_iz_in_up_l ])\n",
    "\n",
    "#PARED INTERNA DERECHA\n",
    "wall_peq_in = CUBOID([x_wa_peq,2*0.7,1*32])\n",
    "wall_left_in = DIFFERENCE([T([1,2])([-1,-1])(wall_peq_in),\n",
    "                        T([1,2,3])([-10,-2,0])(CUBOID([5,4,6])),\n",
    "                        T([1,2,3])([-10,-2,23])(CUBOID([5,4,6]))\n",
    "                       ])\n",
    "\n",
    "#PAREDES INTERNAS \n",
    "h1 = STRUCT([T([2,3])([20,-22])(wall_left_in)]) # derecha primera a dentro\n",
    "\n",
    "h2 = STRUCT([T([2,3])([40,-22])(wall_left_in)]) #derecha segunda a dentro\n",
    "h3 = STRUCT([T([2,3])([60,-22])(wall_left_in)]) # derecha interno mas a dentro\n",
    "\n",
    "\n",
    "puer_der_in = T([1,2,3])([4,25*1.3,-22])(CUBOID([2,7,9])) #puerta pared interna\n",
    "puer_der_in_up = T([1,2,3])([4,25*1.3,-4])(CUBOID([2,5,7])) #ventana pared interna\n",
    "\n",
    "h1_pright = DIFFERENCE([ T([1,2,3])([6,8,-22])(CUBOID([-1.3,1*56,32])),\n",
    "                        puer_der_in,puer_der_in_up])\n",
    "\n",
    "puer_der_in_1 =T([1,2,3])([-3,25*1.3,-22])(CUBOID([2,7,9])) # puerta pared interna\n",
    "puer_der_in_up_1 = T([1,2,3])([-3,25*1.3,-4])(CUBOID([2,5,7])) #ventana pared interna\n",
    "\n",
    "#MURO INTERNO DERECHA\n",
    "\n",
    "h1_pright_1 = DIFFERENCE([ \n",
    "    T([1,2,3])([-1,8,-22])(CUBOID([-1.3,1*56,32])),\n",
    "    puer_der_in_1,puer_der_in_up_1])\n",
    "\n",
    "### salon 1\n",
    "\n",
    "salon = DIFFERENCE([T([1,2,3])([20,25,-23])(R([1,2])(3*PI/4)(TUBE([14,16,33])(4))) ,\n",
    "                       T([1,2,3])([24,29,-23])(R([1,2])(3*PI/3)(CUBOID([10.5,30,20]))),\n",
    "                       T([1,2,3])([24,29,-23])(R([1,2])(PI/2)(CUBOID([10.5,10,20])))\n",
    "                       ])\n",
    "\n",
    "### salon 2\n",
    "salon2 = DIFFERENCE([T([1,2,3])([20,50,-23])(R([1,2])(3*PI/4)(TUBE([14,16,33])(4))) ,\n",
    "                       T([1,2,3])([24,54,-23])(R([1,2])(3*PI/3)(CUBOID([10.5,30,20]))),\n",
    "                       T([1,2,3])([24,54,-23])(R([1,2])(PI/2)(CUBOID([10.5,10,20])))\n",
    "                       ])\n",
    "\n",
    "\n",
    "frente_cara = STRUCT([wall_corni,\n",
    "                      T([2,3])([1.1,-22])(wall_left_completa),h1_i,h2_i,h3_i,T([3])(-22)(pilar_completo),\n",
    "                      T([1,2,3])([38,0,-22])(pilar_completo),\n",
    "                      T([1,2,3])([56,1.1,-22])(wall_left_completa),#muro ventanas izquierda\n",
    "                      TOP([salon,tejado_1]),TOP([salon2,tejado]),\n",
    "                      salon,salon2,\n",
    "                      h1,h2,h3,h1_pleft,h1_pleft_1,h1_pright,h1_pright_1,\n",
    "                      (S([2])(-8)(triangulo_final)),colums,\n",
    "                      railings\n",
    "                     \n",
    "                     ])\n",
    "                     \n",
    "\n",
    "parte_atras = STRUCT([wall_central_s,T([1,2])([42,72])((R([1,2,3])(-3*PI/3))(frente_cara)) ])\n",
    "\n",
    "\n",
    "esca = T([1,2])([6.1,-2])(Ramp(0.9,0.28,0.16,33)(10))\n",
    "final = STRUCT([parte_atras,T([3])(-22)(esca),T([3,2,1])([-22,33,15])(Grass(150,150,-0.1))])\n"
   ]
  },
  {
   "cell_type": "code",
   "execution_count": 61,
   "metadata": {},
   "outputs": [
    {
     "data": {
      "text/plain": [
       "<pyplasm.xgepy.Hpc; proxy of <Swig Object of type 'std::shared_ptr< Hpc > *' at 0x18195c5db0> >"
      ]
     },
     "execution_count": 61,
     "metadata": {},
     "output_type": "execute_result"
    }
   ],
   "source": [
    "VIEW(h1_pleft )"
   ]
  },
  {
   "cell_type": "markdown",
   "metadata": {},
   "source": [
    "## Inner wall"
   ]
  },
  {
   "cell_type": "markdown",
   "metadata": {},
   "source": [
    "![](img/h1_pleft.png)"
   ]
  },
  {
   "cell_type": "code",
   "execution_count": 62,
   "metadata": {},
   "outputs": [
    {
     "data": {
      "text/plain": [
       "<pyplasm.xgepy.Hpc; proxy of <Swig Object of type 'std::shared_ptr< Hpc > *' at 0x18195c5f90> >"
      ]
     },
     "execution_count": 62,
     "metadata": {},
     "output_type": "execute_result"
    }
   ],
   "source": [
    "VIEW(wall_central_s)"
   ]
  },
  {
   "cell_type": "markdown",
   "metadata": {},
   "source": [
    "![](img/wall_central_s.png)"
   ]
  },
  {
   "cell_type": "markdown",
   "metadata": {},
   "source": [
    "## Top view"
   ]
  },
  {
   "cell_type": "markdown",
   "metadata": {},
   "source": [
    "![](img/vista_superior.png)"
   ]
  },
  {
   "cell_type": "markdown",
   "metadata": {},
   "source": [
    "## Roof View"
   ]
  },
  {
   "cell_type": "markdown",
   "metadata": {},
   "source": [
    "![](img/tejado.png)"
   ]
  },
  {
   "cell_type": "markdown",
   "metadata": {},
   "source": [
    "## Top floor railing "
   ]
  },
  {
   "cell_type": "markdown",
   "metadata": {},
   "source": [
    "![](img/up_completo.png)"
   ]
  },
  {
   "cell_type": "markdown",
   "metadata": {},
   "source": [
    "## Inside villa"
   ]
  },
  {
   "cell_type": "markdown",
   "metadata": {},
   "source": [
    "![](img/inside.png)"
   ]
  },
  {
   "cell_type": "markdown",
   "metadata": {},
   "source": [
    "## Top inside floor "
   ]
  },
  {
   "cell_type": "markdown",
   "metadata": {},
   "source": [
    "![](img/inside_up.png)"
   ]
  },
  {
   "cell_type": "code",
   "execution_count": 63,
   "metadata": {},
   "outputs": [
    {
     "data": {
      "text/plain": [
       "<pyplasm.xgepy.Hpc; proxy of <Swig Object of type 'std::shared_ptr< Hpc > *' at 0x1855e6b450> >"
      ]
     },
     "execution_count": 63,
     "metadata": {},
     "output_type": "execute_result"
    }
   ],
   "source": [
    "VIEW(final) ## todo hasta ahora"
   ]
  },
  {
   "cell_type": "markdown",
   "metadata": {
    "collapsed": true
   },
   "source": [
    "## Final"
   ]
  },
  {
   "cell_type": "markdown",
   "metadata": {},
   "source": [
    "![](img/final.png)"
   ]
  },
  {
   "cell_type": "code",
   "execution_count": 65,
   "metadata": {
    "collapsed": true
   },
   "outputs": [],
   "source": []
  },
  {
   "cell_type": "code",
   "execution_count": null,
   "metadata": {
    "collapsed": true
   },
   "outputs": [],
   "source": []
  }
 ],
 "metadata": {
  "kernelspec": {
   "display_name": "Python 2",
   "language": "python",
   "name": "python2"
  },
  "language_info": {
   "codemirror_mode": {
    "name": "ipython",
    "version": 2
   },
   "file_extension": ".py",
   "mimetype": "text/x-python",
   "name": "python",
   "nbconvert_exporter": "python",
   "pygments_lexer": "ipython2",
   "version": "2.7.12"
  }
 },
 "nbformat": 4,
 "nbformat_minor": 2
}
