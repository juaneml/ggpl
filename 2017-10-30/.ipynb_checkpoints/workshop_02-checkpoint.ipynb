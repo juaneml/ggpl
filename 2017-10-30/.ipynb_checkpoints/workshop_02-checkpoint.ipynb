{
 "cells": [
  {
   "cell_type": "markdown",
   "metadata": {},
   "source": [
    "# My room bookcase\n"
   ]
  },
  {
   "cell_type": "markdown",
   "metadata": {},
   "source": [
    "References [web reference]( https://github.com/juaneml/ggpl/)"
   ]
  },
  {
   "cell_type": "markdown",
   "metadata": {},
   "source": [
    "<div class =\"pull-left\">\n",
    "    \n",
    "<img src=KALLAX_1.png width=40% height=40% float=left> \n",
    "</div>\n",
    "<center>\n",
    "   <img src=KALLAX_2.png width=20% height=20% float=left> \n",
    "</center>\n",
    "<div class =\"pull-left\">\n",
    "<img src=KALLAX_3.png width=50% height=50% float=left> \n",
    "</div>\n",
    "<center>\n",
    "   <img src=KALLAX_4.png width=20% height=20% float=left>\n",
    "</center>\n"
   ]
  },
  {
   "cell_type": "markdown",
   "metadata": {
    "collapsed": true
   },
   "source": [
    "\n"
   ]
  },
  {
   "cell_type": "code",
   "execution_count": null,
   "metadata": {
    "collapsed": true
   },
   "outputs": [],
   "source": []
  }
 ],
 "metadata": {
  "kernelspec": {
   "display_name": "Python 2",
   "language": "python",
   "name": "python2"
  },
  "language_info": {
   "codemirror_mode": {
    "name": "ipython",
    "version": 2
   },
   "file_extension": ".py",
   "mimetype": "text/x-python",
   "name": "python",
   "nbconvert_exporter": "python",
   "pygments_lexer": "ipython2",
   "version": "2.7.12"
  }
 },
 "nbformat": 4,
 "nbformat_minor": 2
}
