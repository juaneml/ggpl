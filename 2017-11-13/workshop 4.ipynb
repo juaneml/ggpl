{
 "cells": [
  {
   "cell_type": "markdown",
   "metadata": {},
   "source": [
    "# CAD-LMPS-2008"
   ]
  },
  {
   "cell_type": "markdown",
   "metadata": {},
   "source": [
    "## Column\n"
   ]
  },
  {
   "cell_type": "markdown",
   "metadata": {},
   "source": [
    "Definition of column."
   ]
  },
  {
   "cell_type": "markdown",
   "metadata": {},
   "source": [
    "    DEF columna (dm,h,h_base::isReal) = base TOP\n",
    "       torus_bot TOP cylndr TOP torus_top TOP capital\n",
    "        TOP base_top\n",
    "    WHERE \n",
    "       cylndr = (JOIN~TRUNCONE:<dm/2,0.8*dm/2,h>):24,\n",
    "       torus_bot = (JOIN~TORUS:<dm/12,d/2>):<8:24>,\n",
    "       torus_top = (JOIN~TORUS:<0.8*(dm/12),0.8*/dm/\n",
    "           2)>): <8,24>,\n",
    "       base = (T:<1,2>:<7*dm/-12 , 7*dm/-12> ~CUBOID)\n",
    "           :<7*dm/6, 7*dm/6, h_base>,\n",
    "       base_top = (T:<1,2>:<7*dm/-12 , 7*dm/-12> ~\n",
    "          CUBOID): <7*dm/6, 7*dm/6, dm/6>,\n",
    "       capital = (JOIN ~TRUNCONE: < 0.8*dm/2, 1.2*dm/\n",
    "          2, h/8>):4 + (R:<1,2>:(PI/4) ~ JOIN ~\n",
    "          TRUNCONE: < 0.8*dm/2, 1.2*dm/2, h/8>): 4\n",
    "     END;\n",
    "          "
   ]
  },
  {
   "cell_type": "code",
   "execution_count": 1,
   "metadata": {},
   "outputs": [
    {
     "name": "stdout",
     "output_type": "stream",
     "text": [
      "Evaluating fenvs.py..\n",
      "...fenvs.py imported in 0.007785 seconds\n"
     ]
    }
   ],
   "source": [
    "from pyplasm import *"
   ]
  },
  {
   "cell_type": "code",
   "execution_count": 2,
   "metadata": {
    "collapsed": true
   },
   "outputs": [],
   "source": [
    "def columna (dm,h,h_base):\n",
    "    cylndr = COMP([JOIN,TRUNCONE ([dm/2,0.8*(dm/2),h])])(24)\n",
    "    torus_bot = COMP([JOIN,TORUS([dm/12,dm/2])])([8,24])\n",
    "    torus_top = COMP([JOIN,TORUS([0.8*(dm/12),0.8*(dm/2)])])([8,24])\n",
    "    base = COMP([T([1,2])([7*(dm/-12),7*(dm/-12)]),CUBOID])([7*(dm/6),7*(dm/6),h_base])\n",
    "    base_top = COMP([T([1,2])([7*(dm/-12),7*(dm/-12)]),CUBOID])([7*(dm/6),7*(dm/6),dm/6])\n",
    "    capital = SUM([COMP([JOIN,TRUNCONE([0.8*dm/2, 1.2*dm/2,h/8])])(4),\n",
    "                   COMP([R([1,2])(PI/4), JOIN,TRUNCONE([0.8*dm/2,1.2*dm/2, h/8])])(4)])\n",
    "    return TOP([TOP([TOP([TOP([TOP([base,torus_bot]),cylndr]),torus_top ]),capital ]),base_top ])\n",
    "        \n"
   ]
  },
  {
   "cell_type": "code",
   "execution_count": 3,
   "metadata": {},
   "outputs": [
    {
     "name": "stdout",
     "output_type": "stream",
     "text": [
      "Child 3\n",
      "Child 3\n"
     ]
    },
    {
     "data": {
      "text/plain": [
       "<pyplasm.xgepy.Hpc; proxy of <Swig Object of type 'std::shared_ptr< Hpc > *' at 0x107ec6330> >"
      ]
     },
     "execution_count": 3,
     "metadata": {},
     "output_type": "execute_result"
    }
   ],
   "source": [
    "VIEW(columna(-4,35,0.5))"
   ]
  },
  {
   "cell_type": "markdown",
   "metadata": {},
   "source": [
    "![columna](columna.png)"
   ]
  },
  {
   "cell_type": "code",
   "execution_count": 4,
   "metadata": {
    "collapsed": true
   },
   "outputs": [],
   "source": []
  },
  {
   "cell_type": "code",
   "execution_count": null,
   "metadata": {
    "collapsed": true
   },
   "outputs": [],
   "source": []
  }
 ],
 "metadata": {
  "kernelspec": {
   "display_name": "Python 2",
   "language": "python",
   "name": "python2"
  },
  "language_info": {
   "codemirror_mode": {
    "name": "ipython",
    "version": 2
   },
   "file_extension": ".py",
   "mimetype": "text/x-python",
   "name": "python",
   "nbconvert_exporter": "python",
   "pygments_lexer": "ipython2",
   "version": "2.7.12"
  }
 },
 "nbformat": 4,
 "nbformat_minor": 2
}
