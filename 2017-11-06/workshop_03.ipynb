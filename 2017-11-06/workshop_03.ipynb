{
 "cells": [
  {
   "cell_type": "markdown",
   "metadata": {},
   "source": [
    "# Leonardo scheme"
   ]
  },
  {
   "cell_type": "markdown",
   "metadata": {},
   "source": [
    "[leonardo_church_1]( https://github.com/juaneml/ggpl/blob/master/2017-11-06/leo_church_1.png)"
   ]
  },
  {
   "cell_type": "markdown",
   "metadata": {},
   "source": [
    "[leonardo church 2]( https://github.com/juaneml/ggpl/blob/master/2017-11-06/leo_church_2.png)"
   ]
  },
  {
   "cell_type": "code",
   "execution_count": 1,
   "metadata": {},
   "outputs": [
    {
     "name": "stdout",
     "output_type": "stream",
     "text": [
      "Evaluating fenvs.py..\n",
      "...fenvs.py imported in 0.006972 seconds\n"
     ]
    }
   ],
   "source": [
    "from pyplasm import *"
   ]
  },
  {
   "cell_type": "code",
   "execution_count": 1,
   "metadata": {
    "collapsed": true
   },
   "outputs": [],
   "source": [
    "def Hemisphere(radius):\n",
    "    '''\n",
    "    Method to create hemisphere with radius like argument.\n",
    "    '''\n",
    "    def GSPHERE0(subds):\n",
    "        N, M = subds\n",
    "        domain = Hpc(Grid([N * [PI / N], M * [PI / M]]))\n",
    "        domain = MAT([[1, 0, 0, 0], [-PI * 2, 1, 0, 0], [-PI, 0, 1, 0], [0, 0, 0, 1]])(domain)\n",
    "        fx = lambda p: radius * math.cos(p[0]) * math.sin(p[1])\n",
    "        fy = lambda p: radius * math.cos(p[0]) * math.cos(p[1])\n",
    "        fz = lambda p: radius * math.sin(p[0])\n",
    "        ret = GMAP([fx,fy,fz])(domain)\n",
    "        return ret \n",
    "    return GSPHERE0"
   ]
  },
  {
   "cell_type": "code",
   "execution_count": 2,
   "metadata": {
    "collapsed": true
   },
   "outputs": [],
   "source": [
    "def Grass(sx,sy,sz):\n",
    "    '''\n",
    "    Method to create shape floor grass.\n",
    "    *Arguments:\n",
    "    - sx: span high in axis x.\n",
    "    - sy: span width in axis y.\n",
    "    - sz: span depth in axis z.\n",
    "    \n",
    "    Create floor grass.\n",
    "    Return(CUBOID(sx,sy,sz)).\n",
    "    '''\n",
    "    return HEX('#00ff55')(T([3,2,1])([-0.1,-sx/2.0,-sy/2.0])(CUBOID([sx,sy,sz])))"
   ]
  },
  {
   "cell_type": "code",
   "execution_count": 18,
   "metadata": {
    "collapsed": true
   },
   "outputs": [],
   "source": [
    "def frame(tx,sx,sy,th,tw,face):\n",
    "    \n",
    "    '''\n",
    "    Method to create frame to windows.\n",
    "    *Arguments:\n",
    "    - tx: elevation to frame in axis x.\n",
    "    - sx: high span to frame in axis x.\n",
    "    - sy: width span to frame in axis y.\n",
    "    - th: high frame about floor.\n",
    "    - tw: width frame aboot frame.\n",
    "\n",
    "    - make a loop to create two tube shapes.\n",
    "    - f: is a vector to add the frame.\n",
    "\n",
    "    return STRUCT(f)\n",
    "        \n",
    "    '''\n",
    "    \n",
    "    f = []\n",
    "    \n",
    "    for k in range(0,2):\n",
    "        if k==0:\n",
    "            f.append(HEX('#737373')(T(3)(tx)(S([1,2])([sx,sy])(TUBE([th,1,tw])(face))))  )\n",
    "        else:\n",
    "            f.append(HEX('#737373')(T(3)(tx+0.53)(S([1,2])([sx,sy])(TUBE([th,1,tw])(face)))) )\n",
    "    return STRUCT(f)"
   ]
  },
  {
   "cell_type": "code",
   "execution_count": 19,
   "metadata": {
    "collapsed": true
   },
   "outputs": [],
   "source": [
    "def Stairs(tx,sy,sz,cw,face):\n",
    "    \n",
    "    '''\n",
    "    Method to create stairs to church.\n",
    "    *Arguments:\n",
    "    - tx: elevation to cylinder shape in axis x.\n",
    "    - sy: width span to cylinder shape in axis y.\n",
    "    - sz: depth span to cylinder shape in axis z.\n",
    "    - cw: width cylinder cylinder shape.\n",
    "    - face: number of faces cylinder shape.\n",
    "\n",
    "    - st: vector to add cylinder shapes.\n",
    "    - make a loop to create six cylinder shapes.\n",
    "\n",
    "    return STRUCT(st)\n",
    "    \n",
    "    '''\n",
    "    st = []\n",
    "    \n",
    "    for k in range(0,6):\n",
    "        if k==0:\n",
    "            st.append(HEX('#af9d83')(T(3)(tx)(S([1, 2])([sy,sz])\n",
    "                                              (CYLINDER([1,cw])(face))) ))\n",
    "        elif k==1:\n",
    "            st.append(HEX('#a6a6a6')(T(3)(tx+0.010)(S([1, 2])([sy-0.20,sz-0.20])\n",
    "                                              (CYLINDER([1,cw+0.010])(face))) ))\n",
    "        elif k==2:\n",
    "            st.append(HEX('#a6a6a6')(T(3)(tx+0.020)(S([1, 2])([sy-0.22,sz-0.22])\n",
    "                                              (CYLINDER([1,cw+0.010])(face))) ))\n",
    "        elif k==3:\n",
    "            st.append(HEX('#a6a6a6')(T(3)(tx+0.022)(S([1, 2])([sy-0.25,sz-0.25])\n",
    "                                              (CYLINDER([1,cw+0.010])(face))) ))\n",
    "        elif k==4:\n",
    "            st.append(HEX('#a6a6a6')(T(3)(tx+0.025)(S([1, 2])([sy-0.28,sz-0.28])\n",
    "                                              (CYLINDER([1,cw+0.010])(face))) ))\n",
    "        elif k==5:\n",
    "            st.append(HEX('#a6a6a6')(T(3)(tx+0.027)(S([1, 2])([sy-0.30,sz-0.30])\n",
    "                                              (CYLINDER([1,cw+0.015])(face))) ))\n",
    "    return STRUCT(st)"
   ]
  },
  {
   "cell_type": "code",
   "execution_count": 20,
   "metadata": {},
   "outputs": [
    {
     "data": {
      "text/plain": [
       "<pyplasm.xgepy.Hpc; proxy of <Swig Object of type 'std::shared_ptr< Hpc > *' at 0x107f5ba50> >"
      ]
     },
     "execution_count": 20,
     "metadata": {},
     "output_type": "execute_result"
    }
   ],
   "source": [
    "VIEW(Stairs(0.000,1.20,1.20,0.015,34))"
   ]
  },
  {
   "cell_type": "markdown",
   "metadata": {},
   "source": [
    "### Stairs"
   ]
  },
  {
   "cell_type": "markdown",
   "metadata": {},
   "source": [
    "![sin titulo](stairs.png)"
   ]
  },
  {
   "cell_type": "code",
   "execution_count": 21,
   "metadata": {
    "collapsed": true
   },
   "outputs": [],
   "source": [
    "def Cantilever_1(tx,cw,ch,face):\n",
    "    \n",
    "    '''\n",
    "    Method to create cantilever to column.\n",
    "    *Arguments:\n",
    "    - sx: high span to cylinder shape in axis x.\n",
    "    - sy: axis span to cylinder shape in axis y.\n",
    "    - sz: axis span to cylinder shape in axis z.\n",
    "    - cw: cylinder width.\n",
    "    - ch: cylinder high.\n",
    "    - face: cylinder number face .\n",
    "    - cylinder: vector.\n",
    "    \n",
    "    return STRUCT(cylinder)\n",
    "    '''\n",
    "    cylinder = []\n",
    "    \n",
    "    for k in range(0,3):\n",
    "        if k==0:\n",
    "            cylinder.append(HEX('#737373')(T(3)(tx)(CYLINDER([cw,ch])(face))) )\n",
    "        elif k==1:\n",
    "            cylinder.append(HEX('#737373')(T(3)((tx+0.08))(CYLINDER([(cw+0.07),ch])(face))) )\n",
    "\n",
    "        elif k==2:\n",
    "            cylinder.append(HEX('#737373')(T(3)((tx+0.16))(CYLINDER([(cw+0.1),ch])(face))) )\n",
    "\n",
    "\n",
    "    return STRUCT(cylinder)"
   ]
  },
  {
   "cell_type": "code",
   "execution_count": 22,
   "metadata": {},
   "outputs": [
    {
     "data": {
      "text/plain": [
       "<pyplasm.xgepy.Hpc; proxy of <Swig Object of type 'std::shared_ptr< Hpc > *' at 0x107f4a540> >"
      ]
     },
     "execution_count": 22,
     "metadata": {},
     "output_type": "execute_result"
    }
   ],
   "source": [
    "VIEW(Cantilever_1(0.90,0.90,0.075,24))"
   ]
  },
  {
   "cell_type": "markdown",
   "metadata": {},
   "source": [
    "### CANTILEVER"
   ]
  },
  {
   "cell_type": "markdown",
   "metadata": {},
   "source": [
    "![Sin titulo](cantilever.png)"
   ]
  },
  {
   "cell_type": "code",
   "execution_count": 23,
   "metadata": {
    "collapsed": true
   },
   "outputs": [],
   "source": [
    "def FirstFloor(tx,sz,sy,th,tw,face):\n",
    "    \n",
    "    '''\n",
    "    Method to create the first floor to the church.\n",
    "    *arguments:\n",
    "    - tx: high to axis x.\n",
    "    - sz: depth span to axis z.\n",
    "    - sy: width span to axis y.\n",
    "    - th: high to shape.\n",
    "    - tw: width to shape.\n",
    "    - face: number face to shape.\n",
    "    - floor: vector to shape.\n",
    "    *create stairs.\n",
    "    *frame windows.\n",
    "    *windows and cantilever.\n",
    "    \n",
    "    return(floor)\n",
    "    '''\n",
    "    \n",
    "    floor = []\n",
    "    #STAIRS\n",
    "    floor.append(Stairs(0.000,1.20,1.20,0.015,34))\n",
    "\n",
    "    #FLOOR\n",
    "    floor.append(HEX('#ffffff')(T(3)(tx)(S([1,2])([sz,sy])(TUBE([th,1,tw])(face))) ) )\n",
    "\n",
    "    #FRAME WINDOWS \n",
    "    floor.append(frame(0.17,-0.85,-0.85,0.62,0.025,22))\n",
    "\n",
    "    #WINDOWS\n",
    "    floor.append(HEX('#cce6ff')(T(3)((tx+0.17))(S([1,2])([sz,sy])\n",
    "                                   (TUBE([(th+0.02),1,(tw-0.4)])(face))) ))\n",
    "\n",
    "\n",
    "    #CANTILEVER\n",
    "    floor.append(Cantilever_1(0.90,0.90,0.075,24))\n",
    "\n",
    "    return STRUCT (floor)\n",
    " "
   ]
  },
  {
   "cell_type": "code",
   "execution_count": 24,
   "metadata": {
    "collapsed": true
   },
   "outputs": [],
   "source": [
    "def SecondFloor(tx,sz,sy,th,tw,face):\n",
    "        '''\n",
    "        Method to create second floor to the church.\n",
    "        *arguments:\n",
    "        - tx: high to axis x.\n",
    "        - sz: depth span to axis z.\n",
    "        - sy: width span to axis y.\n",
    "        - th: high to shape.\n",
    "        - tw: width to shape.\n",
    "        - face: number face to shape.\n",
    "        - floor: vector to shape.\n",
    "        *windows \n",
    "        \n",
    "        return STRUCT(floor)\n",
    "        '''\n",
    "        floor = []\n",
    "        \n",
    "        #FLOOR      \n",
    "        floor.append(HEX('#ffffff')(T(3)(tx)(S([1, 2])([sz,sy])\n",
    "                                              (TUBE([th,1,tw])(face))) ))\n",
    "        \n",
    "        #WINDOWS     \n",
    "        floor.append(HEX('#cce6ff')(T(3)(tx+0.4)(S([1, 2])([ (sz+0.02),(sy+0.02)])\n",
    "                                 (R([1,2])(PI/face)(TUBE([th,1,(tw-0.45)])(face))) )))\n",
    "        \n",
    "        return STRUCT(floor)"
   ]
  },
  {
   "cell_type": "code",
   "execution_count": 25,
   "metadata": {
    "collapsed": true
   },
   "outputs": [],
   "source": [
    "def Cantilever_2(sx,sy,sz,cw,ch,face):\n",
    "    \n",
    "    '''\n",
    "        Method to create cantilever to column.\n",
    "        *Arguments:\n",
    "        - sx high span to cylinder shape in axis x.\n",
    "        - sy width span to cylinder shape in axis y.\n",
    "        - sz depth span to cylinder shape in axis z.\n",
    "        - cw cylinder width.\n",
    "        - ch cylinder high.\n",
    "        - face cylinder number face. \n",
    "        - cylinder vector.\n",
    "        - plus constant to increment.\n",
    "        \n",
    "        return STRUCT(cylinder)\n",
    "        \n",
    "    '''\n",
    "    \n",
    "    cylinder = []\n",
    "    plus = 0.02\n",
    "    \n",
    "    for k in range(0,3):\n",
    "        \n",
    "        if k == 0:\n",
    "            cylinder.append(HEX('#737373')(T([3,2,1])([sx,sy,sz])(CYLINDER([cw,ch])(face))))\n",
    "            \n",
    "        elif k==1:\n",
    "            cylinder.append(HEX('#737373')(T([3,2,1])([(sx+plus),sy,sz])(CYLINDER([(cw+plus),ch])(face))))\n",
    "            \n",
    "        elif k==2:\n",
    "            cylinder.append(HEX('#737373')(T([3,2,1])([(sx+(2*plus)),sy,sz])\n",
    "                                           (CYLINDER([(cw+(2*plus)),ch])(face))))\n",
    "            \n",
    "    return STRUCT(cylinder)\n",
    "    "
   ]
  },
  {
   "cell_type": "code",
   "execution_count": 26,
   "metadata": {
    "collapsed": true
   },
   "outputs": [],
   "source": [
    "def Column(sx,sy,sz,ht,face):\n",
    "    '''\n",
    "        Method to create column\n",
    "        - sx: high span axis x\n",
    "        - sy: width span axis y\n",
    "        - sz: depth span axis z\n",
    "        - ht: high tube\n",
    "        - face: number to face shape\n",
    "        \n",
    "        -thick: thickness constant\n",
    "        -shape: vector shapes\n",
    "        \n",
    "    '''\n",
    "    thick = 0.25\n",
    "    shape = []\n",
    "    \n",
    "    shape.append( HEX('#ffffff')(T([3,2,1])([sx,sy,sz])(S([1, 2])\n",
    "                                        ([thick,thick])(TUBE([ht,1, thick])(face))) ) )\n",
    "    #CANTILEVER\n",
    "    shape.append(Cantilever_2( (sx+thick),sy,sz,thick,thick/10,face))\n",
    "        \n",
    "    #DOME\n",
    "    shape.append(HEX('#b3b3b3')(T([3,2,1])([(sx+0.3),sy,sz])\n",
    "                                (JOIN(Hemisphere(thick)([12,4])) )))\n",
    "         \n",
    "    #TIP\n",
    "    shape.append(HEX('#fff402')(T([3,2,1])([(sx+0.53),sy,sz])\n",
    "                                (JOIN(Hemisphere((0.25/5))([2,4])))))\n",
    "        \n",
    "    #WINDOWS \n",
    "        \n",
    "    shape.append(HEX('#cce6ff')(T([3,2,1])([(sx+0.07),sy,sz])(S([1,2])([thick,thick])\n",
    "                                    (R([1,2])(PI/face)(TUBE([(ht-0.18),1,\n",
    "                                                             (thick-0.10)])(face))))) )\n",
    "    return STRUCT(shape)"
   ]
  },
  {
   "cell_type": "code",
   "execution_count": 27,
   "metadata": {},
   "outputs": [
    {
     "name": "stdout",
     "output_type": "stream",
     "text": [
      "Child 3\n"
     ]
    },
    {
     "data": {
      "text/plain": [
       "<pyplasm.xgepy.Hpc; proxy of <Swig Object of type 'std::shared_ptr< Hpc > *' at 0x107704960> >"
      ]
     },
     "execution_count": 27,
     "metadata": {},
     "output_type": "execute_result"
    }
   ],
   "source": [
    "VIEW(HEX('#fff402')(T([3,2,1])([0,0,0])\n",
    "                                (JOIN(Hemisphere((0.25/5))([2,4]))))) #TIP"
   ]
  },
  {
   "cell_type": "markdown",
   "metadata": {},
   "source": [
    "### TIP"
   ]
  },
  {
   "cell_type": "markdown",
   "metadata": {},
   "source": [
    "![sin titulo](tip.png)"
   ]
  },
  {
   "cell_type": "code",
   "execution_count": 28,
   "metadata": {},
   "outputs": [
    {
     "name": "stdout",
     "output_type": "stream",
     "text": [
      "Child 3\n",
      "Child 3\n"
     ]
    },
    {
     "data": {
      "text/plain": [
       "<pyplasm.xgepy.Hpc; proxy of <Swig Object of type 'std::shared_ptr< Hpc > *' at 0x1077048a0> >"
      ]
     },
     "execution_count": 28,
     "metadata": {},
     "output_type": "execute_result"
    }
   ],
   "source": [
    "VIEW(Column(0,0,0,0.8,8) )"
   ]
  },
  {
   "cell_type": "markdown",
   "metadata": {},
   "source": [
    "### COLUMN"
   ]
  },
  {
   "cell_type": "markdown",
   "metadata": {},
   "source": [
    "![Sin titulo](column.png)"
   ]
  },
  {
   "cell_type": "code",
   "execution_count": 29,
   "metadata": {
    "collapsed": true
   },
   "outputs": [],
   "source": [
    "def Cantilever_3(sx,sy,sz,cw,ch,face):\n",
    "    \n",
    "    '''\n",
    "    Method to create cantilever.\n",
    "    *Arguments:\n",
    "    - sx: high span axis x\n",
    "    - sy: width span axis y\n",
    "    - sz: depth span axis z\n",
    "    - cw: cylinder width\n",
    "    - ch: cylinder high\n",
    "    - face: cylinder number face \n",
    "    - cylinder: vector\n",
    "    - plus constant to increment\n",
    "    '''\n",
    "    cylinder = []\n",
    "    plus = 0.02\n",
    "    \n",
    "    for k in range(0,6):\n",
    "        \n",
    "        if k == 0:\n",
    "            cylinder.append(HEX('#737373')(T([3,2,1])([sx,sy,sz])\n",
    "                                           (CYLINDER([cw,ch])(face))))\n",
    "            \n",
    "        elif k==1:\n",
    "            cylinder.append(HEX('#737373')(T([3,2,1])([(sx+0.02),sy,sz])\n",
    "                                           (CYLINDER([(cw+0.1),ch])(face))))\n",
    "            \n",
    "        elif k==2:\n",
    "            cylinder.append(HEX('#737373')(T([3,2,1])([(sx+(0.02*2)),sy,sz])\n",
    "                                           (CYLINDER([(cw+0.12),ch])(face))))\n",
    "        elif k==3: #CENTRAL\n",
    "            cylinder.append(HEX('#737373')(T([3,2,1])([(sx+0.55),sy,sz])\n",
    "                            (S([1,2])([1,1])(CYLINDER([(cw-0.42),ch+0.175])(face*3)))))\n",
    "        elif k==4: #DOWN\n",
    "            cylinder.append(HEX('#737373')(T([3,2,1])([(sx+0.54),sy,sz])\n",
    "                            (S([1,2])([1,1])(CYLINDER([(cw-0.40),ch+0.015])(face*3)))))\n",
    "        elif k==5: #UP\n",
    "            cylinder.append(HEX('#737373')(T([3,2,1])([(sx+0.75),sy,sz])\n",
    "                            (S([1,2])([1,1])(CYLINDER([(cw-0.40),ch+0.015])(face*3)))))\n",
    "            \n",
    "    return STRUCT(cylinder)"
   ]
  },
  {
   "cell_type": "code",
   "execution_count": 30,
   "metadata": {
    "collapsed": true
   },
   "outputs": [],
   "source": [
    "def Dome(sx,sy,sz,cw,face):\n",
    "    \n",
    "    '''\n",
    "    Method to create dome.\n",
    "    *Arguments:\n",
    "    - sx axis x\n",
    "    - sy axis y\n",
    "    - sz axis z\n",
    "    - cw cylinder width\n",
    "    - ch cylinder high\n",
    "    - face cylinder number face \n",
    "    - cylinder vector\n",
    "    - thick constant to increment\n",
    "    '''\n",
    "    \n",
    "    thick = 0.025\n",
    "    shape = []\n",
    "    \n",
    "    #CANTILEVER\n",
    "    shape.append(Cantilever_3(sx,sy,sz,cw,thick,face))\n",
    "        \n",
    "    #DOME\n",
    "    shape.append(HEX('#b3b3b3')((T(3)(sx))(JOIN(Hemisphere( (cw+0.05) )([(face+4),4]))) ))\n",
    "    \n",
    "    return STRUCT(shape)\n",
    "  "
   ]
  },
  {
   "cell_type": "code",
   "execution_count": 31,
   "metadata": {},
   "outputs": [
    {
     "name": "stdout",
     "output_type": "stream",
     "text": [
      "Child 3\n"
     ]
    },
    {
     "data": {
      "text/plain": [
       "<pyplasm.xgepy.Hpc; proxy of <Swig Object of type 'std::shared_ptr< Hpc > *' at 0x11176a1b0> >"
      ]
     },
     "execution_count": 31,
     "metadata": {},
     "output_type": "execute_result"
    }
   ],
   "source": [
    "VIEW( HEX('#b3b3b3')(((T(3)(0.7))(JOIN(Hemisphere(0.55)([12,4]))) ) ))"
   ]
  },
  {
   "cell_type": "markdown",
   "metadata": {},
   "source": [
    "### DOME"
   ]
  },
  {
   "cell_type": "markdown",
   "metadata": {},
   "source": [
    "![Sin titulo](dome.png)"
   ]
  },
  {
   "cell_type": "code",
   "execution_count": 32,
   "metadata": {
    "collapsed": true
   },
   "outputs": [],
   "source": [
    "def Cross(sx,sz,cux,cuy,cuz):\n",
    "    \n",
    "    '''\n",
    "    Method to create cross:\n",
    "    *Arguments:\n",
    "    - sx: high span axis x\n",
    "    - sz: width span axis y\n",
    "    - cux:high axis x to CUBOID\n",
    "    - cuy:width axis y to CUBOID\n",
    "    - cuz: depth axis z to CUBOID\n",
    "    \n",
    "    *variable:\n",
    "    - shape: vector to shapes\n",
    "    \n",
    "    return STRUCT(shape)\n",
    "    ''' \n",
    "    shape = []\n",
    "    shape.append(COLOR(BLACK)(T(3)(sx)(S([1, 2])([1.0,1.0])(CUBOID([cux,cuy,cuz]))) )  )\n",
    "    shape.append(COLOR(BLACK)(T([3,1])([(sx+0.33),sz])(S([1, 2])([-1.7,1.10])\n",
    "                                              (CUBOID([(-cux-0.08),cuy,(cuz-0.38)])))))\n",
    "    return STRUCT(shape) \n",
    "    "
   ]
  },
  {
   "cell_type": "code",
   "execution_count": 33,
   "metadata": {},
   "outputs": [
    {
     "data": {
      "text/plain": [
       "<pyplasm.xgepy.Hpc; proxy of <Swig Object of type 'std::shared_ptr< Hpc > *' at 0x11176a600> >"
      ]
     },
     "execution_count": 33,
     "metadata": {},
     "output_type": "execute_result"
    }
   ],
   "source": [
    "VIEW( Cross(0.6,-0.075,0.02,0.02,0.4) )"
   ]
  },
  {
   "cell_type": "markdown",
   "metadata": {},
   "source": [
    "### CROSS"
   ]
  },
  {
   "cell_type": "markdown",
   "metadata": {},
   "source": [
    "![Sin titulo](cross.png)"
   ]
  },
  {
   "cell_type": "code",
   "execution_count": 34,
   "metadata": {
    "collapsed": true
   },
   "outputs": [],
   "source": [
    "def church():\n",
    "    '''\n",
    "    Create building church,\n",
    "    Grass, FirstFloor, SecondFloor\n",
    "    Column1, Column2, Column3, Column3,\n",
    "    Column4, Column5, Column6, Column7,\n",
    "    Column8\n",
    "    building: vector\n",
    "    \n",
    "    '''\n",
    "    building = []\n",
    "    building.append(Grass(5,5,0.1))                          # GRASS\n",
    "    building.append(FirstFloor(0.03,-0.85,-0.85,0.6,0.9,14)) # FIRST FLOOR\n",
    "    building.append(SecondFloor(1.10,0.45,0.45,0.9,0.55,8))  # SECOND FLOOR\n",
    "    building.append(Column(1.10,0.7,0,0.8,8))                # COLUMN 1\n",
    "    building.append(Column(1.10,-0.7,0,0.8,8))               # COLUMN 2\n",
    "    building.append(Column(1.10,-0.5,-0.5,0.8,8))            # COLUMN 3\n",
    "    building.append(Column(1.10,0.5,-0.5,0.8,8))             # COLUMN 4\n",
    "    building.append(Column(1.10,0,-0.75,0.8,8))              # COLUMN 5\n",
    "    building.append(Column(1.10,0.025,0.7,0.8,8))            # COLUMN 6\n",
    "    building.append(Column(1.10,0.5,0.5,0.8,8))              # COLUMN 7\n",
    "    building.append(Column(1.10,-0.5,0.5,0.8,8))             # COLUMN 8\n",
    "    building.append(Dome(1.65,0,0,0.5,8))                    # CENTRAL DOME\n",
    "    building.append(Cross(2.36,-0.075,0.02,0.02,0.4))        # CROSS\n",
    "    return STRUCT(building)\n",
    "               "
   ]
  },
  {
   "cell_type": "code",
   "execution_count": 35,
   "metadata": {
    "scrolled": true
   },
   "outputs": [
    {
     "name": "stdout",
     "output_type": "stream",
     "text": [
      "Child 3\n",
      "Child 3\n",
      "Child 3\n",
      "Child 3\n",
      "Child 3\n",
      "Child 3\n",
      "Child 3\n",
      "Child 3\n",
      "Child 3\n",
      "Child 3\n",
      "Child 3\n",
      "Child 3\n",
      "Child 3\n",
      "Child 3\n",
      "Child 3\n",
      "Child 3\n",
      "Child 3\n"
     ]
    },
    {
     "data": {
      "text/plain": [
       "<pyplasm.xgepy.Hpc; proxy of <Swig Object of type 'std::shared_ptr< Hpc > *' at 0x1117646c0> >"
      ]
     },
     "execution_count": 35,
     "metadata": {},
     "output_type": "execute_result"
    }
   ],
   "source": [
    "VIEW(church())"
   ]
  },
  {
   "cell_type": "markdown",
   "metadata": {},
   "source": [
    "### CHURCH"
   ]
  },
  {
   "cell_type": "markdown",
   "metadata": {
    "collapsed": true
   },
   "source": [
    "![Sin titulo](church.png)"
   ]
  },
  {
   "cell_type": "markdown",
   "metadata": {},
   "source": [
    "# CHURCH 2"
   ]
  },
  {
   "cell_type": "code",
   "execution_count": 3,
   "metadata": {},
   "outputs": [
    {
     "name": "stdout",
     "output_type": "stream",
     "text": [
      "Evaluating fenvs.py..\n",
      "...fenvs.py imported in 0.006867 seconds\n"
     ]
    }
   ],
   "source": [
    "from pyplasm import *"
   ]
  },
  {
   "cell_type": "code",
   "execution_count": 4,
   "metadata": {
    "collapsed": true
   },
   "outputs": [],
   "source": [
    "def Central(tux,tuy,tuz,face):\n",
    "    ''' TEXT\n",
    "    '''\n",
    "    cen = []\n",
    "    \n",
    "    cen.append(HEX('#ffffff')(T(3)(0)(S([1, 2])([1,1])(TUBE([tux,tuy,tuz])(face))) )) \n",
    "    return STRUCT(cen)"
   ]
  },
  {
   "cell_type": "code",
   "execution_count": 5,
   "metadata": {
    "collapsed": true
   },
   "outputs": [],
   "source": [
    "def Windows(tz,ty,tx,cx,cy,face):\n",
    "    '''\n",
    "    tz --> 3\n",
    "    ty --> 2\n",
    "    tx --> 1\n",
    "    '''\n",
    "    win = []\n",
    "    win.append(HEX('#aae6ff')(T([3,2,1])([tz,ty,tx])(S([1, 2])([1,1.05])(R([1,2])(PI/face)\n",
    "                                                        (CYLINDER([cx,cy])(face))) )))\n",
    "    return STRUCT(win)"
   ]
  },
  {
   "cell_type": "code",
   "execution_count": 6,
   "metadata": {
    "collapsed": true
   },
   "outputs": [],
   "source": [
    "def Wall(tux,tuy,tuz,face):\n",
    "    '''\n",
    "    TEX\n",
    "    '''\n",
    "    w = []\n",
    "    w.append(HEX('#ffffff')(T(3)(0)(S([1, 2])([1,1])(R([1,2])\n",
    "                                            (PI/(face*2))(TUBE([tux,tuy,tuz])(face))) )))\n",
    "    return STRUCT(w)"
   ]
  },
  {
   "cell_type": "code",
   "execution_count": 7,
   "metadata": {
    "collapsed": true
   },
   "outputs": [],
   "source": [
    "def Ceiling(cx,cy,face):\n",
    "    '''\n",
    "    TEX\n",
    "    '''\n",
    "    cei = []\n",
    "    \n",
    "    cei.append(HEX('#ffffff')(T([3,2,1])([2,0,0])(S([1, 2])([1.1,1.1])(R([1,2])(PI/8)\n",
    "                                                        (CYLINDER([2.5,0.1])(4))) )))\n",
    "    return STRUCT(cei)"
   ]
  },
  {
   "cell_type": "code",
   "execution_count": 8,
   "metadata": {
    "collapsed": true
   },
   "outputs": [],
   "source": [
    "def CupulaCentral(tx,hem,hx,hy):\n",
    "    '''\n",
    "    TEXT\n",
    "    '''\n",
    "    cup = []\n",
    "    cup.append(HEX('#b3b3b3')(((T(3)(tx))(JOIN(Hemisphere(hem)([hx,hy]))) ) ))\n",
    "    return STRUCT(cup)"
   ]
  },
  {
   "cell_type": "code",
   "execution_count": 9,
   "metadata": {
    "collapsed": true
   },
   "outputs": [],
   "source": [
    "def Top(tz,ty,tx,cyx,cyy,face):\n",
    "    \n",
    "    vec = []\n",
    "   \n",
    "    for k in range(0,6):\n",
    "        if k == 0:   # base 1\n",
    "            vec.append(HEX('#e6e6e6')(T([3,2,1])([tz,ty,tx])(S([1, 2])([1,1])\n",
    "                                                       (CYLINDER([cyx,cyy])(face))) ))\n",
    "        elif k == 1: # base 2\n",
    "            vec.append(HEX('#e6e6e6')(T([3,2,1])([(tz+0.025),ty,tx])\n",
    "                              (S([1, 2])([1,1])(CYLINDER([cyx,(cyy+0.4)])(face/2))) ))\n",
    "        elif k == 2: #window\n",
    "            vec.append(HEX('#aae6ff')(T([3,2,1])([(tz+0.2),ty,tx])\n",
    "            (S([1, 2])([1,1])(R([1,2])(PI/(face/2))(CYLINDER([cyx,(cyy+0.1)])((face/2))) ))))\n",
    "            \n",
    "        elif k == 3: # top 1\n",
    "            vec.append(HEX('#e6e6e6')(T([3,2,1])([(tz+0.50),ty,tx])\n",
    "                                (S([1, 2])([1,1])(CYLINDER([cyx,cyy])(face/2))) ))\n",
    "        elif k == 4: # top 2\n",
    "            vec.append(HEX('#e6e6e6')(T([3,2,1])([(tz+0.60),ty,tx])\n",
    "                                (S([1, 2])([1,1])(CYLINDER([(cyx+0.05),cyy])(face/2))) ))\n",
    "        elif k == 5: # top 3\n",
    "            vec.append(HEX('#e6e6e6')(T([3,2,1])([(tz+0.70),ty,tx])\n",
    "                            (S([1, 2])([1,1])(CYLINDER([(cyx+0.10),cyy])(face/2))) ))\n",
    "    return STRUCT(vec)"
   ]
  },
  {
   "cell_type": "code",
   "execution_count": 10,
   "metadata": {
    "collapsed": true
   },
   "outputs": [],
   "source": [
    "def Peak(tx,sz,hem,hx,hy):\n",
    "    p = []\n",
    "    p.append(HEX('#b3b3b3')(((T(3)(tx))(S(3)(sz)(JOIN(Hemisphere(hem)([hx,hy]))) ) )))\n",
    "    \n",
    "    return STRUCT(p) "
   ]
  },
  {
   "cell_type": "code",
   "execution_count": 11,
   "metadata": {
    "collapsed": true
   },
   "outputs": [],
   "source": [
    "def RingDome(tz,ty,tx,cyx,cyy,face):\n",
    "    ring = []\n",
    "    ring.append(HEX('#808080')(T([3,2,1])([tz,ty,tx])\n",
    "                    (S([1, 2])([1,1])(CYLINDER([cyx,cyy])(face))) ))\n",
    "    return STRUCT(ring)\n"
   ]
  },
  {
   "cell_type": "code",
   "execution_count": 12,
   "metadata": {
    "collapsed": true
   },
   "outputs": [],
   "source": [
    "def Column(tz,ty,tx,cyx,cyy,face):\n",
    "    co = []\n",
    "    for k in range(0,4):\n",
    "        \n",
    "        if  k == 0: # column\n",
    "            co.append(HEX('#808080')(T([3,2,1])([tz,ty,tx])\n",
    "                            (S([1, 2])([1,1])(CYLINDER([cyx,cyy])(face))) ))\n",
    "            \n",
    "        elif k == 1: # window\n",
    "            co.append(HEX('#e6e6e6')(T([3,2,1])([(tz+0.5),ty,tx])\n",
    "                               (S([1, 2])([1,1])(TUBE([cyx,cyx,(cyy-0.05)])(face))) )  )\n",
    "        elif k == 2: # dome ring \n",
    "            co.append(HEX('#808080')(T([3,2,1])([(tz+2.4),ty,tx])\n",
    "                        (S([1, 2])([1,1])(CYLINDER([(cyx+0.05),(cyy-1.9)])(face*4))) ))\n",
    "        \n",
    "        elif k == 3: # dome\n",
    "            co.append(HEX('#b3b3b3')(((T([3,2,1])([(tz+2.5),ty,tx]))\n",
    "                                 (JOIN(Hemisphere(cyx)([(face*2),(face/2)]))) ) ))\n",
    "    return STRUCT(co)"
   ]
  },
  {
   "cell_type": "code",
   "execution_count": 13,
   "metadata": {
    "collapsed": true
   },
   "outputs": [],
   "source": [
    "def Column_ex(tz,ty,tx,cyx,cyy,face):\n",
    "    co = []\n",
    "    \n",
    "    for k in range(0,5):\n",
    "        if k == 0:\n",
    "            co.append(HEX('#ffffff')(T([3,2,1])([tz,ty,tx])\n",
    "                (S([1, 2])([1,1])(R([1,2])(PI/(face*2))\n",
    "                                  (CYLINDER([cyx,cyy])(face))) )))\n",
    "        elif k == 1:\n",
    "            co.append(HEX('#e6e6e6')(T([3,2,1])([tz+1.6,ty,tx])\n",
    "                (S([1, 2])([1,1])(R([1,2])(PI/(face*2))\n",
    "                                  (CYLINDER([cyx-0.3,cyy-1.5])(face))) )))\n",
    "            \n",
    "        elif k == 2:\n",
    "            co.append(HEX('#e6e6e6')(T([3,2,1])([tz+1.7,ty,tx])\n",
    "                (S([1, 2])([1,1])(R([1,2])(PI/face*2)\n",
    "                                  (CYLINDER([cyx-0.5,cyy-1.3])(face*2))) )))\n",
    "            \n",
    "        elif k == 3:\n",
    "            co.append(HEX('#808080')(T([3,2,1])([tz+2,ty,tx])\n",
    "              (S([1, 2])([1,1])(R([1,2])(PI/(face*2))\n",
    "                                (CYLINDER([cyx-0.45,cyy-1.5])(face*2))) )))\n",
    "        \n",
    "        elif k == 4:\n",
    "            co.append(HEX('#b3b3b3')(((T([3,2,1])([tz+2.1,ty,tx]))(S(3)(1.3)\n",
    "                                 (JOIN(Hemisphere(0.4)([face*face,face*2]))) ) )))\n",
    "    return STRUCT(co)"
   ]
  },
  {
   "cell_type": "code",
   "execution_count": 84,
   "metadata": {
    "collapsed": true
   },
   "outputs": [],
   "source": [
    "def windows_wall_1(tz,ty,tx,cx,cy,face):\n",
    "    win = []\n",
    "    \n",
    "    for k in range (0,4):\n",
    "        if k == 0: # derecha 1\n",
    "            win.append(HEX('#aae6ff')(T([3,2,1])([tz,ty,tx])\n",
    "                                     (R([1,2])(PI/(face*2))(CYLINDER([cx,cy])(face))) ))\n",
    "        elif k == 1: # derecha 2\n",
    "            win.append(HEX('#aae6ff')(T([3,2,1])([tz,(ty-0.5),(tx-0.25)])\n",
    "                            (R([1,2])(PI/(face*2))(CYLINDER([cx,cy])(face))) ))\n",
    "        elif k == 2:# izquierda 2\n",
    "            win.append(HEX('#aae6ff')(T([3,2,1])([tz,(ty-2.1),(tx-0.85)])\n",
    "                            (R([1,2])(PI/(face*2))(CYLINDER([cx,cy])(face))) ))\n",
    "        elif k == 3:# izquierda 1\n",
    "            win.append(HEX('#aae6ff')(T([3,2,1])([tz,(ty-2.7),(tx-1.16)])\n",
    "                            (R([1,2])(PI/(face*2))(CYLINDER([cx,cy])(face))) ))\n",
    "    return STRUCT(win)"
   ]
  },
  {
   "cell_type": "code",
   "execution_count": 137,
   "metadata": {
    "collapsed": true
   },
   "outputs": [],
   "source": [
    "def windows_wall_2(tz,ty,tx,cx,cy,face):\n",
    "    win = []\n",
    "    \n",
    "    for k in range (0,4):\n",
    "        if k == 0: # derecha 1\n",
    "            win.append(HEX('#aae6ff')(T([3,2,1])([tz,ty,tx])\n",
    "                                     (R([1,2])(PI/(face*2))(CYLINDER([cx,cy])(face))) ))\n",
    "        elif k == 1: # derecha 2\n",
    "            \n",
    "            win.append(HEX('#aae6ff')(T([3,2,1])([tz,(ty+0.2),(tx-0.55)])\n",
    "                            (R([1,2])(PI/(face*2))(CYLINDER([cx,cy])(face))) ))\n",
    "            \n",
    "            \n",
    "        elif k == 2:# izquierda 2\n",
    "            \n",
    "            win.append(HEX('#aae6ff')(T([3,2,1])([tz,(ty+0.8),(tx-2.05)])\n",
    "                            (R([1,2])(PI/(face*2))(CYLINDER([cx,cy])(face))) ))\n",
    "            \n",
    "        elif k == 3:# izquierda 1\n",
    "            win.append(HEX('#aae6ff')(T([3,2,1])([tz,(ty+1),(tx-2.65)])\n",
    "                            (R([1,2])(PI/(face*2))(CYLINDER([cx,cy])(face))) ))\n",
    "           \n",
    "    return STRUCT(win)"
   ]
  },
  {
   "cell_type": "code",
   "execution_count": 189,
   "metadata": {},
   "outputs": [],
   "source": [
    "def SetColumns_1(tz,ty,tx,cx,cy,face):\n",
    "    col = []\n",
    "    \n",
    "    for k in range (0,3):\n",
    "        if k == 0:\n",
    "            #afuera izquierda\n",
    "            col.append(HEX('#e6e6e6')(((T([3,2,1])([tz,ty,tx])\n",
    "                                (S([1, 2])([1,1])(CYLINDER([cx,cy])(face))) ))))\n",
    "            #afuera izquierda anillo\n",
    "            col.append(HEX('#808080')(T([3,2,1])([(tz+0.7),ty,tx])\n",
    "                                (S([1, 2])([1,1])(CYLINDER([(cx+0.05),(cy-0.7)])(face*2))) ))\n",
    "            #afuera izquierda cupula\n",
    "            col.append(HEX('#b3b3b3')(((T([3,2,1])([(tz+0.8),ty,tx]))\n",
    "                                 (JOIN(Hemisphere(cx)([face,face]))) ) ))\n",
    "        elif k == 1:\n",
    "            #afuera centro\n",
    "            col.append(HEX('#e6e6e6')(T([3,2,1])([tz,(ty-0.5),(tx-0.8)])#0,1,-2.3\n",
    "                                (S([1, 2])([1,1])(CYLINDER([cx,cy])(face))) ))\n",
    "            #afuera centro anillo\n",
    "            col.append(HEX('#808080')(T([3,2,1])([(tz+0.7),(ty-0.5),(tx-0.8)])\n",
    "                                (S([1, 2])([1,1])(CYLINDER([(cx+0.05),(cy-0.7)])(face*2))) ))\n",
    "            #afuera centro cupula\n",
    "            col.append(HEX('#b3b3b3')(((T([3,2,1])([(tz+0.8),(ty-0.5),(tx-0.8)]))\n",
    "                                 (JOIN(Hemisphere(cx)([face,face]))) ) ))\n",
    "        elif k == 2:\n",
    "            #afuera derecha\n",
    "            col.append(HEX('#e6e6e6')(T([3,2,1])([tz,(1.6-ty),(tx-0.5)])\n",
    "                                (S([1, 2])([1,1])(CYLINDER([cx,cy])(face))) ))\n",
    "            #afuera derecha anillo\n",
    "            col.append(HEX('#808080')(T([3,2,1])([(tz+0.7),(1.6-ty),(tx-0.5)])\n",
    "                                (S([1, 2])([1,1])(CYLINDER([(cx+0.05),(cy-0.7)])(face*2))) ))\n",
    "            #afuera derecha cupula\n",
    "            col.append(HEX('#b3b3b3')(((T([3,2,1])([(tz+0.8),(1.6-ty),(tx-0.5)]))\n",
    "                                 (JOIN(Hemisphere(cx)([face,face]))) ) ))\n",
    "            \n",
    "            \n",
    "    return STRUCT(col)"
   ]
  },
  {
   "cell_type": "code",
   "execution_count": 203,
   "metadata": {
    "collapsed": true
   },
   "outputs": [],
   "source": [
    "def SetColumns_2(tz,ty,tx,cx,cy,face):\n",
    "    col =[]\n",
    "                                \n",
    "    \n",
    "    for k in range (0,3):\n",
    "        \n",
    "        if k == 0:\n",
    "            #afuera izquierda\n",
    "            col.append(HEX('#e6e6e6')(T([3,2,1])([tz,ty,tx])\n",
    "                                      (S([1, 2])([1,1])(CYLINDER([cx,cy])(face))) ))\n",
    "            #afuera anillo izquierda\n",
    "            col.append(HEX('#808080')(T([3,2,1])([(tz+0.7),ty,tx])\n",
    "                                        (S([1, 2])([1,1])(CYLINDER([(cx+0.05),(cy-0.7)])(face*2))) ))\n",
    "            \n",
    "            #afuera izquierda cupula\n",
    "            col.append(HEX('#b3b3b3')(((T([3,2,1])([(tz+0.8),ty,tx]))\n",
    "                                         (JOIN(Hemisphere(cx)([face,face]))) ) ))\n",
    "        elif k == 1:\n",
    "            #afuera centro\n",
    "            col.append(HEX('#e6e6e6')(T([3,2,1])([0,(ty+0.5),(tx+0.8)])\n",
    "                                      (S([1, 2])([1,1])(CYLINDER([cx,cy])(face))) ))\n",
    "            #afuera centro anillo\n",
    "            col.append(HEX('#808080')(T([3,2,1])([(tz+0.7),(ty+0.5),(tx+0.8)])\n",
    "                            (S([1, 2])([1,1])(CYLINDER([(cx+0.05),(cy-0.7)])(face*2))) ))\n",
    "            #afuera centro cupula\n",
    "            col.append(HEX('#b3b3b3')(((T([3,2,1])([(tz+0.8),(ty+0.5),(tx+0.8)]))\n",
    "                                       (JOIN(Hemisphere(0.5)([face,face]))) ) ))\n",
    "        elif k == 2:\n",
    "            #afuera derecha \n",
    "            col.append(HEX('#e6e6e6')(T([3,2,1])([tz,(ty+1.4),(tx+0.5)])\n",
    "                                    (S([1, 2])([1,1])(CYLINDER([cx,cy])(face))) ))\n",
    "    \n",
    "            #afuera derecha anillo\n",
    "            col.append(HEX('#808080')(T([3,2,1])([(tz+0.7),(ty+1.4),(tx+0.5)])\n",
    "                            (S([1, 2])([1,1])(CYLINDER([(cx+0.05),(cy-0.7)])(face*2))) ))\n",
    "    \n",
    "            #afuera derecha cupula\n",
    "            col.append(HEX('#b3b3b3')(((T([3,2,1])([(tz+0.8),(ty+1.4),(tx+0.5)]))\n",
    "                    (JOIN(Hemisphere(cx)([face,face]))) ) ))\n",
    "            \n",
    "            \n",
    "            \n",
    "            \n",
    "    return STRUCT(col)"
   ]
  },
  {
   "cell_type": "code",
   "execution_count": 230,
   "metadata": {
    "collapsed": true
   },
   "outputs": [],
   "source": [
    "def SetColumns_3(tz,ty,tx,cx,cy,face):\n",
    "    col =[]\n",
    "    for k in range (0,3):\n",
    "        if k == 0:\n",
    "            #afuera izquierda\n",
    "            col.append(HEX('#e6e6e6')(T([3,2,1])([tz,ty,tx])\n",
    "                                      (S([1, 2])([1,1])(CYLINDER([cx,cy])(face))) ))\n",
    "            #afuera izquierda cupula\n",
    "            col.append(HEX('#b3b3b3')(((T([3,2,1])([(tz+0.8),ty,tx]))\n",
    "                                       (JOIN(Hemisphere(cx)([face,face]))) ) ))\n",
    "            \n",
    "            #afuera izquierda anillo\n",
    "            col.append(HEX('#808080')(T([3,2,1])([(tz+0.7),ty,tx])\n",
    "                            (S([1, 2])([1,1]) (CYLINDER([(cx+0.05),(cy-0.7)])(face*2))) ))\n",
    "        if k == 1:\n",
    "            #afuera centro\n",
    "            col.append(HEX('#e6e6e6')(T([3,2,1])([tz,(ty+0.7),(tx-0.30)])\n",
    "                                (S([1, 2])([1,1])(CYLINDER([cx,cy])(face))) ))\n",
    "            \n",
    "            #afuera centro anillo\n",
    "            col.append(HEX('#808080')(T([3,2,1])([(tz+0.7),(ty+0.7),(tx-0.30)])\n",
    "                            (S([1, 2])([1,1])(CYLINDER([(cx+0.05),(cy-0.7)])(face*2))) ))\n",
    "            #afuera centro cupula\n",
    "            col.append(HEX('#b3b3b3')(((T([3,2,1])([(tz+0.8),(ty+0.7),(tx-0.30)]))\n",
    "                                         (JOIN(Hemisphere(cx)([face,face]))) ) ))\n",
    "            \n",
    "        if k == 2:\n",
    "            #afuera derecha\n",
    "            col.append(HEX('#e6e6e6')(T([3,2,1])([tz,(ty+0.4),(tx-1)])\n",
    "                            (S([1, 2])([1,1])(CYLINDER([cx,cy])(face))) ))\n",
    "            \n",
    "            #afuera anillo derecha cupula\n",
    "            col.append(HEX('#808080')(T([3,2,1])([(tz+0.7),(ty+0.4),(tx-1)])\n",
    "                            (S([1, 2])([1,1])(CYLINDER([(cx+0.05),(cy-0.7)])(face*2))) ))\n",
    "            #afuera derecha cupula\n",
    "            col.append(HEX('#b3b3b3')(((T([3,2,1])([(tz+0.8),(ty+0.4),(tx-1)]))\n",
    "                          (JOIN(Hemisphere(cx)([face,face]))) ) ))\n",
    "    \n",
    "    \n",
    "    \n",
    "            \n",
    "    \n",
    "    return STRUCT(col)"
   ]
  },
  {
   "cell_type": "code",
   "execution_count": 239,
   "metadata": {
    "collapsed": true
   },
   "outputs": [],
   "source": [
    "def SetColumns_4(tz,ty,tx,cx,cy,face):\n",
    "    col = []\n",
    "       \n",
    "    for k in range (0,3):\n",
    "        if k == 0:\n",
    "            #afuera izquierda\n",
    "            col.append(HEX('#e6e6e6')(T([3,2,1])([0,-1.6,-1.2])\n",
    "                            (S([1, 2])([1,1]) (CYLINDER([0.5,0.8])(16))) ))\n",
    "            #anillo izquierda cupula\n",
    "            col.append(HEX('#808080')(T([3,2,1])([(tz+0.7),ty,tx])(S([1, 2])([1,1])\n",
    "                                                   (CYLINDER([0.55,0.1])(face*2))) ))\n",
    "\n",
    "            #afuera izquierda cupula\n",
    "            col.append(HEX('#b3b3b3')(((T([3,2,1])([(tz+0.8),ty,tx]))\n",
    "                                        (JOIN(Hemisphere(cx)([face,face]))) ) ))\n",
    "        elif k == 1:\n",
    "            #afuera centro\n",
    "            col.append(HEX('#e6e6e6')(T([3,2,1])([tz,(ty-0.7),(tx+0.3)])\n",
    "                            (S([1, 2])([1,1])(CYLINDER([cx,cy])(face))) ))\n",
    "            #anillo cupula\n",
    "            col.append(HEX('#808080')(T([3,2,1])([(tz+0.7),(ty-0.7),(tx+0.3)])\n",
    "                    (S([1, 2])([1,1])   (CYLINDER([(cx+0.05),(cy-0.7)])(face*2))) ))\n",
    "            #afuera centro cupula\n",
    "            col.append(HEX('#b3b3b3')(((T([3,2,1])([(tz+0.8),(ty-0.7),(tx+0.3)]))\n",
    "                                         (JOIN(Hemisphere(cx)([face,face]))) ) ))\n",
    "        elif k == 2:\n",
    "            #afuera derecha\n",
    "            col.append(HEX('#e6e6e6')(T([3,2,1])([tz,(ty-0.4),(tz+0.2)])\n",
    "                        (S([1, 2])([1,1])(CYLINDER([cx,cy])(face))) ))\n",
    "            #afuera anillo derecha cupula\n",
    "            col.append(HEX('#808080')(T([3,2,1])([(tz+0.7),(ty-0.4),(tz+0.2)])\n",
    "                        (S([1, 2])([1,1]) (CYLINDER([cx+0.05,(cy-0.7)])(face*2))) ))\n",
    "            #afuera derecha cupula\n",
    "            col.append(HEX('#b3b3b3')(((T([3,2,1])([(tz+0.8),(ty-0.4),(tz+0.2)]))\n",
    "                                            (JOIN(Hemisphere(0.5)([16,16]))) ) ))\n",
    "            \n",
    "   \n",
    "            \n",
    "            \n",
    "    return STRUCT(col)"
   ]
  },
  {
   "cell_type": "code",
   "execution_count": 240,
   "metadata": {},
   "outputs": [],
   "source": [
    "def Church_2():\n",
    "    shape = []\n",
    "    shape.append(Grass(8,8,-0.1))              # GRASS\n",
    "    shape.append(Central(1.1,1.2,3,8))         # CENTRAL SECTION \n",
    "    shape.append(Windows(2.5,0,0,1.2,0.4,8))   # CENTRAL WINDOWS\n",
    "    shape.append(Wall(2.3,2.5,2,4))            # WALL (externo) \n",
    "    shape.append(Ceiling(2.5,0.1,4))           # CEILING\n",
    "    shape.append(CupulaCentral(3.1,1.2,16,16)) # CENTRAL DOME\n",
    "    shape.append(Top(4.2,0,0,0.25,0.1,8))      # TOP\n",
    "    shape.append(Peak(5,3,0.2,2,2))            # PEAK\n",
    "    shape.append(RingDome(3,0,0,1.25,0.1,52))  # CENTRAL RING DOME\n",
    "    \n",
    "    # INTER COLUMNS     \n",
    "   \n",
    "    shape.append(Column(0,1.5,-0.62,0.55,2,8)) # INTER COLUMN 1\n",
    "    shape.append(Column(0,-1.5,0.62,0.55,2,8)) # INTER COLUMN 2\n",
    "    shape.append(Column(0,-0.62,-1.5,0.55,2,8))# INTER COLUMN 3\n",
    "    shape.append(Column(0,0.62,1.5,0.55,2,8) ) # INTER COLUMN 4\n",
    "    \n",
    "    ####################\n",
    "    ### EXTER COLUMNS ##\n",
    "    ####################\n",
    "    \n",
    "    #COLUMN 1\n",
    "    \n",
    "    #BASE\n",
    "    shape.append(COLOR(YELLOW)\n",
    "        (T([3,2,1])([0,0.75,-1.7]) (S([1, 2])([1,1])(CYLINDER([0.8,0.1])(24))) ))\n",
    "    \n",
    "    shape.append(Column_ex(0,0.75,-1.7,0.9,1.6,4))        # COLUMN\n",
    "    shape.append(windows_wall_1(1.55,2,-0.95,0.3,0.4,4))  # WINDOWS \n",
    "    shape.append(SetColumns_1(0,1.5,-1.5,0.5,0.8,16))     # SET COLUMNS \n",
    "    \n",
    "    #COLUMN 2\n",
    "   \n",
    "    #BASE\n",
    "    shape.append(COLOR(YELLOW)\n",
    "        (T([3,2,1])([0,-0.75,1.7])(S([1, 2])([1,1])(CYLINDER([0.8,0.1])(24))) ))\n",
    "    \n",
    "   \n",
    "    shape.append(Column_ex(0,-0.75,1.7,0.9,1.6,4))        # COLUMN\n",
    "    shape.append(windows_wall_1(1.55,0.7,2.1,0.3,0.4,4))  # WINDOWS\n",
    "    shape.append(SetColumns_2(0,-1.5,1.5,0.5,0.8,16))     # SET COLUMNS\n",
    "    \n",
    "   \n",
    "    #COLUMNA 3 \n",
    "    \n",
    "    #BASE\n",
    "    shape.append(COLOR(YELLOW)\n",
    "        (T([3,2,1])([0,1.75,0.7])(S([1, 2])([1,1])(CYLINDER([0.8,0.1])(24))) ))\n",
    "    \n",
    "    shape.append(Column_ex(0,1.75,0.7,0.9,1.6,4))         # COLUMN\n",
    "    shape.append(windows_wall_2(1.55,1,1.95,0.3,0.4,4))   # WINDOWS\n",
    "    shape.append(SetColumns_3(0,1.6,1.2,0.5,0.8,16))      # SET COLUMNS\n",
    "    \n",
    "    #COLUMNA 4\n",
    "   \n",
    "    #BASE\n",
    "    shape.append(COLOR(YELLOW)\n",
    "        (T([3,2,1])([0,-1.75,-0.7])(S([1, 2])([1,1])(CYLINDER([0.8,0.1])(24))) )) \n",
    "    \n",
    "    shape.append(Column_ex(0,-1.75,-0.7,0.9,1.6,4))        # COLUMN\n",
    "    shape.append(windows_wall_2(1.55,-2,0.7,0.3,0.4,4))    # WINDOWS\n",
    "    shape.append(SetColumns_4(0,-1.6,-1.2,0.5,0.8,16))     # SET COLUMNS \n",
    "\n",
    "\n",
    "     \n",
    "   \n",
    "\n",
    "    \n",
    "    return STRUCT(shape)"
   ]
  },
  {
   "cell_type": "code",
   "execution_count": null,
   "metadata": {},
   "outputs": [
    {
     "name": "stdout",
     "output_type": "stream",
     "text": [
      "Child 3\n",
      "Child 3\n",
      "Child 3\n",
      "Child 3\n",
      "Child 3\n",
      "Child 3\n",
      "Child 3\n",
      "Child 3\n",
      "Child 3\n",
      "Child 3\n",
      "Child 3\n",
      "Child 3\n",
      "Child 3\n",
      "Child 3\n",
      "Child 3\n",
      "Child 3\n",
      "Child 3\n",
      "Child 3\n",
      "Child 3\n",
      "Child 3\n",
      "Child 3\n",
      "Child 3\n"
     ]
    }
   ],
   "source": [
    "VIEW(Church_2())"
   ]
  },
  {
   "cell_type": "code",
   "execution_count": null,
   "metadata": {
    "collapsed": true
   },
   "outputs": [],
   "source": []
  },
  {
   "cell_type": "code",
   "execution_count": null,
   "metadata": {
    "collapsed": true
   },
   "outputs": [],
   "source": []
  },
  {
   "cell_type": "code",
   "execution_count": null,
   "metadata": {
    "collapsed": true
   },
   "outputs": [],
   "source": []
  }
 ],
 "metadata": {
  "kernelspec": {
   "display_name": "Python 2",
   "language": "python",
   "name": "python2"
  },
  "language_info": {
   "codemirror_mode": {
    "name": "ipython",
    "version": 2
   },
   "file_extension": ".py",
   "mimetype": "text/x-python",
   "name": "python",
   "nbconvert_exporter": "python",
   "pygments_lexer": "ipython2",
   "version": "2.7.12"
  }
 },
 "nbformat": 4,
 "nbformat_minor": 2
}
